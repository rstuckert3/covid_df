{
 "cells": [
  {
   "cell_type": "markdown",
   "metadata": {},
   "source": [
    "Autor: Rodrigo Stuckert. Data: 2020-08-06"
   ]
  },
  {
   "cell_type": "markdown",
   "metadata": {},
   "source": [
    "# Análise da Covid-19 no Distrito Federal"
   ]
  },
  {
   "cell_type": "markdown",
   "metadata": {},
   "source": [
    "Este código foi feito para analisar os casos da covid-19 no Distrito Federal (DF). Os dados aqui utilizados são referentes ao dia 2020-08-05 18:00, e foram extraídos a partir da seguinte página: https://covid19.ssp.df.gov.br/extensions/covid19/covid19.html#/"
   ]
  },
  {
   "cell_type": "markdown",
   "metadata": {},
   "source": [
    "Cabe salientar que, a partir do dia 2020-07-09, houve uma alteração na disposição dos dados. Removeu-se o número de identificação de cada pessoa (**id**); adicionou-se uma nova variável, **dataPrimeirosintomas**, indicando o início dos sintomas; e, por fim, substitui-se a variável **Estado de Saúde** por uma **Óbito**, indicando se a pessoa faleceu até aquele dia, ou não. De fato, para fins do painel de dados próprio, a Secretaria de Saúde (SESDF) considera como casos recuperados aqueles em que a pessoa não foi a óbito ou se internou após sete dias do diagnóstico. "
   ]
  },
  {
   "cell_type": "markdown",
   "metadata": {},
   "source": [
    "Os pacotes aqui utilizados foram o dplyr e lubridate, para manipulação dos dados; e o ggplot2 e gridExtra, para a elaboração dos gráficos."
   ]
  },
  {
   "cell_type": "code",
   "execution_count": 1,
   "metadata": {},
   "outputs": [
    {
     "name": "stderr",
     "output_type": "stream",
     "text": [
      "Warning message:\n",
      "\"package 'dplyr' was built under R version 3.6.2\"\n",
      "Attaching package: 'dplyr'\n",
      "\n",
      "The following objects are masked from 'package:stats':\n",
      "\n",
      "    filter, lag\n",
      "\n",
      "The following objects are masked from 'package:base':\n",
      "\n",
      "    intersect, setdiff, setequal, union\n",
      "\n",
      "Warning message:\n",
      "\"package 'lubridate' was built under R version 3.6.2\"\n",
      "Attaching package: 'lubridate'\n",
      "\n",
      "The following object is masked from 'package:base':\n",
      "\n",
      "    date\n",
      "\n",
      "Warning message:\n",
      "\"package 'ggplot2' was built under R version 3.6.3\"Warning message:\n",
      "\"package 'gridExtra' was built under R version 3.6.2\"\n",
      "Attaching package: 'gridExtra'\n",
      "\n",
      "The following object is masked from 'package:dplyr':\n",
      "\n",
      "    combine\n",
      "\n"
     ]
    }
   ],
   "source": [
    "library(dplyr)\n",
    "library(lubridate) # Manipular datas\n",
    "library(ggplot2)\n",
    "library(gridExtra) # Plotar dois gráficos em uma única imagem"
   ]
  },
  {
   "cell_type": "markdown",
   "metadata": {},
   "source": [
    "## Extração dos dados"
   ]
  },
  {
   "cell_type": "markdown",
   "metadata": {},
   "source": [
    "Os dados estão no arquivo \"dados-abertos.csv\", dentro do diretório \"datasets\". Caso você queira baixar os dados mais recentes, no lugar, substitua essa referência pelo link mencionado abaixo. É importante ter em mente aqui que pode haver problemas de compatibilidade futuramente, caso a Secretaria de Saúde do DF (SESDF) eventualmente altere a disposição dos dados."
   ]
  },
  {
   "cell_type": "code",
   "execution_count": 2,
   "metadata": {
    "scrolled": true
   },
   "outputs": [],
   "source": [
    "file <- \"https://covid19.ssp.df.gov.br/resources/dados/dados-abertos.csv\"\n",
    "#file <- \"datasets/dados-abertos.csv\"\n",
    "df <- data.table::fread(file, encoding = \"UTF-8\", \n",
    "                        col.names = c(\"Data\", \"DataCadastro\", \"Sexo\",\n",
    "                                      \"FaixaEtaria\", \"RA\", \"UF\", \"Obito\", \"DataPrimeirosintomas\",\n",
    "                                      \"Pneumopatia\", \"Nefropatia\", \"DHematologica\",\n",
    "                                      \"DistMetabolico\", \"Imunopressao\", \"Obesidade\",\n",
    "                                      \"Outros\", \"Cardiovasculopatia\"),\n",
    "                        colClasses = list(factor= c(3, 6)) # Colunas Sexo e UF como factors\n",
    "                        )"
   ]
  },
  {
   "cell_type": "markdown",
   "metadata": {},
   "source": [
    "#### Verificando a importação do arquivo."
   ]
  },
  {
   "cell_type": "code",
   "execution_count": 3,
   "metadata": {
    "scrolled": true
   },
   "outputs": [
    {
     "name": "stdout",
     "output_type": "stream",
     "text": [
      "Classes 'data.table' and 'data.frame':\t123216 obs. of  16 variables:\n",
      " $ Data                : chr  \"10/08/2020\" \"10/08/2020\" \"10/08/2020\" \"10/08/2020\" ...\n",
      " $ DataCadastro        : chr  \"18/03/2020\" \"18/03/2020\" \"18/03/2020\" \"18/03/2020\" ...\n",
      " $ Sexo                : Factor w/ 2 levels \"Feminino\",\"Masculino\": 2 2 2 2 1 1 1 1 2 1 ...\n",
      " $ FaixaEtaria         : chr  \"50 a 59 anos\" \"40 a 49 anos\" \"40 a 49 anos\" \">= 60 anos\" ...\n",
      " $ RA                  : chr  \"Plano Piloto\" \"Plano Piloto\" \"Lago Sul\" \"Águas Claras\" ...\n",
      " $ UF                  : Factor w/ 28 levels \"\",\"ACRE\",\"ALAGOAS\",..: 8 8 8 8 8 8 8 8 8 8 ...\n",
      " $ Obito               : chr  \"Não\" \"Não\" \"Não\" \"Não\" ...\n",
      " $ DataPrimeirosintomas: chr  \"23/04/2020\" \"03/08/2020\" \"09/03/2020\" \"14/03/2020\" ...\n",
      " $ Pneumopatia         : chr  \"\" \"\" \"\" \"Não\" ...\n",
      " $ Nefropatia          : chr  \"\" \"\" \"\" \"Não\" ...\n",
      " $ DHematologica       : chr  \"\" \"\" \"\" \"Não\" ...\n",
      " $ DistMetabolico      : chr  \"\" \"\" \"\" \"Sim\" ...\n",
      " $ Imunopressao        : chr  \"\" \"\" \"\" \"Não\" ...\n",
      " $ Obesidade           : chr  \"\" \"\" \"\" \"Não\" ...\n",
      " $ Outros              : chr  \"\" \"\" \"\" \"Não\" ...\n",
      " $ Cardiovasculopatia  : chr  \"\" \"\" \"\" \"Sim\" ...\n",
      " - attr(*, \".internal.selfref\")=<externalptr> \n"
     ]
    }
   ],
   "source": [
    "str(df) # Estrutura"
   ]
  },
  {
   "cell_type": "code",
   "execution_count": 4,
   "metadata": {},
   "outputs": [
    {
     "data": {
      "text/html": [
       "<table>\n",
       "<thead><tr><th scope=col>Data</th><th scope=col>DataCadastro</th><th scope=col>Sexo</th><th scope=col>FaixaEtaria</th><th scope=col>RA</th><th scope=col>UF</th><th scope=col>Obito</th><th scope=col>DataPrimeirosintomas</th><th scope=col>Pneumopatia</th><th scope=col>Nefropatia</th><th scope=col>DHematologica</th><th scope=col>DistMetabolico</th><th scope=col>Imunopressao</th><th scope=col>Obesidade</th><th scope=col>Outros</th><th scope=col>Cardiovasculopatia</th></tr></thead>\n",
       "<tbody>\n",
       "\t<tr><td>10/08/2020      </td><td>18/03/2020      </td><td>Masculino       </td><td>50 a 59 anos    </td><td>Plano Piloto    </td><td>DISTRITO FEDERAL</td><td>Não             </td><td>23/04/2020      </td><td>                </td><td>                </td><td>                </td><td>                </td><td>                </td><td>                </td><td>                </td><td>                </td></tr>\n",
       "\t<tr><td>10/08/2020      </td><td>18/03/2020      </td><td>Masculino       </td><td>40 a 49 anos    </td><td>Plano Piloto    </td><td>DISTRITO FEDERAL</td><td>Não             </td><td>03/08/2020      </td><td>                </td><td>                </td><td>                </td><td>                </td><td>                </td><td>                </td><td>                </td><td>                </td></tr>\n",
       "\t<tr><td>10/08/2020      </td><td>18/03/2020      </td><td>Masculino       </td><td>40 a 49 anos    </td><td>Lago Sul        </td><td>DISTRITO FEDERAL</td><td>Não             </td><td>09/03/2020      </td><td>                </td><td>                </td><td>                </td><td>                </td><td>                </td><td>                </td><td>                </td><td>                </td></tr>\n",
       "\t<tr><td>10/08/2020                                             </td><td>18/03/2020                                             </td><td>Masculino                                              </td><td><span style=white-space:pre-wrap>&gt;= 60 anos  </span></td><td>Águas Claras                                           </td><td>DISTRITO FEDERAL                                       </td><td>Não                                                    </td><td>14/03/2020                                             </td><td>Não                                                    </td><td>Não                                                    </td><td>Não                                                    </td><td>Sim                                                    </td><td>Não                                                    </td><td>Não                                                    </td><td>Não                                                    </td><td>Sim                                                    </td></tr>\n",
       "\t<tr><td>10/08/2020      </td><td>18/03/2020      </td><td>Feminino        </td><td>20 a 29 anos    </td><td>Plano Piloto    </td><td>DISTRITO FEDERAL</td><td>Não             </td><td>14/03/2020      </td><td>                </td><td>                </td><td>                </td><td>                </td><td>                </td><td>                </td><td>                </td><td>                </td></tr>\n",
       "\t<tr><td>10/08/2020      </td><td>16/03/2020      </td><td>Feminino        </td><td>30 a 39 anos    </td><td>Plano Piloto    </td><td>DISTRITO FEDERAL</td><td>Não             </td><td>16/03/2020      </td><td>                </td><td>                </td><td>                </td><td>                </td><td>                </td><td>                </td><td>                </td><td>                </td></tr>\n",
       "</tbody>\n",
       "</table>\n"
      ],
      "text/latex": [
       "\\begin{tabular}{r|llllllllllllllll}\n",
       " Data & DataCadastro & Sexo & FaixaEtaria & RA & UF & Obito & DataPrimeirosintomas & Pneumopatia & Nefropatia & DHematologica & DistMetabolico & Imunopressao & Obesidade & Outros & Cardiovasculopatia\\\\\n",
       "\\hline\n",
       "\t 10/08/2020       & 18/03/2020       & Masculino        & 50 a 59 anos     & Plano Piloto     & DISTRITO FEDERAL & Não              & 23/04/2020       &                  &                  &                  &                  &                  &                  &                  &                 \\\\\n",
       "\t 10/08/2020       & 18/03/2020       & Masculino        & 40 a 49 anos     & Plano Piloto     & DISTRITO FEDERAL & Não              & 03/08/2020       &                  &                  &                  &                  &                  &                  &                  &                 \\\\\n",
       "\t 10/08/2020       & 18/03/2020       & Masculino        & 40 a 49 anos     & Lago Sul         & DISTRITO FEDERAL & Não              & 09/03/2020       &                  &                  &                  &                  &                  &                  &                  &                 \\\\\n",
       "\t 10/08/2020       & 18/03/2020       & Masculino        & >= 60 anos       & Águas Claras     & DISTRITO FEDERAL & Não              & 14/03/2020       & Não              & Não              & Não              & Sim              & Não              & Não              & Não              & Sim             \\\\\n",
       "\t 10/08/2020       & 18/03/2020       & Feminino         & 20 a 29 anos     & Plano Piloto     & DISTRITO FEDERAL & Não              & 14/03/2020       &                  &                  &                  &                  &                  &                  &                  &                 \\\\\n",
       "\t 10/08/2020       & 16/03/2020       & Feminino         & 30 a 39 anos     & Plano Piloto     & DISTRITO FEDERAL & Não              & 16/03/2020       &                  &                  &                  &                  &                  &                  &                  &                 \\\\\n",
       "\\end{tabular}\n"
      ],
      "text/markdown": [
       "\n",
       "| Data | DataCadastro | Sexo | FaixaEtaria | RA | UF | Obito | DataPrimeirosintomas | Pneumopatia | Nefropatia | DHematologica | DistMetabolico | Imunopressao | Obesidade | Outros | Cardiovasculopatia |\n",
       "|---|---|---|---|---|---|---|---|---|---|---|---|---|---|---|---|\n",
       "| 10/08/2020       | 18/03/2020       | Masculino        | 50 a 59 anos     | Plano Piloto     | DISTRITO FEDERAL | Não              | 23/04/2020       |                  |                  |                  |                  |                  |                  |                  |                  |\n",
       "| 10/08/2020       | 18/03/2020       | Masculino        | 40 a 49 anos     | Plano Piloto     | DISTRITO FEDERAL | Não              | 03/08/2020       |                  |                  |                  |                  |                  |                  |                  |                  |\n",
       "| 10/08/2020       | 18/03/2020       | Masculino        | 40 a 49 anos     | Lago Sul         | DISTRITO FEDERAL | Não              | 09/03/2020       |                  |                  |                  |                  |                  |                  |                  |                  |\n",
       "| 10/08/2020       | 18/03/2020       | Masculino        | >= 60 anos       | Águas Claras     | DISTRITO FEDERAL | Não              | 14/03/2020       | Não              | Não              | Não              | Sim              | Não              | Não              | Não              | Sim              |\n",
       "| 10/08/2020       | 18/03/2020       | Feminino         | 20 a 29 anos     | Plano Piloto     | DISTRITO FEDERAL | Não              | 14/03/2020       |                  |                  |                  |                  |                  |                  |                  |                  |\n",
       "| 10/08/2020       | 16/03/2020       | Feminino         | 30 a 39 anos     | Plano Piloto     | DISTRITO FEDERAL | Não              | 16/03/2020       |                  |                  |                  |                  |                  |                  |                  |                  |\n",
       "\n"
      ],
      "text/plain": [
       "  Data       DataCadastro Sexo      FaixaEtaria  RA           UF              \n",
       "1 10/08/2020 18/03/2020   Masculino 50 a 59 anos Plano Piloto DISTRITO FEDERAL\n",
       "2 10/08/2020 18/03/2020   Masculino 40 a 49 anos Plano Piloto DISTRITO FEDERAL\n",
       "3 10/08/2020 18/03/2020   Masculino 40 a 49 anos Lago Sul     DISTRITO FEDERAL\n",
       "4 10/08/2020 18/03/2020   Masculino >= 60 anos   Águas Claras DISTRITO FEDERAL\n",
       "5 10/08/2020 18/03/2020   Feminino  20 a 29 anos Plano Piloto DISTRITO FEDERAL\n",
       "6 10/08/2020 16/03/2020   Feminino  30 a 39 anos Plano Piloto DISTRITO FEDERAL\n",
       "  Obito DataPrimeirosintomas Pneumopatia Nefropatia DHematologica\n",
       "1 Não   23/04/2020                                               \n",
       "2 Não   03/08/2020                                               \n",
       "3 Não   09/03/2020                                               \n",
       "4 Não   14/03/2020           Não         Não        Não          \n",
       "5 Não   14/03/2020                                               \n",
       "6 Não   16/03/2020                                               \n",
       "  DistMetabolico Imunopressao Obesidade Outros Cardiovasculopatia\n",
       "1                                                                \n",
       "2                                                                \n",
       "3                                                                \n",
       "4 Sim            Não          Não       Não    Sim               \n",
       "5                                                                \n",
       "6                                                                "
      ]
     },
     "metadata": {},
     "output_type": "display_data"
    }
   ],
   "source": [
    "head(df) # Início\n",
    "# tail(df) # Fim"
   ]
  },
  {
   "cell_type": "markdown",
   "metadata": {},
   "source": [
    "## Tratamento dos dados"
   ]
  },
  {
   "cell_type": "markdown",
   "metadata": {},
   "source": [
    "#### Datas e faixa etária"
   ]
  },
  {
   "cell_type": "markdown",
   "metadata": {},
   "source": [
    "Uma vez que tudo está como deveria, podemos prosseguir com o tratamento dos dados. Primeiro iremos remover a coluna com a data da última atualização daquele dataset, e depois corrigir o formato da data de cadastro dos casos."
   ]
  },
  {
   "cell_type": "code",
   "execution_count": 5,
   "metadata": {
    "scrolled": true
   },
   "outputs": [
    {
     "data": {
      "text/html": [
       "<ol class=list-inline>\n",
       "\t<li><time datetime=\"2020-03-18\">2020-03-18</time></li>\n",
       "\t<li><time datetime=\"2020-03-18\">2020-03-18</time></li>\n",
       "\t<li><time datetime=\"2020-03-18\">2020-03-18</time></li>\n",
       "\t<li><time datetime=\"2020-03-18\">2020-03-18</time></li>\n",
       "\t<li><time datetime=\"2020-03-18\">2020-03-18</time></li>\n",
       "\t<li><time datetime=\"2020-03-16\">2020-03-16</time></li>\n",
       "</ol>\n"
      ],
      "text/latex": [
       "\\begin{enumerate*}\n",
       "\\item 2020-03-18\n",
       "\\item 2020-03-18\n",
       "\\item 2020-03-18\n",
       "\\item 2020-03-18\n",
       "\\item 2020-03-18\n",
       "\\item 2020-03-16\n",
       "\\end{enumerate*}\n"
      ],
      "text/markdown": [
       "1. 2020-03-18\n",
       "2. 2020-03-18\n",
       "3. 2020-03-18\n",
       "4. 2020-03-18\n",
       "5. 2020-03-18\n",
       "6. 2020-03-16\n",
       "\n",
       "\n"
      ],
      "text/plain": [
       "[1] \"2020-03-18\" \"2020-03-18\" \"2020-03-18\" \"2020-03-18\" \"2020-03-18\"\n",
       "[6] \"2020-03-16\""
      ]
     },
     "metadata": {},
     "output_type": "display_data"
    }
   ],
   "source": [
    "# Pega a data do dataset\n",
    "last_update <- df$Data[1]\n",
    "\n",
    "# Remove a coluna com a data da última atualização daqueles dados e corrige o formato das demais datas.\n",
    "df <- df %>%\n",
    "    select(-c(\"Data\")) %>%\n",
    "    mutate(DataCadastro = as.Date(DataCadastro, format = '%d/%m/%Y'),\n",
    "          DataPrimeirosintomas = as.Date(DataPrimeirosintomas, format = '%d/%m/%Y'))\n",
    "\n",
    "# Verificando\n",
    "head(df$DataCadastro)"
   ]
  },
  {
   "cell_type": "markdown",
   "metadata": {},
   "source": [
    "Adaptaremos o nome dos inputs da variável FaixaEtaria para que possamos torná-la uma factor corretamente:"
   ]
  },
  {
   "cell_type": "code",
   "execution_count": 6,
   "metadata": {
    "scrolled": true
   },
   "outputs": [],
   "source": [
    "# Corrige os nomes das faixas etárias e torna a variável factor.\n",
    "df <- df %>%\n",
    "  mutate(FaixaEtaria = ifelse(FaixaEtaria == \"<= 19 anos\", \"0 a 19 anos\", FaixaEtaria),\n",
    "         FaixaEtaria = ifelse(FaixaEtaria == \">= 60 anos\", \"60+ anos\", FaixaEtaria),\n",
    "         FaixaEtaria = as.factor(FaixaEtaria))"
   ]
  },
  {
   "cell_type": "markdown",
   "metadata": {},
   "source": [
    "#### Comorbidades e óbitos"
   ]
  },
  {
   "cell_type": "markdown",
   "metadata": {},
   "source": [
    "Devemos ter cautela especial quanto às variáveis de comorbidades. Inicialmente, pessoas com alguma comorbidade recebiam \"Sim\" para aquelas que apresentassem, e \"Não\" para todas as demais, enquanto que quem não apresentasse nenhuma aparecia como NA para todas. Após determinada data, ao que tudo indica, o GDF passou a apenas a categorizar aqueles que apresentassem alguma comorbidade."
   ]
  },
  {
   "cell_type": "markdown",
   "metadata": {},
   "source": [
    "Dessa forma, iremos primeiro transformá-las em números inteiros (1 == \"Sim\", 0 == \"Não\"), e depois criar uma variável \"Tem comorbidade?\", que recebe valor 1 se a pessoa apresentar pelo menos uma comorbidade, e 0 caso contrário. Note aqui que as variáveis de comorbidades correspondem às colunas de 8 a 15 do nosso dataframe. Faremos esse mesmo tratamento para a variável \"Obito\", de número 6."
   ]
  },
  {
   "cell_type": "code",
   "execution_count": 7,
   "metadata": {},
   "outputs": [],
   "source": [
    "# Bota os valores das comorbidades como binários (Apresenta = 1, não apresenta / NA = 0) e converte para inteiro.\n",
    "df[, c(6, 8:15)] <- df[, c(6, 8:15)] %>%\n",
    "  apply(MARGIN = 2, FUN = function(x) ifelse(x == \"Sim\", 1, 0)) %>% # Função lambda\n",
    "  apply(MARGIN = 2, FUN = as.integer) # Margin = 2: aplica a função \"FUN\" às COLUNAS\n",
    "     \n",
    "# Cria a variável \"Tem comorbidade?\", como número inteiro.\n",
    "df <- df %>%  \n",
    "  mutate(Comorbidade = as.integer(case_when(Pneumopatia + Nefropatia + DHematologica + DistMetabolico + Imunopressao + Outros + Cardiovasculopatia > 0 ~ 1, TRUE ~ 0)))"
   ]
  },
  {
   "cell_type": "markdown",
   "metadata": {},
   "source": [
    "Conferindo:"
   ]
  },
  {
   "cell_type": "code",
   "execution_count": 8,
   "metadata": {},
   "outputs": [
    {
     "name": "stdout",
     "output_type": "stream",
     "text": [
      "'data.frame':\t123216 obs. of  10 variables:\n",
      " $ Obito             : int  0 0 0 0 0 0 0 0 0 0 ...\n",
      " $ Pneumopatia       : int  0 0 0 0 0 0 0 0 0 0 ...\n",
      " $ Nefropatia        : int  0 0 0 0 0 0 0 0 0 0 ...\n",
      " $ DHematologica     : int  0 0 0 0 0 0 0 0 0 0 ...\n",
      " $ DistMetabolico    : int  0 0 0 1 0 0 0 1 0 0 ...\n",
      " $ Imunopressao      : int  0 0 0 0 0 0 0 1 0 0 ...\n",
      " $ Obesidade         : int  0 0 0 0 0 0 0 1 0 0 ...\n",
      " $ Outros            : int  0 0 0 0 0 0 0 0 0 0 ...\n",
      " $ Cardiovasculopatia: int  0 0 0 1 0 0 0 0 0 0 ...\n",
      " $ Comorbidade       : int  0 0 0 1 0 0 0 1 0 0 ...\n"
     ]
    }
   ],
   "source": [
    "str(df[, c(6, 8:16)]) # Confere as variáveis alteradas."
   ]
  },
  {
   "cell_type": "markdown",
   "metadata": {},
   "source": [
    "## Análise exploratória e visualização"
   ]
  },
  {
   "cell_type": "markdown",
   "metadata": {},
   "source": [
    "Agora, seguiremos com a análise exploratória dos dados. Primeiro, geraremos agregações dos dados por categorias de interesse; em seguida, prosseguiremos com a elaboração de gráficos."
   ]
  },
  {
   "cell_type": "markdown",
   "metadata": {},
   "source": [
    "### Representação dos óbitos por faixa etária"
   ]
  },
  {
   "cell_type": "markdown",
   "metadata": {},
   "source": [
    "Nosso primeiro agrupamento será por faixa etária."
   ]
  },
  {
   "cell_type": "code",
   "execution_count": 9,
   "metadata": {},
   "outputs": [
    {
     "data": {
      "text/html": [
       "<table>\n",
       "<thead><tr><th scope=col>Obito</th><th scope=col>FaixaEtaria</th><th scope=col>casos</th><th scope=col>num_obitos</th><th scope=col>pct_obitos</th><th scope=col>pct_comorbidade</th><th scope=col>pct_mulheres</th><th scope=col>perc</th></tr></thead>\n",
       "<tbody>\n",
       "\t<tr><td>0           </td><td>0 a 19 anos </td><td> 8678       </td><td>   0        </td><td>0.000000000 </td><td>0.03249597  </td><td>0.5206269   </td><td> 7.1        </td></tr>\n",
       "\t<tr><td>0           </td><td>20 a 29 anos</td><td>22913       </td><td>   0        </td><td>0.000000000 </td><td>0.03295073  </td><td>0.5386025   </td><td>18.9        </td></tr>\n",
       "\t<tr><td>0           </td><td>30 a 39 anos</td><td>33228       </td><td>   0        </td><td>0.000000000 </td><td>0.04114000  </td><td>0.5319610   </td><td>27.4        </td></tr>\n",
       "\t<tr><td>0           </td><td>40 a 49 anos</td><td>27339       </td><td>   0        </td><td>0.000000000 </td><td>0.07776437  </td><td>0.5244157   </td><td>22.5        </td></tr>\n",
       "\t<tr><td>0           </td><td>50 a 59 anos</td><td>16693       </td><td>   0        </td><td>0.000000000 </td><td>0.14634877  </td><td>0.5347751   </td><td>13.7        </td></tr>\n",
       "\t<tr><td>0           </td><td>60+ anos    </td><td>12617       </td><td>   0        </td><td>0.000000000 </td><td>0.22239835  </td><td>0.5490212   </td><td>10.4        </td></tr>\n",
       "\t<tr><td>1           </td><td>0 a 19 anos </td><td>    5       </td><td>   5        </td><td>0.002860412 </td><td>0.40000000  </td><td>0.8000000   </td><td> 0.3        </td></tr>\n",
       "\t<tr><td>1           </td><td>20 a 29 anos</td><td>   19       </td><td>  19        </td><td>0.010869565 </td><td>0.52631579  </td><td>0.3684211   </td><td> 1.1        </td></tr>\n",
       "\t<tr><td>1           </td><td>30 a 39 anos</td><td>   68       </td><td>  68        </td><td>0.038901602 </td><td>0.61764706  </td><td>0.3823529   </td><td> 3.9        </td></tr>\n",
       "\t<tr><td>1           </td><td>40 a 49 anos</td><td>  141       </td><td> 141        </td><td>0.080663616 </td><td>0.70212766  </td><td>0.3191489   </td><td> 8.1        </td></tr>\n",
       "\t<tr><td>1           </td><td>50 a 59 anos</td><td>  238       </td><td> 238        </td><td>0.136155606 </td><td>0.81512605  </td><td>0.3361345   </td><td>13.6        </td></tr>\n",
       "\t<tr><td>1           </td><td>60+ anos    </td><td> 1277       </td><td>1277        </td><td>0.730549199 </td><td>0.87470634  </td><td>0.4306969   </td><td>73.1        </td></tr>\n",
       "</tbody>\n",
       "</table>\n"
      ],
      "text/latex": [
       "\\begin{tabular}{r|llllllll}\n",
       " Obito & FaixaEtaria & casos & num\\_obitos & pct\\_obitos & pct\\_comorbidade & pct\\_mulheres & perc\\\\\n",
       "\\hline\n",
       "\t 0            & 0 a 19 anos  &  8678        &    0         & 0.000000000  & 0.03249597   & 0.5206269    &  7.1        \\\\\n",
       "\t 0            & 20 a 29 anos & 22913        &    0         & 0.000000000  & 0.03295073   & 0.5386025    & 18.9        \\\\\n",
       "\t 0            & 30 a 39 anos & 33228        &    0         & 0.000000000  & 0.04114000   & 0.5319610    & 27.4        \\\\\n",
       "\t 0            & 40 a 49 anos & 27339        &    0         & 0.000000000  & 0.07776437   & 0.5244157    & 22.5        \\\\\n",
       "\t 0            & 50 a 59 anos & 16693        &    0         & 0.000000000  & 0.14634877   & 0.5347751    & 13.7        \\\\\n",
       "\t 0            & 60+ anos     & 12617        &    0         & 0.000000000  & 0.22239835   & 0.5490212    & 10.4        \\\\\n",
       "\t 1            & 0 a 19 anos  &     5        &    5         & 0.002860412  & 0.40000000   & 0.8000000    &  0.3        \\\\\n",
       "\t 1            & 20 a 29 anos &    19        &   19         & 0.010869565  & 0.52631579   & 0.3684211    &  1.1        \\\\\n",
       "\t 1            & 30 a 39 anos &    68        &   68         & 0.038901602  & 0.61764706   & 0.3823529    &  3.9        \\\\\n",
       "\t 1            & 40 a 49 anos &   141        &  141         & 0.080663616  & 0.70212766   & 0.3191489    &  8.1        \\\\\n",
       "\t 1            & 50 a 59 anos &   238        &  238         & 0.136155606  & 0.81512605   & 0.3361345    & 13.6        \\\\\n",
       "\t 1            & 60+ anos     &  1277        & 1277         & 0.730549199  & 0.87470634   & 0.4306969    & 73.1        \\\\\n",
       "\\end{tabular}\n"
      ],
      "text/markdown": [
       "\n",
       "| Obito | FaixaEtaria | casos | num_obitos | pct_obitos | pct_comorbidade | pct_mulheres | perc |\n",
       "|---|---|---|---|---|---|---|---|\n",
       "| 0            | 0 a 19 anos  |  8678        |    0         | 0.000000000  | 0.03249597   | 0.5206269    |  7.1         |\n",
       "| 0            | 20 a 29 anos | 22913        |    0         | 0.000000000  | 0.03295073   | 0.5386025    | 18.9         |\n",
       "| 0            | 30 a 39 anos | 33228        |    0         | 0.000000000  | 0.04114000   | 0.5319610    | 27.4         |\n",
       "| 0            | 40 a 49 anos | 27339        |    0         | 0.000000000  | 0.07776437   | 0.5244157    | 22.5         |\n",
       "| 0            | 50 a 59 anos | 16693        |    0         | 0.000000000  | 0.14634877   | 0.5347751    | 13.7         |\n",
       "| 0            | 60+ anos     | 12617        |    0         | 0.000000000  | 0.22239835   | 0.5490212    | 10.4         |\n",
       "| 1            | 0 a 19 anos  |     5        |    5         | 0.002860412  | 0.40000000   | 0.8000000    |  0.3         |\n",
       "| 1            | 20 a 29 anos |    19        |   19         | 0.010869565  | 0.52631579   | 0.3684211    |  1.1         |\n",
       "| 1            | 30 a 39 anos |    68        |   68         | 0.038901602  | 0.61764706   | 0.3823529    |  3.9         |\n",
       "| 1            | 40 a 49 anos |   141        |  141         | 0.080663616  | 0.70212766   | 0.3191489    |  8.1         |\n",
       "| 1            | 50 a 59 anos |   238        |  238         | 0.136155606  | 0.81512605   | 0.3361345    | 13.6         |\n",
       "| 1            | 60+ anos     |  1277        | 1277         | 0.730549199  | 0.87470634   | 0.4306969    | 73.1         |\n",
       "\n"
      ],
      "text/plain": [
       "   Obito FaixaEtaria  casos num_obitos pct_obitos  pct_comorbidade pct_mulheres\n",
       "1  0     0 a 19 anos   8678    0       0.000000000 0.03249597      0.5206269   \n",
       "2  0     20 a 29 anos 22913    0       0.000000000 0.03295073      0.5386025   \n",
       "3  0     30 a 39 anos 33228    0       0.000000000 0.04114000      0.5319610   \n",
       "4  0     40 a 49 anos 27339    0       0.000000000 0.07776437      0.5244157   \n",
       "5  0     50 a 59 anos 16693    0       0.000000000 0.14634877      0.5347751   \n",
       "6  0     60+ anos     12617    0       0.000000000 0.22239835      0.5490212   \n",
       "7  1     0 a 19 anos      5    5       0.002860412 0.40000000      0.8000000   \n",
       "8  1     20 a 29 anos    19   19       0.010869565 0.52631579      0.3684211   \n",
       "9  1     30 a 39 anos    68   68       0.038901602 0.61764706      0.3823529   \n",
       "10 1     40 a 49 anos   141  141       0.080663616 0.70212766      0.3191489   \n",
       "11 1     50 a 59 anos   238  238       0.136155606 0.81512605      0.3361345   \n",
       "12 1     60+ anos      1277 1277       0.730549199 0.87470634      0.4306969   \n",
       "   perc\n",
       "1   7.1\n",
       "2  18.9\n",
       "3  27.4\n",
       "4  22.5\n",
       "5  13.7\n",
       "6  10.4\n",
       "7   0.3\n",
       "8   1.1\n",
       "9   3.9\n",
       "10  8.1\n",
       "11 13.6\n",
       "12 73.1"
      ]
     },
     "metadata": {},
     "output_type": "display_data"
    }
   ],
   "source": [
    "# Agrupa os dados por Faixa Etária e por Óbito (\"Sim\" ou \"Não\")\n",
    "df_FaixaEtaria <- df %>% \n",
    "  group_by(Obito, FaixaEtaria) %>%\n",
    "  summarise(casos = n(),\n",
    "            num_obitos = sum(Obito),\n",
    "            pct_obitos = num_obitos / sum(df$Obito), # Perecntual dentre o total de óbitos\n",
    "            pct_comorbidade = sum(Comorbidade == 1) / casos,\n",
    "            pct_mulheres = sum(Sexo == \"Feminino\")/casos,\n",
    "  ) %>%\n",
    "  mutate(perc = round(100 * (casos / sum(casos)), 1)) # Qual o % daquela faixa etária entre as categorias da variável Óbito\n",
    "\n",
    "df_FaixaEtaria"
   ]
  },
  {
   "cell_type": "markdown",
   "metadata": {},
   "source": [
    "Note aqui que a variável \"pct_obitos\" aqui criada mostra a participação daquele grupo dentre o total de óbitos da amostra."
   ]
  },
  {
   "cell_type": "markdown",
   "metadata": {},
   "source": [
    "#### Gráfico"
   ]
  },
  {
   "cell_type": "markdown",
   "metadata": {},
   "source": [
    "O gráfico abaixo mostra a parcela de cada faixa etária dentre os óbitos (esquerda) e dentro da amostra completa (direita). É visível que os mais idosos são o maior grupo dentre os óbitos - mais de 75% -, enquanto são apenas ~10% dos casos."
   ]
  },
  {
   "cell_type": "code",
   "execution_count": 10,
   "metadata": {
    "scrolled": true
   },
   "outputs": [
    {
     "data": {
      "image/png": "[encoded data removed]",
      "text/plain": [
       "plot without title"
      ]
     },
     "metadata": {},
     "output_type": "display_data"
    }
   ],
   "source": [
    "# Representação percentual de cada faixa etária entre os óbitos\n",
    "fx1 <- df_FaixaEtaria %>%\n",
    " filter(Obito == 1) %>%\n",
    " ggplot(aes(x = FaixaEtaria,\n",
    "            weight = 100 * casos/sum(casos), \n",
    "            fill = FaixaEtaria)) +\n",
    " geom_bar(show.legend = FALSE) + # Retira as legendas\n",
    " scale_fill_brewer(palette = \"Oranges\") + # Paleta de cores\n",
    " coord_flip() + # Inverte os eixos x e y\n",
    " theme_minimal() + # Fundo branco\n",
    " ylim(0, 75) + # Escala: 0 a 75%\n",
    " labs(x = NULL, y = \"Óbitos\")\n",
    "\n",
    "\n",
    "# Representação percentual de cada faixa etária na amostra total\n",
    "fx2 <- df_FaixaEtaria %>%\n",
    " ggplot(aes(x = FaixaEtaria, \n",
    "            fill = FaixaEtaria,\n",
    "            weight = 100 * casos/sum(casos))) +\n",
    " geom_bar(show.legend = FALSE) +\n",
    " scale_fill_brewer(palette = \"Oranges\") +\n",
    " coord_flip() +\n",
    " theme_minimal() +\n",
    " ylim(0, 75) + # Escala: 0 a 75%\n",
    " labs(x = NULL, y = \"Amostra toda\")\n",
    "\n",
    "\n",
    "# Plotando os dois gráficos juntos (biblioteca gridExtra)\n",
    "#png(\"covid_genero.png\", height=4, width=8, units=\"in\", res=120)\n",
    "grid.arrange(fx1, fx2, nrow=1,\n",
    "            top = stringr::str_c(\"Representação percentual da covid-19 no DF por faixa etária\\n Dados até \", last_update))# Título\n",
    "#dev.off()"
   ]
  },
  {
   "cell_type": "code",
   "execution_count": 11,
   "metadata": {},
   "outputs": [
    {
     "name": "stdout",
     "output_type": "stream",
     "text": [
      "[1] \"Os idosos representam apenas 11% da amostra, mas são 73% dos casos de óbito.\"\n"
     ]
    }
   ],
   "source": [
    "pct_idosos_obitos <- round(df_FaixaEtaria[12, 8], 0)\n",
    "pct_idosos_total <- round((100 * sum(df$FaixaEtaria == \"60+ anos\")/nrow(df)), 0)\n",
    "\n",
    "print(stringr::str_c(\"Os idosos representam apenas \", pct_idosos_total, \"% da amostra, mas são \",\n",
    "                    pct_idosos_obitos, \"% dos casos de óbito.\"))"
   ]
  },
  {
   "cell_type": "markdown",
   "metadata": {},
   "source": [
    "### Taxa de mortalidade por gênero\n",
    "\n",
    "Iremos agora gerar as estatísticas agregadas pelo sexo declarado das pessoas."
   ]
  },
  {
   "cell_type": "code",
   "execution_count": 12,
   "metadata": {},
   "outputs": [
    {
     "data": {
      "text/html": [
       "<table>\n",
       "<thead><tr><th scope=col>Sexo</th><th scope=col>casos</th><th scope=col>obitos</th><th scope=col>mortalidade</th><th scope=col>pct_comorbidade</th></tr></thead>\n",
       "<tbody>\n",
       "\t<tr><td>Feminino  </td><td>65438     </td><td> 712      </td><td>0.01088053</td><td>0.09418075</td></tr>\n",
       "\t<tr><td>Masculino </td><td>57778     </td><td>1036      </td><td>0.01793070</td><td>0.08792274</td></tr>\n",
       "</tbody>\n",
       "</table>\n"
      ],
      "text/latex": [
       "\\begin{tabular}{r|lllll}\n",
       " Sexo & casos & obitos & mortalidade & pct\\_comorbidade\\\\\n",
       "\\hline\n",
       "\t Feminino   & 65438      &  712       & 0.01088053 & 0.09418075\\\\\n",
       "\t Masculino  & 57778      & 1036       & 0.01793070 & 0.08792274\\\\\n",
       "\\end{tabular}\n"
      ],
      "text/markdown": [
       "\n",
       "| Sexo | casos | obitos | mortalidade | pct_comorbidade |\n",
       "|---|---|---|---|---|\n",
       "| Feminino   | 65438      |  712       | 0.01088053 | 0.09418075 |\n",
       "| Masculino  | 57778      | 1036       | 0.01793070 | 0.08792274 |\n",
       "\n"
      ],
      "text/plain": [
       "  Sexo      casos obitos mortalidade pct_comorbidade\n",
       "1 Feminino  65438  712   0.01088053  0.09418075     \n",
       "2 Masculino 57778 1036   0.01793070  0.08792274     "
      ]
     },
     "metadata": {},
     "output_type": "display_data"
    }
   ],
   "source": [
    "df_Sexo <- df %>% \n",
    "  group_by(Sexo) %>%\n",
    "  summarise(casos = n(),\n",
    "            obitos = sum(Obito),\n",
    "            mortalidade = obitos / casos,\n",
    "            pct_comorbidade = sum(Comorbidade == 1) / casos\n",
    "            )\n",
    "\n",
    "head(df_Sexo)"
   ]
  },
  {
   "cell_type": "markdown",
   "metadata": {},
   "source": [
    "#### Mortalidade por grupos"
   ]
  },
  {
   "cell_type": "code",
   "execution_count": 13,
   "metadata": {},
   "outputs": [
    {
     "name": "stdout",
     "output_type": "stream",
     "text": [
      "[1] \"A mortalidade observada entre as mulheres foi de 1.1%\"\n",
      "[1] \"A mortalidade observada entre os homens foi de 1.8%\"\n",
      "[1] \"A média da amostra completa foi de 1.4%\"\n"
     ]
    }
   ],
   "source": [
    "print(stringr::str_c(\"A mortalidade observada entre as mulheres foi de \", round(df_Sexo[1, 4] * 100, 1), \"%\"))\n",
    "print(stringr::str_c(\"A mortalidade observada entre os homens foi de \", round(df_Sexo[2, 4] * 100, 1), \"%\"))\n",
    "print(stringr::str_c(\"A média da amostra completa foi de \", \n",
    "                     round(100 * sum(df_Sexo$obitos) / sum(df_Sexo$casos), 1), \"%\"))"
   ]
  },
  {
   "cell_type": "markdown",
   "metadata": {},
   "source": [
    "#### Gráfico"
   ]
  },
  {
   "cell_type": "code",
   "execution_count": 14,
   "metadata": {
    "scrolled": true
   },
   "outputs": [
    {
     "data": {
      "image/png": "[encoded data removed]",
      "text/plain": [
       "plot without title"
      ]
     },
     "metadata": {},
     "output_type": "display_data"
    }
   ],
   "source": [
    "# Gráfico de mortalidade\n",
    "df_Sexo %>%\n",
    " ggplot(aes(x = Sexo, y = mortalidade * 100)) +\n",
    " geom_bar(stat = \"identity\", fill = c(\"#fd4343\", \"#00BFC4\")) +\n",
    " geom_text(aes(x = Sexo, y = mortalidade * 100, \n",
    "               label = paste(c(round(mortalidade * 100, 1)), \"%\")), # Rótulo da mortalidade\n",
    "           vjust=-0.5) + # Distância vertical\n",
    " theme_minimal() + # Fundo branco\n",
    " labs(x = NULL, y = NULL,\n",
    "     title = \"Mortalidade por covid-19 no DF por sexo da pessoa\",\n",
    "     subtitle = stringr::str_c(\"Dados até \", last_update),\n",
    "     caption = \"Fonte: SESDF / SSP-DF \\n Elaboração: @stuquer_\") + # Rodapé\n",
    " theme(plot.subtitle = element_text(color=\"black\", face=\"plain\")) # Edita o subtítulo"
   ]
  },
  {
   "cell_type": "markdown",
   "metadata": {},
   "source": [
    "#### Significância estatística da diferença"
   ]
  },
  {
   "cell_type": "markdown",
   "metadata": {},
   "source": [
    "Veremos agora se essa diferença na mortalidade de mulheres e homens é estatisticamente significante. Isso será confirmado se o p-valor do teste de proporções for menor ou igual a 0.1 (10%). A interpretação do resultado será impressa na última linha do *output*."
   ]
  },
  {
   "cell_type": "code",
   "execution_count": 15,
   "metadata": {
    "scrolled": false
   },
   "outputs": [
    {
     "data": {
      "text/plain": [
       "\n",
       "\t2-sample test for equality of proportions without continuity\n",
       "\tcorrection\n",
       "\n",
       "data:  df_Sexo$obitos out of df_Sexo$casos\n",
       "X-squared = 109.06, df = 1, p-value < 2.2e-16\n",
       "alternative hypothesis: two.sided\n",
       "95 percent confidence interval:\n",
       " -0.008392764 -0.005707580\n",
       "sample estimates:\n",
       "    prop 1     prop 2 \n",
       "0.01088053 0.01793070 \n"
      ]
     },
     "metadata": {},
     "output_type": "display_data"
    },
    {
     "name": "stdout",
     "output_type": "stream",
     "text": [
      "[1] \"De acordo com o p-valor do teste, essa diferença é significante ao nível de 1% (!!!)\"\n"
     ]
    }
   ],
   "source": [
    "# Teste bicaudal\n",
    "our_test <- prop.test(df_Sexo$obitos, df_Sexo$casos, p = NULL, alternative = \"two.sided\",\n",
    "          correct = FALSE)\n",
    "\n",
    "pvalor <- our_test$p.value\n",
    "\n",
    "our_test\n",
    "\n",
    "if (pvalor > 0.10){\n",
    "    print(\"De acordo com o p-valor do teste, essa diferença não é estatísticamente significante\")\n",
    "} else if (pvalor > 0.05) {\n",
    "    print(\"De acordo com o p-valor do teste, essa diferença é significante ao nível de 10%\")\n",
    "} else if (pvalor > 0.01) {\n",
    "    print(\"De acordo com o p-valor do teste, essa diferença é significante ao nível de 5%\")\n",
    "} else {\n",
    "    print(\"De acordo com o p-valor do teste, essa diferença é significante ao nível de 1% (!!!)\")\n",
    "}"
   ]
  },
  {
   "cell_type": "markdown",
   "metadata": {},
   "source": [
    "### Mortalidade por Região Administrativa"
   ]
  },
  {
   "cell_type": "markdown",
   "metadata": {},
   "source": [
    "Agora, analisaremos os dados agregados por Região Administrativa (RA). Primeiro iremos corrigir o nome das factor Águas Claras e Estrutural, e em seguida vamos agrupar os dados por RA. Por fim, criaremos o gráfico de taxa de mortalidade por RA."
   ]
  },
  {
   "cell_type": "code",
   "execution_count": 16,
   "metadata": {},
   "outputs": [
    {
     "data": {
      "text/html": [
       "<table>\n",
       "<thead><tr><th scope=col>RA</th><th scope=col>casos</th><th scope=col>obitos</th><th scope=col>mortalidade</th><th scope=col>pct_comorbidade</th><th scope=col>pct_mulheres</th><th scope=col>pct_homens</th></tr></thead>\n",
       "<tbody>\n",
       "\t<tr><td>Aguas Claras  </td><td> 5372         </td><td> 45           </td><td>0.008376768   </td><td>0.05398362    </td><td>0.5236411     </td><td>0.4763589     </td></tr>\n",
       "\t<tr><td>Arniqueira    </td><td>  431         </td><td>  8           </td><td>0.018561485   </td><td>0.09280742    </td><td>0.5127610     </td><td>0.4872390     </td></tr>\n",
       "\t<tr><td>Brazlândia    </td><td> 1588         </td><td> 35           </td><td>0.022040302   </td><td>0.16183879    </td><td>0.5491184     </td><td>0.4508816     </td></tr>\n",
       "\t<tr><td>Candangolândia</td><td>  767         </td><td> 11           </td><td>0.014341591   </td><td>0.13037810    </td><td>0.5697523     </td><td>0.4302477     </td></tr>\n",
       "\t<tr><td>Ceilândia     </td><td>14699         </td><td>312           </td><td>0.021225934   </td><td>0.11449758    </td><td>0.5526907     </td><td>0.4473093     </td></tr>\n",
       "\t<tr><td>Cruzeiro      </td><td> 1087         </td><td> 10           </td><td>0.009199632   </td><td>0.08371665    </td><td>0.5271389     </td><td>0.4728611     </td></tr>\n",
       "</tbody>\n",
       "</table>\n"
      ],
      "text/latex": [
       "\\begin{tabular}{r|lllllll}\n",
       " RA & casos & obitos & mortalidade & pct\\_comorbidade & pct\\_mulheres & pct\\_homens\\\\\n",
       "\\hline\n",
       "\t Aguas Claras   &  5372          &  45            & 0.008376768    & 0.05398362     & 0.5236411      & 0.4763589     \\\\\n",
       "\t Arniqueira     &   431          &   8            & 0.018561485    & 0.09280742     & 0.5127610      & 0.4872390     \\\\\n",
       "\t Brazlândia     &  1588          &  35            & 0.022040302    & 0.16183879     & 0.5491184      & 0.4508816     \\\\\n",
       "\t Candangolândia &   767          &  11            & 0.014341591    & 0.13037810     & 0.5697523      & 0.4302477     \\\\\n",
       "\t Ceilândia      & 14699          & 312            & 0.021225934    & 0.11449758     & 0.5526907      & 0.4473093     \\\\\n",
       "\t Cruzeiro       &  1087          &  10            & 0.009199632    & 0.08371665     & 0.5271389      & 0.4728611     \\\\\n",
       "\\end{tabular}\n"
      ],
      "text/markdown": [
       "\n",
       "| RA | casos | obitos | mortalidade | pct_comorbidade | pct_mulheres | pct_homens |\n",
       "|---|---|---|---|---|---|---|\n",
       "| Aguas Claras   |  5372          |  45            | 0.008376768    | 0.05398362     | 0.5236411      | 0.4763589      |\n",
       "| Arniqueira     |   431          |   8            | 0.018561485    | 0.09280742     | 0.5127610      | 0.4872390      |\n",
       "| Brazlândia     |  1588          |  35            | 0.022040302    | 0.16183879     | 0.5491184      | 0.4508816      |\n",
       "| Candangolândia |   767          |  11            | 0.014341591    | 0.13037810     | 0.5697523      | 0.4302477      |\n",
       "| Ceilândia      | 14699          | 312            | 0.021225934    | 0.11449758     | 0.5526907      | 0.4473093      |\n",
       "| Cruzeiro       |  1087          |  10            | 0.009199632    | 0.08371665     | 0.5271389      | 0.4728611      |\n",
       "\n"
      ],
      "text/plain": [
       "  RA             casos obitos mortalidade pct_comorbidade pct_mulheres\n",
       "1 Aguas Claras    5372  45    0.008376768 0.05398362      0.5236411   \n",
       "2 Arniqueira       431   8    0.018561485 0.09280742      0.5127610   \n",
       "3 Brazlândia      1588  35    0.022040302 0.16183879      0.5491184   \n",
       "4 Candangolândia   767  11    0.014341591 0.13037810      0.5697523   \n",
       "5 Ceilândia      14699 312    0.021225934 0.11449758      0.5526907   \n",
       "6 Cruzeiro        1087  10    0.009199632 0.08371665      0.5271389   \n",
       "  pct_homens\n",
       "1 0.4763589 \n",
       "2 0.4872390 \n",
       "3 0.4508816 \n",
       "4 0.4302477 \n",
       "5 0.4473093 \n",
       "6 0.4728611 "
      ]
     },
     "metadata": {},
     "output_type": "display_data"
    }
   ],
   "source": [
    "# Retira o acento de \"Águas Claras\", para evitar problemas com ordem alfabética\n",
    "df <- df %>%\n",
    "  mutate(RA = ifelse(RA == \"Águas Claras\", \"Aguas Claras\", RA),\n",
    "         RA = ifelse(RA == \"SCIA\", \"Estrutural\", RA), # Estrutural constava como SCIA\n",
    "        )\n",
    "         #RA = as.factor(RA))\n",
    "\n",
    "# Agrupa os dados por RA\n",
    "df_RA <- df %>% \n",
    "  group_by(RA) %>%\n",
    "  summarise(casos = n(),\n",
    "            obitos = sum(Obito),\n",
    "            mortalidade = obitos / casos,\n",
    "            pct_comorbidade = sum(Comorbidade == 1) / casos,\n",
    "            pct_mulheres = sum(Sexo == \"Feminino\")/casos,\n",
    "            pct_homens = 1 - pct_mulheres\n",
    "            )\n",
    "\n",
    "head(df_RA)"
   ]
  },
  {
   "cell_type": "markdown",
   "metadata": {},
   "source": [
    "#### Gráfico"
   ]
  },
  {
   "cell_type": "markdown",
   "metadata": {},
   "source": [
    "Gerando agora o gráfico de mortalidade por Região Administrativa, excluídos os casos em que essa informação consta como \"Não Informado\" ou \"Outros Estados\""
   ]
  },
  {
   "cell_type": "code",
   "execution_count": 17,
   "metadata": {
    "scrolled": true
   },
   "outputs": [
    {
     "data": {
      "image/png": "[encoded data removed]",
      "text/plain": [
       "plot without title"
      ]
     },
     "metadata": {},
     "output_type": "display_data"
    }
   ],
   "source": [
    "df_RA %>%\n",
    " filter(RA != \"Não Informado\", RA != \"Outros Estados\") %>%\n",
    " ggplot(aes(x = reorder(RA, mortalidade), y = mortalidade * 100)) +\n",
    " geom_bar(stat = \"identity\", fill = \"red\") +\n",
    " geom_hline(yintercept=(100* sum(df$Obito) / nrow(df)), linetype=\"dashed\", color = \"black\") + # Linha da média\n",
    " coord_flip() +  # Deixa o gráfico na horizontal\n",
    " theme_minimal() + # Fundo branco\n",
    " theme(plot.title = element_text(face = \"bold\")) + # Título em negrito\n",
    " labs(x = NULL, y = NULL,\n",
    "      title = \"Mortalidade em casos de covid-19 no DF (em %)\",\n",
    "      subtitle = stringr::str_c(\"Dados até \", last_update),\n",
    "      caption = \"Fonte: SESDF / SSP-DF \\n Elaboração: @stuquer_\") # Rodapé"
   ]
  },
  {
   "cell_type": "code",
   "execution_count": 34,
   "metadata": {},
   "outputs": [
    {
     "name": "stdout",
     "output_type": "stream",
     "text": [
      "[1] \"A Região administrativa com a maior taxa de mortalidade foi Pôr do Sol: 3.1%\"\n",
      "[1] \"A mortalidade média pro DF inteiro no período foi de 1.4%\"\n"
     ]
    }
   ],
   "source": [
    "maior_mortalidade_RA <- df_RA[which.max(df_RA$mortalidade), 1]\n",
    "maior_mortalidade_taxa <- round((100 * df_RA[which.max(df_RA$mortalidade), 4]),1)\n",
    "mortalidade_df <- round((100 * sum(df$Obito == 1)/nrow(df)), 1)\n",
    "\n",
    "print(stringr::str_c(\"A Região administrativa com a maior taxa de mortalidade foi \", maior_mortalidade_RA,\n",
    "     \": \", maior_mortalidade_taxa, \"%\"))\n",
    "print(stringr::str_c(\"A mortalidade média pro DF inteiro no período foi de \", mortalidade_df, \"%\"))"
   ]
  },
  {
   "cell_type": "markdown",
   "metadata": {},
   "source": [
    "### Evolução dos novos casos"
   ]
  },
  {
   "cell_type": "markdown",
   "metadata": {},
   "source": [
    "Para concluir, faremos o agrupamento por dias."
   ]
  },
  {
   "cell_type": "code",
   "execution_count": 19,
   "metadata": {},
   "outputs": [
    {
     "data": {
      "text/html": [
       "<table>\n",
       "<thead><tr><th scope=col>DataCadastro</th><th scope=col>casos</th><th scope=col>obitos</th></tr></thead>\n",
       "<tbody>\n",
       "\t<tr><td>2020-03-01</td><td> 1        </td><td>0         </td></tr>\n",
       "\t<tr><td>2020-03-16</td><td> 1        </td><td>0         </td></tr>\n",
       "\t<tr><td>2020-03-17</td><td> 1        </td><td>0         </td></tr>\n",
       "\t<tr><td>2020-03-18</td><td>22        </td><td>0         </td></tr>\n",
       "\t<tr><td>2020-03-19</td><td>41        </td><td>0         </td></tr>\n",
       "\t<tr><td>2020-03-20</td><td>20        </td><td>0         </td></tr>\n",
       "</tbody>\n",
       "</table>\n"
      ],
      "text/latex": [
       "\\begin{tabular}{r|lll}\n",
       " DataCadastro & casos & obitos\\\\\n",
       "\\hline\n",
       "\t 2020-03-01 &  1         & 0         \\\\\n",
       "\t 2020-03-16 &  1         & 0         \\\\\n",
       "\t 2020-03-17 &  1         & 0         \\\\\n",
       "\t 2020-03-18 & 22         & 0         \\\\\n",
       "\t 2020-03-19 & 41         & 0         \\\\\n",
       "\t 2020-03-20 & 20         & 0         \\\\\n",
       "\\end{tabular}\n"
      ],
      "text/markdown": [
       "\n",
       "| DataCadastro | casos | obitos |\n",
       "|---|---|---|\n",
       "| 2020-03-01 |  1         | 0          |\n",
       "| 2020-03-16 |  1         | 0          |\n",
       "| 2020-03-17 |  1         | 0          |\n",
       "| 2020-03-18 | 22         | 0          |\n",
       "| 2020-03-19 | 41         | 0          |\n",
       "| 2020-03-20 | 20         | 0          |\n",
       "\n"
      ],
      "text/plain": [
       "  DataCadastro casos obitos\n",
       "1 2020-03-01    1    0     \n",
       "2 2020-03-16    1    0     \n",
       "3 2020-03-17    1    0     \n",
       "4 2020-03-18   22    0     \n",
       "5 2020-03-19   41    0     \n",
       "6 2020-03-20   20    0     "
      ]
     },
     "metadata": {},
     "output_type": "display_data"
    }
   ],
   "source": [
    "# Estatísticas agregadas por data\n",
    "df_Data <- df %>% \n",
    "  group_by(DataCadastro) %>%\n",
    "  summarise(casos = n(),\n",
    "            obitos = sum(Obito))\n",
    "\n",
    "head(df_Data)"
   ]
  },
  {
   "cell_type": "markdown",
   "metadata": {},
   "source": [
    "E finalmente, o gráfico com o número de novos casos por dia, bem como sua média móvel de 14 dias."
   ]
  },
  {
   "cell_type": "code",
   "execution_count": 20,
   "metadata": {},
   "outputs": [
    {
     "name": "stderr",
     "output_type": "stream",
     "text": [
      "Warning message:\n",
      "\"package 'tidyquant' was built under R version 3.6.3\"Loading required package: PerformanceAnalytics\n",
      "Warning message:\n",
      "\"package 'PerformanceAnalytics' was built under R version 3.6.3\"Loading required package: xts\n",
      "Warning message:\n",
      "\"package 'xts' was built under R version 3.6.2\"Loading required package: zoo\n",
      "Warning message:\n",
      "\"package 'zoo' was built under R version 3.6.2\"\n",
      "Attaching package: 'zoo'\n",
      "\n",
      "The following objects are masked from 'package:base':\n",
      "\n",
      "    as.Date, as.Date.numeric\n",
      "\n",
      "\n",
      "Attaching package: 'xts'\n",
      "\n",
      "The following objects are masked from 'package:dplyr':\n",
      "\n",
      "    first, last\n",
      "\n",
      "\n",
      "Attaching package: 'PerformanceAnalytics'\n",
      "\n",
      "The following object is masked from 'package:graphics':\n",
      "\n",
      "    legend\n",
      "\n",
      "Loading required package: quantmod\n",
      "Loading required package: TTR\n",
      "Registered S3 method overwritten by 'quantmod':\n",
      "  method            from\n",
      "  as.zoo.data.frame zoo \n",
      "Version 0.4-0 included new data defaults. See ?getSymbols.\n",
      "== Need to Learn tidyquant? ====================================================\n",
      "Business Science offers a 1-hour course - Learning Lab #9: Performance Analysis & Portfolio Optimization with tidyquant!\n",
      "</> Learn more at: https://university.business-science.io/p/learning-labs-pro </>\n"
     ]
    }
   ],
   "source": [
    "library(tidyquant) # Para médias móveis"
   ]
  },
  {
   "cell_type": "code",
   "execution_count": 21,
   "metadata": {
    "scrolled": true
   },
   "outputs": [
    {
     "name": "stderr",
     "output_type": "stream",
     "text": [
      "Warning message:\n",
      "\"Removed 1 rows containing missing values (position_stack).\""
     ]
    },
    {
     "data": {
      "image/png": "[encoded data removed]",
      "text/plain": [
       "plot without title"
      ]
     },
     "metadata": {},
     "output_type": "display_data"
    }
   ],
   "source": [
    "# Novos casos, com média móvel para os últimos 14 dias\n",
    "df_Data %>%\n",
    "  ggplot(aes(x = DataCadastro, y = casos)) +\n",
    "  geom_bar(stat = \"identity\", fill = \"black\") +\n",
    "  geom_ma(ma_fun = SMA, n = 14, color = \"orangered2\", size = 1.5, linetype = \"solid\") +  # Média móvel\n",
    "  theme_minimal() + # Fundo branco\n",
    "  labs(x = NULL, y = NULL, # sem título pros eixos x e y\n",
    "      title = stringr::str_c(\"Novos casos diários de covid-19 no DF até \", last_update),\n",
    "      caption = \"Fonte: SESDF / SSP-DF \\n Elaboração: @stuquer_\") # Rodapé"
   ]
  }
 ],
 "metadata": {
  "kernelspec": {
   "display_name": "R",
   "language": "R",
   "name": "ir"
  },
  "language_info": {
   "codemirror_mode": "r",
   "file_extension": ".r",
   "mimetype": "text/x-r-source",
   "name": "R",
   "pygments_lexer": "r",
   "version": "3.6.1"
  }
 },
 "nbformat": 4,
 "nbformat_minor": 4
}
