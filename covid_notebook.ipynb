{
 "cells": [
  {
   "cell_type": "markdown",
   "metadata": {},
   "source": [
    "Autor: Rodrigo Stuckert. Data: 2020-08-06"
   ]
  },
  {
   "cell_type": "markdown",
   "metadata": {},
   "source": [
    "# Análise da Covid-19 no Distrito Federal"
   ]
  },
  {
   "cell_type": "markdown",
   "metadata": {},
   "source": [
    "Este código foi feito para analisar os casos da covid-19 no Distrito Federal (DF). Os dados aqui utilizados são referentes ao dia 2020-08-05 18:00, e foram extraídos a partir da seguinte página: https://covid19.ssp.df.gov.br/extensions/covid19/covid19.html#/"
   ]
  },
  {
   "cell_type": "markdown",
   "metadata": {},
   "source": [
    "Cabe salientar que, a partir do dia 2020-07-09, houve uma alteração na disposição dos dados. Removeu-se o número de identificação de cada pessoa (**id**); adicionou-se uma nova variável, **dataPrimeirosintomas**, indicando o início dos sintomas; e, por fim, substitui-se a variável **Estado de Saúde** por uma **Óbito**, indicando se a pessoa faleceu até aquele dia, ou não. De fato, para fins do painel de dados próprio, a Secretaria de Saúde (SESDF) considera como casos recuperados aqueles em que a pessoa não foi a óbito ou se internou após sete dias do diagnóstico. "
   ]
  },
  {
   "cell_type": "markdown",
   "metadata": {},
   "source": [
    "## Extração dos dados"
   ]
  },
  {
   "cell_type": "markdown",
   "metadata": {},
   "source": [
    "Os pacotes aqui utilizados foram o dplyr e lubridate, para manipulação dos dados; e o ggplot2 e gridExtra, para a elaboração dos gráficos. A função \"options(warn = -1)\" desativa as mensagens de aviso do R. Para voltar ao normal, basta usar \"options(warn = 0)\""
   ]
  },
  {
   "cell_type": "code",
   "execution_count": 1,
   "metadata": {},
   "outputs": [
    {
     "name": "stderr",
     "output_type": "stream",
     "text": [
      "Warning message:\n",
      "\"package 'dplyr' was built under R version 3.6.2\"\n",
      "Attaching package: 'dplyr'\n",
      "\n",
      "The following objects are masked from 'package:stats':\n",
      "\n",
      "    filter, lag\n",
      "\n",
      "The following objects are masked from 'package:base':\n",
      "\n",
      "    intersect, setdiff, setequal, union\n",
      "\n",
      "Warning message:\n",
      "\"package 'lubridate' was built under R version 3.6.2\"\n",
      "Attaching package: 'lubridate'\n",
      "\n",
      "The following object is masked from 'package:base':\n",
      "\n",
      "    date\n",
      "\n",
      "Warning message:\n",
      "\"package 'ggplot2' was built under R version 3.6.3\"Warning message:\n",
      "\"package 'gridExtra' was built under R version 3.6.2\"\n",
      "Attaching package: 'gridExtra'\n",
      "\n",
      "The following object is masked from 'package:dplyr':\n",
      "\n",
      "    combine\n",
      "\n"
     ]
    }
   ],
   "source": [
    "library(dplyr)\n",
    "library(lubridate) # Manipular datas\n",
    "library(ggplot2)\n",
    "library(gridExtra) # Plotar dois gráficos em uma única imagem"
   ]
  },
  {
   "cell_type": "markdown",
   "metadata": {},
   "source": [
    "Os dados estão no arquivo \"dados-abertos.csv\", dentro do diretório \"datasets\". Caso você queira baixar os dados mais recentes, no lugar, substitua essa referência pelo link mencionado abaixo. É importante ter em mente aqui que pode haver problemas de compatibilidade futuramente, caso a Secretaria de Saúde do DF (SESDF) eventualmente altere a disposição dos dados."
   ]
  },
  {
   "cell_type": "code",
   "execution_count": 2,
   "metadata": {
    "scrolled": true
   },
   "outputs": [],
   "source": [
    "#file <- \"https://covid19.ssp.df.gov.br/resources/dados/dados-abertos.csv\"\n",
    "file <- \"datasets/dados-abertos.csv\"\n",
    "df <- data.table::fread(file, encoding = \"UTF-8\", \n",
    "                        col.names = c(\"Data\", \"DataCadastro\", \"Sexo\",\n",
    "                                      \"FaixaEtaria\", \"RA\", \"UF\", \"Obito\", \"DataPrimeirosintomas\",\n",
    "                                      \"Pneumopatia\", \"Nefropatia\", \"DHematologica\",\n",
    "                                      \"DistMetabolico\", \"Imunopressao\", \"Obesidade\",\n",
    "                                      \"Outros\", \"Cardiovasculopatia\"),\n",
    "                        colClasses = list(factor= c(3, 6)) # Colunas Sexo e UF como factors\n",
    "                        )"
   ]
  },
  {
   "cell_type": "markdown",
   "metadata": {},
   "source": [
    "#### Verificando a importação do arquivo."
   ]
  },
  {
   "cell_type": "code",
   "execution_count": 3,
   "metadata": {
    "scrolled": true
   },
   "outputs": [
    {
     "name": "stdout",
     "output_type": "stream",
     "text": [
      "Classes 'data.table' and 'data.frame':\t84761 obs. of  16 variables:\n",
      " $ Data                : chr  \"21/07/2020\" \"21/07/2020\" \"21/07/2020\" \"21/07/2020\" ...\n",
      " $ DataCadastro        : chr  \"18/03/2020\" \"18/03/2020\" \"18/03/2020\" \"18/03/2020\" ...\n",
      " $ Sexo                : Factor w/ 2 levels \"Feminino\",\"Masculino\": 2 2 2 2 1 1 1 1 2 1 ...\n",
      " $ FaixaEtaria         : chr  \"50 a 59 anos\" \"50 a 59 anos\" \"40 a 49 anos\" \">= 60 anos\" ...\n",
      " $ RA                  : chr  \"Plano Piloto\" \"Lago Sul\" \"Lago Sul\" \"Águas Claras\" ...\n",
      " $ UF                  : Factor w/ 28 levels \"\",\"ACRE\",\"ALAGOAS\",..: 8 8 8 8 8 8 8 8 8 8 ...\n",
      " $ Obito               : chr  \"Não\" \"Não\" \"Não\" \"Não\" ...\n",
      " $ DataPrimeirosintomas: chr  \"23/04/2020\" \"29/03/2020\" \"09/03/2020\" \"14/03/2020\" ...\n",
      " $ Pneumopatia         : chr  \"\" \"Sim\" \"\" \"Não\" ...\n",
      " $ Nefropatia          : chr  \"\" \"Não\" \"\" \"Não\" ...\n",
      " $ DHematologica       : chr  \"\" \"Não\" \"\" \"Não\" ...\n",
      " $ DistMetabolico      : chr  \"\" \"Sim\" \"\" \"Sim\" ...\n",
      " $ Imunopressao        : chr  \"\" \"Não\" \"\" \"Não\" ...\n",
      " $ Obesidade           : chr  \"\" \"Não\" \"\" \"Não\" ...\n",
      " $ Outros              : chr  \"\" \"Não\" \"\" \"Não\" ...\n",
      " $ Cardiovasculopatia  : chr  \"\" \"Não\" \"\" \"Sim\" ...\n",
      " - attr(*, \".internal.selfref\")=<externalptr> \n"
     ]
    }
   ],
   "source": [
    "str(df) # Estrutura"
   ]
  },
  {
   "cell_type": "code",
   "execution_count": 4,
   "metadata": {},
   "outputs": [
    {
     "data": {
      "text/html": [
       "<table>\n",
       "<thead><tr><th scope=col>Data</th><th scope=col>DataCadastro</th><th scope=col>Sexo</th><th scope=col>FaixaEtaria</th><th scope=col>RA</th><th scope=col>UF</th><th scope=col>Obito</th><th scope=col>DataPrimeirosintomas</th><th scope=col>Pneumopatia</th><th scope=col>Nefropatia</th><th scope=col>DHematologica</th><th scope=col>DistMetabolico</th><th scope=col>Imunopressao</th><th scope=col>Obesidade</th><th scope=col>Outros</th><th scope=col>Cardiovasculopatia</th></tr></thead>\n",
       "<tbody>\n",
       "\t<tr><td>21/07/2020      </td><td>18/03/2020      </td><td>Masculino       </td><td>50 a 59 anos    </td><td>Plano Piloto    </td><td>DISTRITO FEDERAL</td><td>Não             </td><td>23/04/2020      </td><td>                </td><td>                </td><td>                </td><td>                </td><td>                </td><td>                </td><td>                </td><td>                </td></tr>\n",
       "\t<tr><td>21/07/2020      </td><td>18/03/2020      </td><td>Masculino       </td><td>50 a 59 anos    </td><td>Lago Sul        </td><td>DISTRITO FEDERAL</td><td>Não             </td><td>29/03/2020      </td><td>Sim             </td><td>Não             </td><td>Não             </td><td>Sim             </td><td>Não             </td><td>Não             </td><td>Não             </td><td>Não             </td></tr>\n",
       "\t<tr><td>21/07/2020      </td><td>18/03/2020      </td><td>Masculino       </td><td>40 a 49 anos    </td><td>Lago Sul        </td><td>DISTRITO FEDERAL</td><td>Não             </td><td>09/03/2020      </td><td>                </td><td>                </td><td>                </td><td>                </td><td>                </td><td>                </td><td>                </td><td>                </td></tr>\n",
       "\t<tr><td>21/07/2020                                             </td><td>18/03/2020                                             </td><td>Masculino                                              </td><td><span style=white-space:pre-wrap>&gt;= 60 anos  </span></td><td>Águas Claras                                           </td><td>DISTRITO FEDERAL                                       </td><td>Não                                                    </td><td>14/03/2020                                             </td><td>Não                                                    </td><td>Não                                                    </td><td>Não                                                    </td><td>Sim                                                    </td><td>Não                                                    </td><td>Não                                                    </td><td>Não                                                    </td><td>Sim                                                    </td></tr>\n",
       "\t<tr><td>21/07/2020      </td><td>18/03/2020      </td><td>Feminino        </td><td>20 a 29 anos    </td><td>Plano Piloto    </td><td>DISTRITO FEDERAL</td><td>Não             </td><td>14/03/2020      </td><td>                </td><td>                </td><td>                </td><td>                </td><td>                </td><td>                </td><td>                </td><td>                </td></tr>\n",
       "\t<tr><td>21/07/2020      </td><td>16/03/2020      </td><td>Feminino        </td><td>30 a 39 anos    </td><td>Plano Piloto    </td><td>DISTRITO FEDERAL</td><td>Não             </td><td>16/03/2020      </td><td>                </td><td>                </td><td>                </td><td>                </td><td>                </td><td>                </td><td>                </td><td>                </td></tr>\n",
       "</tbody>\n",
       "</table>\n"
      ],
      "text/latex": [
       "\\begin{tabular}{r|llllllllllllllll}\n",
       " Data & DataCadastro & Sexo & FaixaEtaria & RA & UF & Obito & DataPrimeirosintomas & Pneumopatia & Nefropatia & DHematologica & DistMetabolico & Imunopressao & Obesidade & Outros & Cardiovasculopatia\\\\\n",
       "\\hline\n",
       "\t 21/07/2020       & 18/03/2020       & Masculino        & 50 a 59 anos     & Plano Piloto     & DISTRITO FEDERAL & Não              & 23/04/2020       &                  &                  &                  &                  &                  &                  &                  &                 \\\\\n",
       "\t 21/07/2020       & 18/03/2020       & Masculino        & 50 a 59 anos     & Lago Sul         & DISTRITO FEDERAL & Não              & 29/03/2020       & Sim              & Não              & Não              & Sim              & Não              & Não              & Não              & Não             \\\\\n",
       "\t 21/07/2020       & 18/03/2020       & Masculino        & 40 a 49 anos     & Lago Sul         & DISTRITO FEDERAL & Não              & 09/03/2020       &                  &                  &                  &                  &                  &                  &                  &                 \\\\\n",
       "\t 21/07/2020       & 18/03/2020       & Masculino        & >= 60 anos       & Águas Claras     & DISTRITO FEDERAL & Não              & 14/03/2020       & Não              & Não              & Não              & Sim              & Não              & Não              & Não              & Sim             \\\\\n",
       "\t 21/07/2020       & 18/03/2020       & Feminino         & 20 a 29 anos     & Plano Piloto     & DISTRITO FEDERAL & Não              & 14/03/2020       &                  &                  &                  &                  &                  &                  &                  &                 \\\\\n",
       "\t 21/07/2020       & 16/03/2020       & Feminino         & 30 a 39 anos     & Plano Piloto     & DISTRITO FEDERAL & Não              & 16/03/2020       &                  &                  &                  &                  &                  &                  &                  &                 \\\\\n",
       "\\end{tabular}\n"
      ],
      "text/markdown": [
       "\n",
       "| Data | DataCadastro | Sexo | FaixaEtaria | RA | UF | Obito | DataPrimeirosintomas | Pneumopatia | Nefropatia | DHematologica | DistMetabolico | Imunopressao | Obesidade | Outros | Cardiovasculopatia |\n",
       "|---|---|---|---|---|---|---|---|---|---|---|---|---|---|---|---|\n",
       "| 21/07/2020       | 18/03/2020       | Masculino        | 50 a 59 anos     | Plano Piloto     | DISTRITO FEDERAL | Não              | 23/04/2020       |                  |                  |                  |                  |                  |                  |                  |                  |\n",
       "| 21/07/2020       | 18/03/2020       | Masculino        | 50 a 59 anos     | Lago Sul         | DISTRITO FEDERAL | Não              | 29/03/2020       | Sim              | Não              | Não              | Sim              | Não              | Não              | Não              | Não              |\n",
       "| 21/07/2020       | 18/03/2020       | Masculino        | 40 a 49 anos     | Lago Sul         | DISTRITO FEDERAL | Não              | 09/03/2020       |                  |                  |                  |                  |                  |                  |                  |                  |\n",
       "| 21/07/2020       | 18/03/2020       | Masculino        | >= 60 anos       | Águas Claras     | DISTRITO FEDERAL | Não              | 14/03/2020       | Não              | Não              | Não              | Sim              | Não              | Não              | Não              | Sim              |\n",
       "| 21/07/2020       | 18/03/2020       | Feminino         | 20 a 29 anos     | Plano Piloto     | DISTRITO FEDERAL | Não              | 14/03/2020       |                  |                  |                  |                  |                  |                  |                  |                  |\n",
       "| 21/07/2020       | 16/03/2020       | Feminino         | 30 a 39 anos     | Plano Piloto     | DISTRITO FEDERAL | Não              | 16/03/2020       |                  |                  |                  |                  |                  |                  |                  |                  |\n",
       "\n"
      ],
      "text/plain": [
       "  Data       DataCadastro Sexo      FaixaEtaria  RA           UF              \n",
       "1 21/07/2020 18/03/2020   Masculino 50 a 59 anos Plano Piloto DISTRITO FEDERAL\n",
       "2 21/07/2020 18/03/2020   Masculino 50 a 59 anos Lago Sul     DISTRITO FEDERAL\n",
       "3 21/07/2020 18/03/2020   Masculino 40 a 49 anos Lago Sul     DISTRITO FEDERAL\n",
       "4 21/07/2020 18/03/2020   Masculino >= 60 anos   Águas Claras DISTRITO FEDERAL\n",
       "5 21/07/2020 18/03/2020   Feminino  20 a 29 anos Plano Piloto DISTRITO FEDERAL\n",
       "6 21/07/2020 16/03/2020   Feminino  30 a 39 anos Plano Piloto DISTRITO FEDERAL\n",
       "  Obito DataPrimeirosintomas Pneumopatia Nefropatia DHematologica\n",
       "1 Não   23/04/2020                                               \n",
       "2 Não   29/03/2020           Sim         Não        Não          \n",
       "3 Não   09/03/2020                                               \n",
       "4 Não   14/03/2020           Não         Não        Não          \n",
       "5 Não   14/03/2020                                               \n",
       "6 Não   16/03/2020                                               \n",
       "  DistMetabolico Imunopressao Obesidade Outros Cardiovasculopatia\n",
       "1                                                                \n",
       "2 Sim            Não          Não       Não    Não               \n",
       "3                                                                \n",
       "4 Sim            Não          Não       Não    Sim               \n",
       "5                                                                \n",
       "6                                                                "
      ]
     },
     "metadata": {},
     "output_type": "display_data"
    }
   ],
   "source": [
    "head(df) # Início\n",
    "# tail(df) # Fim"
   ]
  },
  {
   "cell_type": "markdown",
   "metadata": {},
   "source": [
    "## Tratamento dos dados"
   ]
  },
  {
   "cell_type": "markdown",
   "metadata": {},
   "source": [
    "#### Datas e faixa etária"
   ]
  },
  {
   "cell_type": "markdown",
   "metadata": {},
   "source": [
    "Uma vez que tudo está como deveria, podemos prosseguir com o tratamento dos dados. Primeiro iremos remover a coluna com a data da última atualização daquele dataset, e depois corrigir o formato da data de cadastro dos casos."
   ]
  },
  {
   "cell_type": "code",
   "execution_count": 5,
   "metadata": {
    "scrolled": true
   },
   "outputs": [
    {
     "data": {
      "text/html": [
       "<ol class=list-inline>\n",
       "\t<li><time datetime=\"2020-03-18\">2020-03-18</time></li>\n",
       "\t<li><time datetime=\"2020-03-18\">2020-03-18</time></li>\n",
       "\t<li><time datetime=\"2020-03-18\">2020-03-18</time></li>\n",
       "\t<li><time datetime=\"2020-03-18\">2020-03-18</time></li>\n",
       "\t<li><time datetime=\"2020-03-18\">2020-03-18</time></li>\n",
       "\t<li><time datetime=\"2020-03-16\">2020-03-16</time></li>\n",
       "</ol>\n"
      ],
      "text/latex": [
       "\\begin{enumerate*}\n",
       "\\item 2020-03-18\n",
       "\\item 2020-03-18\n",
       "\\item 2020-03-18\n",
       "\\item 2020-03-18\n",
       "\\item 2020-03-18\n",
       "\\item 2020-03-16\n",
       "\\end{enumerate*}\n"
      ],
      "text/markdown": [
       "1. 2020-03-18\n",
       "2. 2020-03-18\n",
       "3. 2020-03-18\n",
       "4. 2020-03-18\n",
       "5. 2020-03-18\n",
       "6. 2020-03-16\n",
       "\n",
       "\n"
      ],
      "text/plain": [
       "[1] \"2020-03-18\" \"2020-03-18\" \"2020-03-18\" \"2020-03-18\" \"2020-03-18\"\n",
       "[6] \"2020-03-16\""
      ]
     },
     "metadata": {},
     "output_type": "display_data"
    }
   ],
   "source": [
    "# Pega a data do dataset\n",
    "last_update <- df$Data[1]\n",
    "\n",
    "# Remove a coluna com a data da última atualização daqueles dados e corrige o formato das demais datas.\n",
    "df <- df %>%\n",
    "    select(-c(\"Data\")) %>%\n",
    "    mutate(DataCadastro = as.Date(DataCadastro, format = '%d/%m/%Y'),\n",
    "          DataPrimeirosintomas = as.Date(DataPrimeirosintomas, format = '%d/%m/%Y'))\n",
    "\n",
    "# Verificando\n",
    "head(df$DataCadastro)"
   ]
  },
  {
   "cell_type": "markdown",
   "metadata": {},
   "source": [
    "Adaptaremos o nome dos inputs da variável FaixaEtaria para que possamos torná-la uma factor corretamente:"
   ]
  },
  {
   "cell_type": "code",
   "execution_count": 6,
   "metadata": {
    "scrolled": true
   },
   "outputs": [],
   "source": [
    "# Corrige os nomes das faixas etárias e torna a variável factor.\n",
    "df <- df %>%\n",
    "  mutate(FaixaEtaria = ifelse(FaixaEtaria == \"<= 19 anos\", \"0 a 19 anos\", FaixaEtaria),\n",
    "         FaixaEtaria = ifelse(FaixaEtaria == \">= 60 anos\", \"60+ anos\", FaixaEtaria),\n",
    "         FaixaEtaria = as.factor(FaixaEtaria))"
   ]
  },
  {
   "cell_type": "markdown",
   "metadata": {},
   "source": [
    "#### Comorbidades"
   ]
  },
  {
   "cell_type": "markdown",
   "metadata": {},
   "source": [
    "Devemos ter cautela especial quanto às variáveis de comorbidades. Inicialmente, pessoas com alguma comorbidade recebiam \"Sim\" para aquelas que apresentassem, e \"Não\" para todas as demais, enquanto que quem não apresentasse nenhuma aparecia como NA para todas. Após determinada data, ao que tudo indica, o GDF passou a apenas a categorizar aqueles que apresentassem alguma comorbidade."
   ]
  },
  {
   "cell_type": "markdown",
   "metadata": {},
   "source": [
    "Dessa forma, iremos primeiro transformá-las em números inteiros (1 == \"Sim\", 0 == \"Não\"), e depois criar uma variável \"Tem comorbidade?\", que recebe valor 1 se a pessoa apresentar pelo menos uma comorbidade, e 0 caso contrário. Note aqui que as variáveis de comorbidades correspondem às colunas de 8 a 15 do nosso dataframe."
   ]
  },
  {
   "cell_type": "code",
   "execution_count": 7,
   "metadata": {},
   "outputs": [],
   "source": [
    "# Bota os valores das comorbidades como binários (Apresenta = 1, não apresenta / NA = 0) e converte para inteiro.\n",
    "df[, 8:15] <- df[,8:15] %>%\n",
    "  apply(MARGIN = 2, FUN = function(x) ifelse(x == \"Sim\", 1, 0)) %>% # Função lambda\n",
    "  apply(MARGIN = 2, FUN = as.integer) # Margin = 2: aplica a função \"FUN\" às COLUNAS\n",
    "     \n",
    "# Cria a variável \"Tem comorbidade?\", como número inteiro.\n",
    "df <- df %>%  \n",
    "  mutate(Comorbidade = as.integer(case_when(Pneumopatia + Nefropatia + DHematologica + DistMetabolico + Imunopressao + Outros + Cardiovasculopatia > 0 ~ 1, TRUE ~ 0)))"
   ]
  },
  {
   "cell_type": "markdown",
   "metadata": {},
   "source": [
    "Conferindo:"
   ]
  },
  {
   "cell_type": "code",
   "execution_count": 8,
   "metadata": {},
   "outputs": [
    {
     "name": "stdout",
     "output_type": "stream",
     "text": [
      "'data.frame':\t84761 obs. of  9 variables:\n",
      " $ Pneumopatia       : int  0 1 0 0 0 0 0 0 0 0 ...\n",
      " $ Nefropatia        : int  0 0 0 0 0 0 0 0 0 0 ...\n",
      " $ DHematologica     : int  0 0 0 0 0 0 0 0 0 0 ...\n",
      " $ DistMetabolico    : int  0 1 0 1 0 0 0 1 0 0 ...\n",
      " $ Imunopressao      : int  0 0 0 0 0 0 0 1 0 0 ...\n",
      " $ Obesidade         : int  0 0 0 0 0 0 0 1 0 0 ...\n",
      " $ Outros            : int  0 0 0 0 0 0 0 0 0 0 ...\n",
      " $ Cardiovasculopatia: int  0 0 0 1 0 0 0 0 0 0 ...\n",
      " $ Comorbidade       : int  0 1 0 1 0 0 0 1 0 0 ...\n"
     ]
    }
   ],
   "source": [
    "str(df[, 8:16]) # Confere as variáveis alteradas."
   ]
  },
  {
   "cell_type": "markdown",
   "metadata": {},
   "source": [
    "## Análise exploratória e visualização"
   ]
  },
  {
   "cell_type": "markdown",
   "metadata": {},
   "source": [
    "Agora, seguiremos com a análise exploratória dos dados. Primeiro, geraremos agregações dos dados por categorias de interesse; em seguida, prosseguiremos com a elaboração de gráficos."
   ]
  },
  {
   "cell_type": "markdown",
   "metadata": {},
   "source": [
    "### Representação dos óbitos por faixa etária"
   ]
  },
  {
   "cell_type": "markdown",
   "metadata": {},
   "source": [
    "Nosso primeiro agrupamento será por faixa etária."
   ]
  },
  {
   "cell_type": "code",
   "execution_count": 9,
   "metadata": {},
   "outputs": [
    {
     "data": {
      "text/html": [
       "<table>\n",
       "<thead><tr><th scope=col>Obito</th><th scope=col>FaixaEtaria</th><th scope=col>casos</th><th scope=col>num_obitos</th><th scope=col>pct_obitos</th><th scope=col>mortalidade</th><th scope=col>pct_comorbidade</th><th scope=col>pct_mulheres</th><th scope=col>pct_homens</th><th scope=col>perc</th></tr></thead>\n",
       "<tbody>\n",
       "\t<tr><td>Não         </td><td>0 a 19 anos </td><td> 5885       </td><td>  0         </td><td>0.000000000 </td><td>0           </td><td>0.03636364  </td><td>0.5308411   </td><td>0.4691589   </td><td> 7.0        </td></tr>\n",
       "\t<tr><td>Não         </td><td>20 a 29 anos</td><td>16027       </td><td>  0         </td><td>0.000000000 </td><td>0           </td><td>0.03706246  </td><td>0.5318525   </td><td>0.4681475   </td><td>19.2        </td></tr>\n",
       "\t<tr><td>Não         </td><td>30 a 39 anos</td><td>23025       </td><td>  0         </td><td>0.000000000 </td><td>0           </td><td>0.04738328  </td><td>0.5253420   </td><td>0.4746580   </td><td>27.5        </td></tr>\n",
       "\t<tr><td>Não         </td><td>40 a 49 anos</td><td>18898       </td><td>  0         </td><td>0.000000000 </td><td>0           </td><td>0.08836914  </td><td>0.5164568   </td><td>0.4835432   </td><td>22.6        </td></tr>\n",
       "\t<tr><td>Não         </td><td>50 a 59 anos</td><td>11424       </td><td>  0         </td><td>0.000000000 </td><td>0           </td><td>0.16973039  </td><td>0.5320378   </td><td>0.4679622   </td><td>13.7        </td></tr>\n",
       "\t<tr><td>Não         </td><td>60+ anos    </td><td> 8356       </td><td>  0         </td><td>0.000000000 </td><td>0           </td><td>0.26077070  </td><td>0.5430828   </td><td>0.4569172   </td><td>10.0        </td></tr>\n",
       "\t<tr><td>Sim         </td><td>0 a 19 anos </td><td>    2       </td><td>  2         </td><td>0.001745201 </td><td>1           </td><td>0.00000000  </td><td>0.5000000   </td><td>0.5000000   </td><td> 0.2        </td></tr>\n",
       "\t<tr><td>Sim         </td><td>20 a 29 anos</td><td>   13       </td><td> 13         </td><td>0.011343805 </td><td>1           </td><td>0.38461538  </td><td>0.4615385   </td><td>0.5384615   </td><td> 1.1        </td></tr>\n",
       "\t<tr><td>Sim         </td><td>30 a 39 anos</td><td>   49       </td><td> 49         </td><td>0.042757417 </td><td>1           </td><td>0.65306122  </td><td>0.3469388   </td><td>0.6530612   </td><td> 4.3        </td></tr>\n",
       "\t<tr><td>Sim         </td><td>40 a 49 anos</td><td>   95       </td><td> 95         </td><td>0.082897033 </td><td>1           </td><td>0.72631579  </td><td>0.3473684   </td><td>0.6526316   </td><td> 8.3        </td></tr>\n",
       "\t<tr><td>Sim         </td><td>50 a 59 anos</td><td>  157       </td><td>157         </td><td>0.136998255 </td><td>1           </td><td>0.82802548  </td><td>0.3312102   </td><td>0.6687898   </td><td>13.7        </td></tr>\n",
       "\t<tr><td>Sim         </td><td>60+ anos    </td><td>  830       </td><td>830         </td><td>0.724258290 </td><td>1           </td><td>0.89156627  </td><td>0.4469880   </td><td>0.5530120   </td><td>72.4        </td></tr>\n",
       "</tbody>\n",
       "</table>\n"
      ],
      "text/latex": [
       "\\begin{tabular}{r|llllllllll}\n",
       " Obito & FaixaEtaria & casos & num\\_obitos & pct\\_obitos & mortalidade & pct\\_comorbidade & pct\\_mulheres & pct\\_homens & perc\\\\\n",
       "\\hline\n",
       "\t Não          & 0 a 19 anos  &  5885        &   0          & 0.000000000  & 0            & 0.03636364   & 0.5308411    & 0.4691589    &  7.0        \\\\\n",
       "\t Não          & 20 a 29 anos & 16027        &   0          & 0.000000000  & 0            & 0.03706246   & 0.5318525    & 0.4681475    & 19.2        \\\\\n",
       "\t Não          & 30 a 39 anos & 23025        &   0          & 0.000000000  & 0            & 0.04738328   & 0.5253420    & 0.4746580    & 27.5        \\\\\n",
       "\t Não          & 40 a 49 anos & 18898        &   0          & 0.000000000  & 0            & 0.08836914   & 0.5164568    & 0.4835432    & 22.6        \\\\\n",
       "\t Não          & 50 a 59 anos & 11424        &   0          & 0.000000000  & 0            & 0.16973039   & 0.5320378    & 0.4679622    & 13.7        \\\\\n",
       "\t Não          & 60+ anos     &  8356        &   0          & 0.000000000  & 0            & 0.26077070   & 0.5430828    & 0.4569172    & 10.0        \\\\\n",
       "\t Sim          & 0 a 19 anos  &     2        &   2          & 0.001745201  & 1            & 0.00000000   & 0.5000000    & 0.5000000    &  0.2        \\\\\n",
       "\t Sim          & 20 a 29 anos &    13        &  13          & 0.011343805  & 1            & 0.38461538   & 0.4615385    & 0.5384615    &  1.1        \\\\\n",
       "\t Sim          & 30 a 39 anos &    49        &  49          & 0.042757417  & 1            & 0.65306122   & 0.3469388    & 0.6530612    &  4.3        \\\\\n",
       "\t Sim          & 40 a 49 anos &    95        &  95          & 0.082897033  & 1            & 0.72631579   & 0.3473684    & 0.6526316    &  8.3        \\\\\n",
       "\t Sim          & 50 a 59 anos &   157        & 157          & 0.136998255  & 1            & 0.82802548   & 0.3312102    & 0.6687898    & 13.7        \\\\\n",
       "\t Sim          & 60+ anos     &   830        & 830          & 0.724258290  & 1            & 0.89156627   & 0.4469880    & 0.5530120    & 72.4        \\\\\n",
       "\\end{tabular}\n"
      ],
      "text/markdown": [
       "\n",
       "| Obito | FaixaEtaria | casos | num_obitos | pct_obitos | mortalidade | pct_comorbidade | pct_mulheres | pct_homens | perc |\n",
       "|---|---|---|---|---|---|---|---|---|---|\n",
       "| Não          | 0 a 19 anos  |  5885        |   0          | 0.000000000  | 0            | 0.03636364   | 0.5308411    | 0.4691589    |  7.0         |\n",
       "| Não          | 20 a 29 anos | 16027        |   0          | 0.000000000  | 0            | 0.03706246   | 0.5318525    | 0.4681475    | 19.2         |\n",
       "| Não          | 30 a 39 anos | 23025        |   0          | 0.000000000  | 0            | 0.04738328   | 0.5253420    | 0.4746580    | 27.5         |\n",
       "| Não          | 40 a 49 anos | 18898        |   0          | 0.000000000  | 0            | 0.08836914   | 0.5164568    | 0.4835432    | 22.6         |\n",
       "| Não          | 50 a 59 anos | 11424        |   0          | 0.000000000  | 0            | 0.16973039   | 0.5320378    | 0.4679622    | 13.7         |\n",
       "| Não          | 60+ anos     |  8356        |   0          | 0.000000000  | 0            | 0.26077070   | 0.5430828    | 0.4569172    | 10.0         |\n",
       "| Sim          | 0 a 19 anos  |     2        |   2          | 0.001745201  | 1            | 0.00000000   | 0.5000000    | 0.5000000    |  0.2         |\n",
       "| Sim          | 20 a 29 anos |    13        |  13          | 0.011343805  | 1            | 0.38461538   | 0.4615385    | 0.5384615    |  1.1         |\n",
       "| Sim          | 30 a 39 anos |    49        |  49          | 0.042757417  | 1            | 0.65306122   | 0.3469388    | 0.6530612    |  4.3         |\n",
       "| Sim          | 40 a 49 anos |    95        |  95          | 0.082897033  | 1            | 0.72631579   | 0.3473684    | 0.6526316    |  8.3         |\n",
       "| Sim          | 50 a 59 anos |   157        | 157          | 0.136998255  | 1            | 0.82802548   | 0.3312102    | 0.6687898    | 13.7         |\n",
       "| Sim          | 60+ anos     |   830        | 830          | 0.724258290  | 1            | 0.89156627   | 0.4469880    | 0.5530120    | 72.4         |\n",
       "\n"
      ],
      "text/plain": [
       "   Obito FaixaEtaria  casos num_obitos pct_obitos  mortalidade pct_comorbidade\n",
       "1  Não   0 a 19 anos   5885   0        0.000000000 0           0.03636364     \n",
       "2  Não   20 a 29 anos 16027   0        0.000000000 0           0.03706246     \n",
       "3  Não   30 a 39 anos 23025   0        0.000000000 0           0.04738328     \n",
       "4  Não   40 a 49 anos 18898   0        0.000000000 0           0.08836914     \n",
       "5  Não   50 a 59 anos 11424   0        0.000000000 0           0.16973039     \n",
       "6  Não   60+ anos      8356   0        0.000000000 0           0.26077070     \n",
       "7  Sim   0 a 19 anos      2   2        0.001745201 1           0.00000000     \n",
       "8  Sim   20 a 29 anos    13  13        0.011343805 1           0.38461538     \n",
       "9  Sim   30 a 39 anos    49  49        0.042757417 1           0.65306122     \n",
       "10 Sim   40 a 49 anos    95  95        0.082897033 1           0.72631579     \n",
       "11 Sim   50 a 59 anos   157 157        0.136998255 1           0.82802548     \n",
       "12 Sim   60+ anos       830 830        0.724258290 1           0.89156627     \n",
       "   pct_mulheres pct_homens perc\n",
       "1  0.5308411    0.4691589   7.0\n",
       "2  0.5318525    0.4681475  19.2\n",
       "3  0.5253420    0.4746580  27.5\n",
       "4  0.5164568    0.4835432  22.6\n",
       "5  0.5320378    0.4679622  13.7\n",
       "6  0.5430828    0.4569172  10.0\n",
       "7  0.5000000    0.5000000   0.2\n",
       "8  0.4615385    0.5384615   1.1\n",
       "9  0.3469388    0.6530612   4.3\n",
       "10 0.3473684    0.6526316   8.3\n",
       "11 0.3312102    0.6687898  13.7\n",
       "12 0.4469880    0.5530120  72.4"
      ]
     },
     "metadata": {},
     "output_type": "display_data"
    }
   ],
   "source": [
    "# Agrupa os dados por Faixa Etária e por Óbito (\"Sim\" ou \"Não\")\n",
    "df_FaixaEtaria <- df %>% \n",
    "  group_by(Obito, FaixaEtaria) %>%\n",
    "  summarise(casos = n(),\n",
    "            num_obitos = sum(Obito == \"Sim\"),\n",
    "            pct_obitos = num_obitos / sum(df$Obito == \"Sim\"),\n",
    "            mortalidade = num_obitos / casos,\n",
    "            pct_comorbidade = sum(Comorbidade == 1) / casos,\n",
    "            pct_mulheres = sum(Sexo == \"Feminino\")/casos,\n",
    "            pct_homens = 1 - pct_mulheres\n",
    "  ) %>%\n",
    "  mutate(perc = round(100 * (casos / sum(casos)), 1)) # Qual o % daquela faixa etária entre as categorias da variável Óbito\n",
    "\n",
    "df_FaixaEtaria"
   ]
  },
  {
   "cell_type": "code",
   "execution_count": 10,
   "metadata": {
    "scrolled": true
   },
   "outputs": [
    {
     "data": {
      "image/png": "[encoded data removed]",
      "text/plain": [
       "plot without title"
      ]
     },
     "metadata": {},
     "output_type": "display_data"
    }
   ],
   "source": [
    "# TRATAR\n",
    "#my_labels <- as.character(100 * df_FaixaEtaria$casos / sum(df_FaixaEtaria$casos))\n",
    "#my_labels\n",
    "\n",
    "# Representação percentual de cada faixa etária entre os óbitos\n",
    "fx1 <- df_FaixaEtaria %>%\n",
    " filter(Obito == \"Sim\") %>%\n",
    " ggplot(aes(x = FaixaEtaria,\n",
    "            weight = 100 * casos/sum(casos), \n",
    "            fill = FaixaEtaria)) +\n",
    " geom_bar(show.legend = FALSE) +\n",
    " scale_fill_brewer(palette = \"Oranges\") +\n",
    " coord_flip() +\n",
    " theme_minimal() +\n",
    " labs(x = NULL, y = \"Óbitos\")\n",
    "\n",
    "\n",
    "# Representação percentual de cada faixa etária na amostra total\n",
    "fx2 <- df_FaixaEtaria %>%\n",
    " ggplot(aes(x = FaixaEtaria, fill = FaixaEtaria, weight = 100 * casos/sum(casos)), show.legend = FALSE) +\n",
    " geom_bar(show.legend = FALSE) +\n",
    " scale_fill_brewer(palette = \"Oranges\") +\n",
    " coord_flip() +\n",
    " theme_minimal() +\n",
    " labs(x = NULL, y = \"Amostra toda\")\n",
    "\n",
    "\n",
    "# Plotando os dois gráficos juntos (biblioteca gridExtra)\n",
    "#png(\"covid_genero.png\", height=4, width=8, units=\"in\", res=120)\n",
    "grid.arrange(fx1, fx2, nrow=1,\n",
    "            top = stringr::str_c(\"Representação percentual da covid-19 no DF por faixa etária\\n Dados até \", last_update))# Título\n",
    "#dev.off()"
   ]
  },
  {
   "cell_type": "markdown",
   "metadata": {},
   "source": [
    "### Taxa de mortalidade por gênero"
   ]
  },
  {
   "cell_type": "markdown",
   "metadata": {},
   "source": [
    "Agora, iremos gerar as estatísticas agregadas pelo sexo declarado das pessoas."
   ]
  },
  {
   "cell_type": "code",
   "execution_count": 11,
   "metadata": {},
   "outputs": [
    {
     "data": {
      "text/html": [
       "<table>\n",
       "<thead><tr><th scope=col>Sexo</th><th scope=col>casos</th><th scope=col>obitos</th><th scope=col>mortalidade</th><th scope=col>pct_comorbidade</th></tr></thead>\n",
       "<tbody>\n",
       "\t<tr><td>Feminino  </td><td>44600     </td><td>480       </td><td>0.01076233</td><td>0.10634529</td></tr>\n",
       "\t<tr><td>Masculino </td><td>40161     </td><td>666       </td><td>0.01658325</td><td>0.09760713</td></tr>\n",
       "</tbody>\n",
       "</table>\n"
      ],
      "text/latex": [
       "\\begin{tabular}{r|lllll}\n",
       " Sexo & casos & obitos & mortalidade & pct\\_comorbidade\\\\\n",
       "\\hline\n",
       "\t Feminino   & 44600      & 480        & 0.01076233 & 0.10634529\\\\\n",
       "\t Masculino  & 40161      & 666        & 0.01658325 & 0.09760713\\\\\n",
       "\\end{tabular}\n"
      ],
      "text/markdown": [
       "\n",
       "| Sexo | casos | obitos | mortalidade | pct_comorbidade |\n",
       "|---|---|---|---|---|\n",
       "| Feminino   | 44600      | 480        | 0.01076233 | 0.10634529 |\n",
       "| Masculino  | 40161      | 666        | 0.01658325 | 0.09760713 |\n",
       "\n"
      ],
      "text/plain": [
       "  Sexo      casos obitos mortalidade pct_comorbidade\n",
       "1 Feminino  44600 480    0.01076233  0.10634529     \n",
       "2 Masculino 40161 666    0.01658325  0.09760713     "
      ]
     },
     "metadata": {},
     "output_type": "display_data"
    }
   ],
   "source": [
    "df_Sexo <- df %>% \n",
    "  group_by(Sexo) %>%\n",
    "  summarise(casos = n(),\n",
    "            obitos = sum(Obito == \"Sim\"),\n",
    "            mortalidade = obitos / casos,\n",
    "            pct_comorbidade = sum(Comorbidade == 1) / casos\n",
    "            )\n",
    "\n",
    "head(df_Sexo)"
   ]
  },
  {
   "cell_type": "markdown",
   "metadata": {},
   "source": [
    "Gerando o gráfico"
   ]
  },
  {
   "cell_type": "code",
   "execution_count": 12,
   "metadata": {
    "scrolled": true
   },
   "outputs": [
    {
     "name": "stdout",
     "output_type": "stream",
     "text": [
      "[1] \"A mortalidade observada entre as mulheres foi de 1.1%\"\n",
      "[1] \"A mortalidade observada entre os homens foi de 1.7%\"\n",
      "[1] \"A média da amostra completa foi de 1.4%\"\n"
     ]
    },
    {
     "data": {
      "image/png": "[encoded data removed]",
      "text/plain": [
       "plot without title"
      ]
     },
     "metadata": {},
     "output_type": "display_data"
    }
   ],
   "source": [
    "# Mortalidade por grupos\n",
    "print(stringr::str_c(\"A mortalidade observada entre as mulheres foi de \", round(df_Sexo[1, 4] * 100, 1), \"%\"))\n",
    "print(stringr::str_c(\"A mortalidade observada entre os homens foi de \", round(df_Sexo[2, 4] * 100, 1), \"%\"))\n",
    "print(stringr::str_c(\"A média da amostra completa foi de \", \n",
    "                     round( 100 * sum(df_Sexo$obitos) / sum(df_Sexo$casos), 1), \"%\"))\n",
    "\n",
    "# Gráfico de mortalidade\n",
    "df_Sexo %>%\n",
    " ggplot(aes(x = Sexo, y = mortalidade * 100)) +\n",
    " geom_bar(stat = \"identity\", fill = c(\"#fd4343\", \"#00BFC4\")) +\n",
    " geom_text(aes(x = Sexo, y = mortalidade * 100, \n",
    "               label = paste(c(round(mortalidade * 100, 1)), \"%\")),\n",
    "           vjust=0) +\n",
    " theme_minimal() + # Fundo branco\n",
    " labs(x = NULL, y = NULL,\n",
    "     title = \"Mortalidade por covid-19 no DF por sexo da pessoa\",\n",
    "     subtitle = stringr::str_c(\"Dados até \", last_update),\n",
    "     caption = \"Fonte: SESDF / SSP-DF \\n Elaboração: @stuquer_\") # Rodapé"
   ]
  },
  {
   "cell_type": "markdown",
   "metadata": {},
   "source": [
    "#### Significância estatística da diferença"
   ]
  },
  {
   "cell_type": "markdown",
   "metadata": {},
   "source": [
    "Veremos agora se essa diferença na mortalidade de mulheres e homens é estatisticamente significante. Isso será confirmado se o p-valor do teste de proporções for menor ou igual a 0.1 (10%)."
   ]
  },
  {
   "cell_type": "code",
   "execution_count": 13,
   "metadata": {
    "scrolled": false
   },
   "outputs": [
    {
     "data": {
      "text/plain": [
       "\n",
       "\t2-sample test for equality of proportions without continuity\n",
       "\tcorrection\n",
       "\n",
       "data:  df_Sexo$obitos out of df_Sexo$casos\n",
       "X-squared = 53.685, df = 1, p-value = 2.354e-13\n",
       "alternative hypothesis: two.sided\n",
       "95 percent confidence interval:\n",
       " -0.007394739 -0.004247102\n",
       "sample estimates:\n",
       "    prop 1     prop 2 \n",
       "0.01076233 0.01658325 \n"
      ]
     },
     "metadata": {},
     "output_type": "display_data"
    }
   ],
   "source": [
    "# Teste bicaudal\n",
    "our_test <- prop.test(df_Sexo$obitos, df_Sexo$casos, p = NULL, alternative = \"two.sided\",\n",
    "          correct = FALSE)\n",
    "\n",
    "our_test"
   ]
  },
  {
   "cell_type": "code",
   "execution_count": 14,
   "metadata": {},
   "outputs": [
    {
     "name": "stdout",
     "output_type": "stream",
     "text": [
      "[1] \"De acordo com o p-valor do teste, essa diferença é significante ao nível de 1% (!!!)\"\n"
     ]
    }
   ],
   "source": [
    "if (our_test$p.value > 0.10){\n",
    "    print(\"De acordo com o p-valor do teste, essa diferença não é estatísticamente significante\")\n",
    "} else if (our_test$p.value > 0.05) {\n",
    "    print(\"De acordo com o p-valor do teste, essa diferença é significante ao nível de 10%\")\n",
    "} else if (our_test$p.value > 0.01) {\n",
    "    print(\"De acordo com o p-valor do teste, essa diferença é significante ao nível de 5%\")\n",
    "} else {\n",
    "    print(\"De acordo com o p-valor do teste, essa diferença é significante ao nível de 1% (!!!)\")\n",
    "}"
   ]
  },
  {
   "cell_type": "markdown",
   "metadata": {},
   "source": [
    "### Mortalidade por Região Administrativa"
   ]
  },
  {
   "cell_type": "markdown",
   "metadata": {},
   "source": [
    "Agora, analisaremos os dados agregados por Região Administrativa (RA). Primeiro iremos corrigir o nome da factor Águas Claras, e em seguida vamos agrupar os dados por RA. Por fim, criaremos o gráfico de taxa de mortalidade por RA."
   ]
  },
  {
   "cell_type": "code",
   "execution_count": 15,
   "metadata": {},
   "outputs": [
    {
     "data": {
      "text/html": [
       "<table>\n",
       "<thead><tr><th scope=col>RA</th><th scope=col>casos</th><th scope=col>obitos</th><th scope=col>mortalidade</th><th scope=col>pct_comorbidade</th><th scope=col>pct_mulheres</th><th scope=col>pct_homens</th></tr></thead>\n",
       "<tbody>\n",
       "\t<tr><td>Aguas Claras  </td><td> 3223         </td><td> 24           </td><td>0.007446478   </td><td>0.06484642    </td><td>0.5215638     </td><td>0.4784362     </td></tr>\n",
       "\t<tr><td>Arniqueira    </td><td>  245         </td><td>  3           </td><td>0.012244898   </td><td>0.11020408    </td><td>0.4938776     </td><td>0.5061224     </td></tr>\n",
       "\t<tr><td>Brazlândia    </td><td> 1074         </td><td> 22           </td><td>0.020484171   </td><td>0.16480447    </td><td>0.5558659     </td><td>0.4441341     </td></tr>\n",
       "\t<tr><td>Candangolândia</td><td>  556         </td><td>  7           </td><td>0.012589928   </td><td>0.16007194    </td><td>0.5899281     </td><td>0.4100719     </td></tr>\n",
       "\t<tr><td>Ceilândia     </td><td>10269         </td><td>224           </td><td>0.021813224   </td><td>0.11792774    </td><td>0.5461097     </td><td>0.4538903     </td></tr>\n",
       "\t<tr><td>Cruzeiro      </td><td>  694         </td><td>  4           </td><td>0.005763689   </td><td>0.09365994    </td><td>0.5216138     </td><td>0.4783862     </td></tr>\n",
       "</tbody>\n",
       "</table>\n"
      ],
      "text/latex": [
       "\\begin{tabular}{r|lllllll}\n",
       " RA & casos & obitos & mortalidade & pct\\_comorbidade & pct\\_mulheres & pct\\_homens\\\\\n",
       "\\hline\n",
       "\t Aguas Claras   &  3223          &  24            & 0.007446478    & 0.06484642     & 0.5215638      & 0.4784362     \\\\\n",
       "\t Arniqueira     &   245          &   3            & 0.012244898    & 0.11020408     & 0.4938776      & 0.5061224     \\\\\n",
       "\t Brazlândia     &  1074          &  22            & 0.020484171    & 0.16480447     & 0.5558659      & 0.4441341     \\\\\n",
       "\t Candangolândia &   556          &   7            & 0.012589928    & 0.16007194     & 0.5899281      & 0.4100719     \\\\\n",
       "\t Ceilândia      & 10269          & 224            & 0.021813224    & 0.11792774     & 0.5461097      & 0.4538903     \\\\\n",
       "\t Cruzeiro       &   694          &   4            & 0.005763689    & 0.09365994     & 0.5216138      & 0.4783862     \\\\\n",
       "\\end{tabular}\n"
      ],
      "text/markdown": [
       "\n",
       "| RA | casos | obitos | mortalidade | pct_comorbidade | pct_mulheres | pct_homens |\n",
       "|---|---|---|---|---|---|---|\n",
       "| Aguas Claras   |  3223          |  24            | 0.007446478    | 0.06484642     | 0.5215638      | 0.4784362      |\n",
       "| Arniqueira     |   245          |   3            | 0.012244898    | 0.11020408     | 0.4938776      | 0.5061224      |\n",
       "| Brazlândia     |  1074          |  22            | 0.020484171    | 0.16480447     | 0.5558659      | 0.4441341      |\n",
       "| Candangolândia |   556          |   7            | 0.012589928    | 0.16007194     | 0.5899281      | 0.4100719      |\n",
       "| Ceilândia      | 10269          | 224            | 0.021813224    | 0.11792774     | 0.5461097      | 0.4538903      |\n",
       "| Cruzeiro       |   694          |   4            | 0.005763689    | 0.09365994     | 0.5216138      | 0.4783862      |\n",
       "\n"
      ],
      "text/plain": [
       "  RA             casos obitos mortalidade pct_comorbidade pct_mulheres\n",
       "1 Aguas Claras    3223  24    0.007446478 0.06484642      0.5215638   \n",
       "2 Arniqueira       245   3    0.012244898 0.11020408      0.4938776   \n",
       "3 Brazlândia      1074  22    0.020484171 0.16480447      0.5558659   \n",
       "4 Candangolândia   556   7    0.012589928 0.16007194      0.5899281   \n",
       "5 Ceilândia      10269 224    0.021813224 0.11792774      0.5461097   \n",
       "6 Cruzeiro         694   4    0.005763689 0.09365994      0.5216138   \n",
       "  pct_homens\n",
       "1 0.4784362 \n",
       "2 0.5061224 \n",
       "3 0.4441341 \n",
       "4 0.4100719 \n",
       "5 0.4538903 \n",
       "6 0.4783862 "
      ]
     },
     "metadata": {},
     "output_type": "display_data"
    }
   ],
   "source": [
    "# Retira o acento de \"Águas Claras\", para evitar problemas com ordem alfabética\n",
    "df <- df %>%\n",
    "  mutate(RA = ifelse(RA == \"Águas Claras\", \"Aguas Claras\", RA),\n",
    "         RA = as.factor(RA))\n",
    "\n",
    "# Agrupa os dados por RA\n",
    "df_RA <- df %>% \n",
    "  group_by(RA) %>%\n",
    "  summarise(casos = n(),\n",
    "            obitos = sum(Obito == \"Sim\"),\n",
    "            mortalidade = obitos / casos,\n",
    "            pct_comorbidade = sum(Comorbidade == 1) / casos,\n",
    "            pct_mulheres = sum(Sexo == \"Feminino\")/casos,\n",
    "            pct_homens = 1 - pct_mulheres\n",
    "            )\n",
    "\n",
    "head(df_RA)"
   ]
  },
  {
   "cell_type": "markdown",
   "metadata": {},
   "source": [
    "Gerando agora o gráfico de mortalidade por Região Administrativa, excluídos os casos em que essa informação consta como \"Não Informado\" ou \"Outros Estados\""
   ]
  },
  {
   "cell_type": "code",
   "execution_count": 16,
   "metadata": {
    "scrolled": true
   },
   "outputs": [
    {
     "data": {
      "image/png": "[encoded data removed]",
      "text/plain": [
       "plot without title"
      ]
     },
     "metadata": {},
     "output_type": "display_data"
    }
   ],
   "source": [
    "df_RA %>%\n",
    " filter(RA != \"Não Informado\", RA != \"Outros Estados\") %>%\n",
    " ggplot(aes(x = reorder(RA, mortalidade), y = mortalidade * 100)) +\n",
    " geom_bar(stat = \"identity\", fill = \"red\") +\n",
    " geom_hline(yintercept=(100* sum(df$Obito == \"Sim\") / nrow(df)), linetype=\"dashed\", color = \"black\") + # Linha da média\n",
    " coord_flip() +  # Deixa o gráfico na horizontal\n",
    " theme_minimal() + # Fundo branco\n",
    " theme(plot.title = element_text(face = \"bold\")) + # Título em negrito\n",
    " labs(x = NULL, y = NULL,\n",
    "      title = \"Mortalidade em casos de covid-19 no DF (em %)\",\n",
    "      subtitle = stringr::str_c(\"Dados até \", last_update),\n",
    "      caption = \"Fonte: SESDF / SSP-DF \\n Elaboração: @stuquer_\") # Rodapé"
   ]
  },
  {
   "cell_type": "markdown",
   "metadata": {},
   "source": [
    "### Evolução dos novos casos"
   ]
  },
  {
   "cell_type": "markdown",
   "metadata": {},
   "source": [
    "Para concluir, faremos o agrupamento por dias."
   ]
  },
  {
   "cell_type": "code",
   "execution_count": 17,
   "metadata": {},
   "outputs": [
    {
     "data": {
      "text/html": [
       "<table>\n",
       "<thead><tr><th scope=col>DataCadastro</th><th scope=col>casos</th><th scope=col>obitos</th></tr></thead>\n",
       "<tbody>\n",
       "\t<tr><td>2020-03-01</td><td> 1        </td><td>0         </td></tr>\n",
       "\t<tr><td>2020-03-16</td><td> 1        </td><td>0         </td></tr>\n",
       "\t<tr><td>2020-03-17</td><td> 1        </td><td>0         </td></tr>\n",
       "\t<tr><td>2020-03-18</td><td>22        </td><td>0         </td></tr>\n",
       "\t<tr><td>2020-03-19</td><td>41        </td><td>0         </td></tr>\n",
       "\t<tr><td>2020-03-20</td><td>20        </td><td>0         </td></tr>\n",
       "</tbody>\n",
       "</table>\n"
      ],
      "text/latex": [
       "\\begin{tabular}{r|lll}\n",
       " DataCadastro & casos & obitos\\\\\n",
       "\\hline\n",
       "\t 2020-03-01 &  1         & 0         \\\\\n",
       "\t 2020-03-16 &  1         & 0         \\\\\n",
       "\t 2020-03-17 &  1         & 0         \\\\\n",
       "\t 2020-03-18 & 22         & 0         \\\\\n",
       "\t 2020-03-19 & 41         & 0         \\\\\n",
       "\t 2020-03-20 & 20         & 0         \\\\\n",
       "\\end{tabular}\n"
      ],
      "text/markdown": [
       "\n",
       "| DataCadastro | casos | obitos |\n",
       "|---|---|---|\n",
       "| 2020-03-01 |  1         | 0          |\n",
       "| 2020-03-16 |  1         | 0          |\n",
       "| 2020-03-17 |  1         | 0          |\n",
       "| 2020-03-18 | 22         | 0          |\n",
       "| 2020-03-19 | 41         | 0          |\n",
       "| 2020-03-20 | 20         | 0          |\n",
       "\n"
      ],
      "text/plain": [
       "  DataCadastro casos obitos\n",
       "1 2020-03-01    1    0     \n",
       "2 2020-03-16    1    0     \n",
       "3 2020-03-17    1    0     \n",
       "4 2020-03-18   22    0     \n",
       "5 2020-03-19   41    0     \n",
       "6 2020-03-20   20    0     "
      ]
     },
     "metadata": {},
     "output_type": "display_data"
    }
   ],
   "source": [
    "# Estatísticas agregadas por data\n",
    "df_Data <- df %>% \n",
    "  group_by(DataCadastro) %>%\n",
    "  summarise(casos = n(),\n",
    "            obitos = sum(Obito == \"Sim\"))\n",
    "\n",
    "head(df_Data)"
   ]
  },
  {
   "cell_type": "markdown",
   "metadata": {},
   "source": [
    "E finalmente, o gráfico com o número de novos casos por dia, bem como sua média móvel de 14 dias."
   ]
  },
  {
   "cell_type": "code",
   "execution_count": 18,
   "metadata": {},
   "outputs": [
    {
     "name": "stderr",
     "output_type": "stream",
     "text": [
      "Warning message:\n",
      "\"package 'tidyquant' was built under R version 3.6.3\"Loading required package: PerformanceAnalytics\n",
      "Warning message:\n",
      "\"package 'PerformanceAnalytics' was built under R version 3.6.3\"Loading required package: xts\n",
      "Warning message:\n",
      "\"package 'xts' was built under R version 3.6.2\"Loading required package: zoo\n",
      "Warning message:\n",
      "\"package 'zoo' was built under R version 3.6.2\"\n",
      "Attaching package: 'zoo'\n",
      "\n",
      "The following objects are masked from 'package:base':\n",
      "\n",
      "    as.Date, as.Date.numeric\n",
      "\n",
      "\n",
      "Attaching package: 'xts'\n",
      "\n",
      "The following objects are masked from 'package:dplyr':\n",
      "\n",
      "    first, last\n",
      "\n",
      "\n",
      "Attaching package: 'PerformanceAnalytics'\n",
      "\n",
      "The following object is masked from 'package:graphics':\n",
      "\n",
      "    legend\n",
      "\n",
      "Loading required package: quantmod\n",
      "Loading required package: TTR\n",
      "Registered S3 method overwritten by 'quantmod':\n",
      "  method            from\n",
      "  as.zoo.data.frame zoo \n",
      "Version 0.4-0 included new data defaults. See ?getSymbols.\n",
      "== Need to Learn tidyquant? ====================================================\n",
      "Business Science offers a 1-hour course - Learning Lab #9: Performance Analysis & Portfolio Optimization with tidyquant!\n",
      "</> Learn more at: https://university.business-science.io/p/learning-labs-pro </>\n"
     ]
    }
   ],
   "source": [
    "library(tidyquant) # Para médias móveis"
   ]
  },
  {
   "cell_type": "code",
   "execution_count": 19,
   "metadata": {
    "scrolled": true
   },
   "outputs": [
    {
     "name": "stderr",
     "output_type": "stream",
     "text": [
      "Warning message:\n",
      "\"Removed 1 rows containing missing values (position_stack).\""
     ]
    },
    {
     "data": {
      "image/png": "[encoded data removed]",
      "text/plain": [
       "plot without title"
      ]
     },
     "metadata": {},
     "output_type": "display_data"
    }
   ],
   "source": [
    "# Novos casos, com média móvel para os últimos 14 dias\n",
    "df_Data %>%\n",
    "  ggplot(aes(x = DataCadastro, y = casos)) +\n",
    "  geom_bar(stat = \"identity\", fill = \"black\") +\n",
    "  geom_ma(ma_fun = SMA, n = 14, color = \"orangered2\", size = 1.5, linetype = \"solid\") +  # Média móvel\n",
    "  theme_minimal() + # Fundo branco\n",
    "  labs(x = NULL, y = NULL, # sem título pros eixos x e y\n",
    "      title = stringr::str_c(\"Novos casos diários de covid-19 no DF até \", last_update),\n",
    "      caption = \"Fonte: SESDF / SSP-DF \\n Elaboração: @stuquer_\") # Rodapé"
   ]
  }
 ],
 "metadata": {
  "kernelspec": {
   "display_name": "R",
   "language": "R",
   "name": "ir"
  },
  "language_info": {
   "codemirror_mode": "r",
   "file_extension": ".r",
   "mimetype": "text/x-r-source",
   "name": "R",
   "pygments_lexer": "r",
   "version": "3.6.1"
  }
 },
 "nbformat": 4,
 "nbformat_minor": 4
}
