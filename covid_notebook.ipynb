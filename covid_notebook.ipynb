{
 "cells": [
  {
   "cell_type": "markdown",
   "metadata": {},
   "source": [
    "Autor: Rodrigo Stuckert. Data: 2020-06-23"
   ]
  },
  {
   "cell_type": "markdown",
   "metadata": {},
   "source": [
    "# Análise da Covid-19 no Distrito Federal"
   ]
  },
  {
   "cell_type": "markdown",
   "metadata": {},
   "source": [
    "Este código foi feito para analisar os casos da covid-19 no Distrito Federal (DF)."
   ]
  },
  {
   "cell_type": "markdown",
   "metadata": {},
   "source": [
    "Cabe salientar que, a partir do dia 2020-07-09, houve uma alteração na disposição dos dados. Removeu-se o número de identificação de cada pessoa (**id**); adicionou-se uma nova variável, **dataPrimeirosintomas**, indicando o início dos sintomas; e, por fim, substitui-se a variável **Estado de Saúde** por uma **Óbito**, indicando se a pessoa faleceu até aquele dia, ou não."
   ]
  },
  {
   "cell_type": "markdown",
   "metadata": {},
   "source": [
    "Link para a página de extração dos dados: https://covid19.ssp.df.gov.br/extensions/covid19/covid19.html#/"
   ]
  },
  {
   "cell_type": "markdown",
   "metadata": {},
   "source": [
    "Dados do dia 2020-07-08 12:00"
   ]
  },
  {
   "cell_type": "markdown",
   "metadata": {},
   "source": [
    "## Extração dos dados"
   ]
  },
  {
   "cell_type": "code",
   "execution_count": 1,
   "metadata": {},
   "outputs": [
    {
     "name": "stderr",
     "output_type": "stream",
     "text": [
      "Warning message:\n",
      "\"package 'dplyr' was built under R version 3.6.2\"\n",
      "Attaching package: 'dplyr'\n",
      "\n",
      "The following objects are masked from 'package:stats':\n",
      "\n",
      "    filter, lag\n",
      "\n",
      "The following objects are masked from 'package:base':\n",
      "\n",
      "    intersect, setdiff, setequal, union\n",
      "\n",
      "Warning message:\n",
      "\"package 'lubridate' was built under R version 3.6.2\"\n",
      "Attaching package: 'lubridate'\n",
      "\n",
      "The following object is masked from 'package:base':\n",
      "\n",
      "    date\n",
      "\n",
      "Warning message:\n",
      "\"package 'ggplot2' was built under R version 3.6.2\"Warning message:\n",
      "\"package 'esquisse' was built under R version 3.6.3\""
     ]
    }
   ],
   "source": [
    "# Pacotes:\n",
    "library(dplyr)\n",
    "library(lubridate) # Manipular datas\n",
    "library(ggplot2)\n",
    "library(esquisse) # Interface pro ggplot2"
   ]
  },
  {
   "cell_type": "code",
   "execution_count": 2,
   "metadata": {
    "scrolled": true
   },
   "outputs": [],
   "source": [
    "# Puxa o arquivo e importa os dados\n",
    "arquivo <- \"datasets/dados-abertos.csv\"\n",
    "#link <- \"https://covid19.ssp.df.gov.br/resources/dados/dados-abertos.csv\"\n",
    "df <- data.table::fread(arquivo, encoding = \"UTF-8\", \n",
    "                        col.names = c(\"id\", \"Data\", \"DataCadastro\", \"Sexo\",\n",
    "                                      \"FaixaEtaria\", \"RA\", \"UF\", \"EstadoSaude\",\n",
    "                                      \"Pneumopatia\", \"Nefropatia\", \"DHematologica\",\n",
    "                                      \"DistMetabolico\", \"Imunopressao\", \"Obesidade\",\n",
    "                                      \"Outros\", \"Cardiovasculopatia\"),\n",
    "                        colClasses = list(factor= c(4, 6, 7)) # Colunas Sexo, RA e UF como factors\n",
    "                        )"
   ]
  },
  {
   "cell_type": "markdown",
   "metadata": {},
   "source": [
    "## Tratamento dos dados"
   ]
  },
  {
   "cell_type": "markdown",
   "metadata": {},
   "source": [
    "Primeiro, precisamos alterar o nome dos inputs da variável FaixaEtaria para que possamos torná-la uma factor corretamente."
   ]
  },
  {
   "cell_type": "code",
   "execution_count": 3,
   "metadata": {},
   "outputs": [],
   "source": [
    "# Corrige os nomes das faixas etárias e torna a variável factor.\n",
    "df <- df %>%\n",
    "  mutate(FaixaEtaria = ifelse(FaixaEtaria == \"<= 19 anos\", \"0 a 19 anos\", FaixaEtaria),\n",
    "         FaixaEtaria = ifelse(FaixaEtaria == \">= 60 anos\", \"60+ anos\", FaixaEtaria),\n",
    "         FaixaEtaria = as.factor(FaixaEtaria))\n",
    "\n",
    "# Pega a data de extração dos dados\n",
    "extraction_date <- df$Data[1] %>%\n",
    "  as.Date(format = '%d/%m/%Y')"
   ]
  },
  {
   "cell_type": "markdown",
   "metadata": {},
   "source": [
    "Agora, verificaremos a importação do arquivo."
   ]
  },
  {
   "cell_type": "code",
   "execution_count": 4,
   "metadata": {},
   "outputs": [
    {
     "name": "stdout",
     "output_type": "stream",
     "text": [
      "'data.frame':\t62867 obs. of  16 variables:\n",
      " $ id                : int  1 2 3 6 8 10 12 13 14 15 ...\n",
      " $ Data              : chr  \"08/07/2020\" \"08/07/2020\" \"08/07/2020\" \"08/07/2020\" ...\n",
      " $ DataCadastro      : chr  \"18/03/2020\" \"18/03/2020\" \"18/03/2020\" \"18/03/2020\" ...\n",
      " $ Sexo              : Factor w/ 2 levels \"Feminino\",\"Masculino\": 2 2 2 2 1 1 1 1 2 1 ...\n",
      " $ FaixaEtaria       : Factor w/ 6 levels \"0 a 19 anos\",..: 5 5 4 6 2 3 3 5 1 3 ...\n",
      " $ RA                : Factor w/ 37 levels \"Arniqueira\",\"Brazlândia\",..: 20 13 13 37 20 20 11 13 32 13 ...\n",
      " $ UF                : Factor w/ 28 levels \"\",\"ACRE\",\"ALAGOAS\",..: 8 8 8 8 8 8 8 8 8 8 ...\n",
      " $ EstadoSaude       : chr  \"Recuperado\" \"Recuperado\" \"Recuperado\" \"Recuperado\" ...\n",
      " $ Pneumopatia       : chr  \"\" \"Sim\" \"\" \"Não\" ...\n",
      " $ Nefropatia        : chr  \"\" \"Não\" \"\" \"Não\" ...\n",
      " $ DHematologica     : chr  \"\" \"Não\" \"\" \"Não\" ...\n",
      " $ DistMetabolico    : chr  \"\" \"Sim\" \"\" \"Sim\" ...\n",
      " $ Imunopressao      : chr  \"\" \"Não\" \"\" \"Não\" ...\n",
      " $ Obesidade         : chr  \"\" \"Não\" \"\" \"Não\" ...\n",
      " $ Outros            : chr  \"\" \"Não\" \"\" \"Não\" ...\n",
      " $ Cardiovasculopatia: chr  \"\" \"Não\" \"\" \"Sim\" ...\n"
     ]
    },
    {
     "data": {
      "text/html": [
       "<table>\n",
       "<thead><tr><th scope=col>id</th><th scope=col>Data</th><th scope=col>DataCadastro</th><th scope=col>Sexo</th><th scope=col>FaixaEtaria</th><th scope=col>RA</th><th scope=col>UF</th><th scope=col>EstadoSaude</th><th scope=col>Pneumopatia</th><th scope=col>Nefropatia</th><th scope=col>DHematologica</th><th scope=col>DistMetabolico</th><th scope=col>Imunopressao</th><th scope=col>Obesidade</th><th scope=col>Outros</th><th scope=col>Cardiovasculopatia</th></tr></thead>\n",
       "<tbody>\n",
       "\t<tr><td> 1              </td><td>08/07/2020      </td><td>18/03/2020      </td><td>Masculino       </td><td>50 a 59 anos    </td><td>Plano Piloto    </td><td>DISTRITO FEDERAL</td><td>Recuperado      </td><td>                </td><td>                </td><td>                </td><td>                </td><td>                </td><td>                </td><td>                </td><td>                </td></tr>\n",
       "\t<tr><td> 2              </td><td>08/07/2020      </td><td>18/03/2020      </td><td>Masculino       </td><td>50 a 59 anos    </td><td>Lago Sul        </td><td>DISTRITO FEDERAL</td><td>Recuperado      </td><td>Sim             </td><td>Não             </td><td>Não             </td><td>Sim             </td><td>Não             </td><td>Não             </td><td>Não             </td><td>Não             </td></tr>\n",
       "\t<tr><td> 3              </td><td>08/07/2020      </td><td>18/03/2020      </td><td>Masculino       </td><td>40 a 49 anos    </td><td>Lago Sul        </td><td>DISTRITO FEDERAL</td><td>Recuperado      </td><td>                </td><td>                </td><td>                </td><td>                </td><td>                </td><td>                </td><td>                </td><td>                </td></tr>\n",
       "\t<tr><td> 6              </td><td>08/07/2020      </td><td>18/03/2020      </td><td>Masculino       </td><td>60+ anos        </td><td>Águas Claras    </td><td>DISTRITO FEDERAL</td><td>Recuperado      </td><td>Não             </td><td>Não             </td><td>Não             </td><td>Sim             </td><td>Não             </td><td>Não             </td><td>Não             </td><td>Sim             </td></tr>\n",
       "\t<tr><td> 8              </td><td>08/07/2020      </td><td>18/03/2020      </td><td>Feminino        </td><td>20 a 29 anos    </td><td>Plano Piloto    </td><td>DISTRITO FEDERAL</td><td>Recuperado      </td><td>                </td><td>                </td><td>                </td><td>                </td><td>                </td><td>                </td><td>                </td><td>                </td></tr>\n",
       "\t<tr><td>10              </td><td>08/07/2020      </td><td>16/03/2020      </td><td>Feminino        </td><td>30 a 39 anos    </td><td>Plano Piloto    </td><td>DISTRITO FEDERAL</td><td>Recuperado      </td><td>                </td><td>                </td><td>                </td><td>                </td><td>                </td><td>                </td><td>                </td><td>                </td></tr>\n",
       "</tbody>\n",
       "</table>\n"
      ],
      "text/latex": [
       "\\begin{tabular}{r|llllllllllllllll}\n",
       " id & Data & DataCadastro & Sexo & FaixaEtaria & RA & UF & EstadoSaude & Pneumopatia & Nefropatia & DHematologica & DistMetabolico & Imunopressao & Obesidade & Outros & Cardiovasculopatia\\\\\n",
       "\\hline\n",
       "\t  1               & 08/07/2020       & 18/03/2020       & Masculino        & 50 a 59 anos     & Plano Piloto     & DISTRITO FEDERAL & Recuperado       &                  &                  &                  &                  &                  &                  &                  &                 \\\\\n",
       "\t  2               & 08/07/2020       & 18/03/2020       & Masculino        & 50 a 59 anos     & Lago Sul         & DISTRITO FEDERAL & Recuperado       & Sim              & Não              & Não              & Sim              & Não              & Não              & Não              & Não             \\\\\n",
       "\t  3               & 08/07/2020       & 18/03/2020       & Masculino        & 40 a 49 anos     & Lago Sul         & DISTRITO FEDERAL & Recuperado       &                  &                  &                  &                  &                  &                  &                  &                 \\\\\n",
       "\t  6               & 08/07/2020       & 18/03/2020       & Masculino        & 60+ anos         & Águas Claras     & DISTRITO FEDERAL & Recuperado       & Não              & Não              & Não              & Sim              & Não              & Não              & Não              & Sim             \\\\\n",
       "\t  8               & 08/07/2020       & 18/03/2020       & Feminino         & 20 a 29 anos     & Plano Piloto     & DISTRITO FEDERAL & Recuperado       &                  &                  &                  &                  &                  &                  &                  &                 \\\\\n",
       "\t 10               & 08/07/2020       & 16/03/2020       & Feminino         & 30 a 39 anos     & Plano Piloto     & DISTRITO FEDERAL & Recuperado       &                  &                  &                  &                  &                  &                  &                  &                 \\\\\n",
       "\\end{tabular}\n"
      ],
      "text/markdown": [
       "\n",
       "| id | Data | DataCadastro | Sexo | FaixaEtaria | RA | UF | EstadoSaude | Pneumopatia | Nefropatia | DHematologica | DistMetabolico | Imunopressao | Obesidade | Outros | Cardiovasculopatia |\n",
       "|---|---|---|---|---|---|---|---|---|---|---|---|---|---|---|---|\n",
       "|  1               | 08/07/2020       | 18/03/2020       | Masculino        | 50 a 59 anos     | Plano Piloto     | DISTRITO FEDERAL | Recuperado       |                  |                  |                  |                  |                  |                  |                  |                  |\n",
       "|  2               | 08/07/2020       | 18/03/2020       | Masculino        | 50 a 59 anos     | Lago Sul         | DISTRITO FEDERAL | Recuperado       | Sim              | Não              | Não              | Sim              | Não              | Não              | Não              | Não              |\n",
       "|  3               | 08/07/2020       | 18/03/2020       | Masculino        | 40 a 49 anos     | Lago Sul         | DISTRITO FEDERAL | Recuperado       |                  |                  |                  |                  |                  |                  |                  |                  |\n",
       "|  6               | 08/07/2020       | 18/03/2020       | Masculino        | 60+ anos         | Águas Claras     | DISTRITO FEDERAL | Recuperado       | Não              | Não              | Não              | Sim              | Não              | Não              | Não              | Sim              |\n",
       "|  8               | 08/07/2020       | 18/03/2020       | Feminino         | 20 a 29 anos     | Plano Piloto     | DISTRITO FEDERAL | Recuperado       |                  |                  |                  |                  |                  |                  |                  |                  |\n",
       "| 10               | 08/07/2020       | 16/03/2020       | Feminino         | 30 a 39 anos     | Plano Piloto     | DISTRITO FEDERAL | Recuperado       |                  |                  |                  |                  |                  |                  |                  |                  |\n",
       "\n"
      ],
      "text/plain": [
       "  id Data       DataCadastro Sexo      FaixaEtaria  RA          \n",
       "1  1 08/07/2020 18/03/2020   Masculino 50 a 59 anos Plano Piloto\n",
       "2  2 08/07/2020 18/03/2020   Masculino 50 a 59 anos Lago Sul    \n",
       "3  3 08/07/2020 18/03/2020   Masculino 40 a 49 anos Lago Sul    \n",
       "4  6 08/07/2020 18/03/2020   Masculino 60+ anos     Águas Claras\n",
       "5  8 08/07/2020 18/03/2020   Feminino  20 a 29 anos Plano Piloto\n",
       "6 10 08/07/2020 16/03/2020   Feminino  30 a 39 anos Plano Piloto\n",
       "  UF               EstadoSaude Pneumopatia Nefropatia DHematologica\n",
       "1 DISTRITO FEDERAL Recuperado                                      \n",
       "2 DISTRITO FEDERAL Recuperado  Sim         Não        Não          \n",
       "3 DISTRITO FEDERAL Recuperado                                      \n",
       "4 DISTRITO FEDERAL Recuperado  Não         Não        Não          \n",
       "5 DISTRITO FEDERAL Recuperado                                      \n",
       "6 DISTRITO FEDERAL Recuperado                                      \n",
       "  DistMetabolico Imunopressao Obesidade Outros Cardiovasculopatia\n",
       "1                                                                \n",
       "2 Sim            Não          Não       Não    Não               \n",
       "3                                                                \n",
       "4 Sim            Não          Não       Não    Sim               \n",
       "5                                                                \n",
       "6                                                                "
      ]
     },
     "metadata": {},
     "output_type": "display_data"
    }
   ],
   "source": [
    "# Verifica a importação do arquivo\n",
    "str(df) # Estrutura\n",
    "head(df) # Início\n",
    "#tail(df) # Fim"
   ]
  },
  {
   "cell_type": "markdown",
   "metadata": {},
   "source": [
    "#### Agora, faremos o tratamento dos dados propriamente dito."
   ]
  },
  {
   "cell_type": "markdown",
   "metadata": {},
   "source": [
    "Devemos ter cautela especial quanto à variável Comorbidade. Inicialmente, pessoas com alguma comorbidade recebiam \"Sim\" para aquelas que apresentassem, e \"Não\" para todas as demais, enquanto que quem não apresentasse nenhuma aparecia como NA para todas. Após determinada data, o GDF passou a apenas a categorizar aqueles que apresentassem alguma comorbidade.\n"
   ]
  },
  {
   "cell_type": "code",
   "execution_count": 5,
   "metadata": {},
   "outputs": [
    {
     "data": {
      "text/html": [
       "'Date'"
      ],
      "text/latex": [
       "'Date'"
      ],
      "text/markdown": [
       "'Date'"
      ],
      "text/plain": [
       "[1] \"Date\""
      ]
     },
     "metadata": {},
     "output_type": "display_data"
    },
    {
     "data": {
      "text/html": [
       "<ol class=list-inline>\n",
       "\t<li><time datetime=\"2020-03-18\">2020-03-18</time></li>\n",
       "\t<li><time datetime=\"2020-03-18\">2020-03-18</time></li>\n",
       "\t<li><time datetime=\"2020-03-18\">2020-03-18</time></li>\n",
       "\t<li><time datetime=\"2020-03-18\">2020-03-18</time></li>\n",
       "\t<li><time datetime=\"2020-03-18\">2020-03-18</time></li>\n",
       "\t<li><time datetime=\"2020-03-16\">2020-03-16</time></li>\n",
       "</ol>\n"
      ],
      "text/latex": [
       "\\begin{enumerate*}\n",
       "\\item 2020-03-18\n",
       "\\item 2020-03-18\n",
       "\\item 2020-03-18\n",
       "\\item 2020-03-18\n",
       "\\item 2020-03-18\n",
       "\\item 2020-03-16\n",
       "\\end{enumerate*}\n"
      ],
      "text/markdown": [
       "1. 2020-03-18\n",
       "2. 2020-03-18\n",
       "3. 2020-03-18\n",
       "4. 2020-03-18\n",
       "5. 2020-03-18\n",
       "6. 2020-03-16\n",
       "\n",
       "\n"
      ],
      "text/plain": [
       "[1] \"2020-03-18\" \"2020-03-18\" \"2020-03-18\" \"2020-03-18\" \"2020-03-18\"\n",
       "[6] \"2020-03-16\""
      ]
     },
     "metadata": {},
     "output_type": "display_data"
    },
    {
     "data": {
      "text/plain": [
       "\n",
       "     Ativo      Óbito Recuperado \n",
       "     11198        789      50880 "
      ]
     },
     "metadata": {},
     "output_type": "display_data"
    }
   ],
   "source": [
    "# Bota os valores das comorbidades como binários (Apresenta = 1, não apresenta / NA = 0)\n",
    "df <- df %>% \n",
    "  mutate(Pneumopatia = ifelse(Pneumopatia == \"Sim\", 1, 0), \n",
    "         Nefropatia = ifelse(Nefropatia == \"Sim\", 1, 0),\n",
    "         DHematologica = ifelse(DHematologica == \"Sim\", 1, 0),\n",
    "         DistMetabolico = ifelse(DistMetabolico == \"Sim\", 1, 0),\n",
    "         Imunopressao = ifelse(Imunopressao == \"Sim\", 1, 0),\n",
    "         Obesidade = ifelse(Obesidade == \"Sim\", 1, 0),\n",
    "         Outros = ifelse(Outros == \"Sim\", 1, 0),\n",
    "         Cardiovasculopatia = ifelse(Cardiovasculopatia == \"Sim\", 1, 0)\n",
    "  )\n",
    "\n",
    "\n",
    "# Remove a coluna com a data de extração, corrige a coluna das datas de entrada,\n",
    "# e cria as variáveis \"Tem comorbidade?\" e \"Estado ativo?\"\n",
    "df <- df %>%\n",
    "  \n",
    "  select(-c(\"Data\")) %>%\n",
    "  \n",
    "  mutate(DataCadastro = as.Date(DataCadastro, format = '%d/%m/%Y'),\n",
    "         Comorbidade = case_when(Pneumopatia + Nefropatia + DHematologica + DistMetabolico + Imunopressao + Outros + Cardiovasculopatia > 0 ~ 1, TRUE ~ 0),\n",
    "         Status = ifelse(EstadoSaude %in% c(\"Leve\", \"Moderado\", \"Grave\", \"Não Informado\"), \n",
    "                         \"Ativo\", EstadoSaude)) # Cria a variável \"Status\", que mostra se a pessoa está recuperada,se foi a óbito, ou se é um caso ativo.\n",
    "\n",
    "# Verificando novamente\n",
    "class(df$DataCadastro)\n",
    "head(df$DataCadastro)\n",
    "table(df$Status) # Variável de estado do paciente"
   ]
  },
  {
   "cell_type": "code",
   "execution_count": 6,
   "metadata": {},
   "outputs": [],
   "source": [
    "df <- df %>%\n",
    "  mutate(Comorbidade = as.factor(df$Comorbidade))"
   ]
  },
  {
   "cell_type": "markdown",
   "metadata": {},
   "source": [
    "## Análise exploratória"
   ]
  },
  {
   "cell_type": "markdown",
   "metadata": {},
   "source": [
    "Agora, seguiremos com a análise exploratória dos dados. Primeiro, geraremos agregações dos dados por categorias de interesse; em seguida, prosseguiremos com a elaboração de gráficos."
   ]
  },
  {
   "cell_type": "markdown",
   "metadata": {},
   "source": [
    "### Estatísticas agregadas"
   ]
  },
  {
   "cell_type": "markdown",
   "metadata": {},
   "source": [
    "Gerando estatísticas agregadas pelas Regiões Administrativas (RA's) do Distrito Federal, por gênero e faixa etária:"
   ]
  },
  {
   "cell_type": "code",
   "execution_count": 7,
   "metadata": {},
   "outputs": [],
   "source": [
    "# Gera estatísticas agrupadas...\n",
    "# ... por Região Administrativa do Distrito Federal (RA)\n",
    "grouped_by_RA <- df %>% \n",
    "  group_by(RA) %>%\n",
    "  summarise(casos = n(),\n",
    "            casos_ativos = sum(Status == \"Ativo\"),\n",
    "            obitos = sum(Status == \"Óbito\"),\n",
    "            mortalidade = obitos / casos,\n",
    "            pct_comorbidade = sum(Comorbidade == 1) / casos,\n",
    "            pct_mulheres = sum(Sexo == \"Feminino\")/casos,\n",
    "            pct_homens = 1 - pct_mulheres\n",
    "            )\n",
    "\n",
    "# ... por sexo da pessoa\n",
    "grouped_by_Sexo <- df %>% \n",
    "  group_by(Sexo) %>%\n",
    "  summarise(casos = n(),\n",
    "            casos_ativos = sum(Status == \"Ativo\"),\n",
    "            obitos = sum(Status == \"Óbito\"),\n",
    "            mortalidade = obitos / casos,\n",
    "            pct_comorbidade = sum(Comorbidade == 1) / casos\n",
    "            )\n",
    "\n",
    "# ...por faixa etária\n",
    "grouped_by_FxEtaria <- df %>% \n",
    "  group_by(FaixaEtaria) %>%\n",
    "  summarise(casos = n(),\n",
    "            casos_ativos = sum(Status == \"Ativo\"),\n",
    "            obitos = sum(Status == \"Óbito\"),\n",
    "            pct_obitos = sum(Status == \"Óbito\") / sum(df$Status == \"Óbito\"),\n",
    "            mortalidade = obitos / casos,\n",
    "            pct_comorbidade = sum(Comorbidade == 1) / casos,\n",
    "            pct_mulheres = sum(Sexo == \"Feminino\")/casos,\n",
    "            pct_homens = 1 - pct_mulheres\n",
    "            )\n",
    "\n",
    "# ...por data\n",
    "grouped_by_Data <- df %>% \n",
    "  group_by(DataCadastro) %>%\n",
    "  summarise(casos = n(),\n",
    "            casos_ativos = sum(Status == \"Ativo\"),\n",
    "            obitos = sum(Status == \"Óbito\"),\n",
    "            pct_obitos = sum(Status == \"Óbito\") / sum(df$Status == \"Óbito\"),\n",
    "            mortalidade = obitos / casos,\n",
    "            pct_comorbidade = sum(Comorbidade == 1) / casos,\n",
    "            pct_mulheres = sum(Sexo == \"Feminino\")/casos,\n",
    "            pct_homens = 1 - pct_mulheres\n",
    "            )"
   ]
  },
  {
   "cell_type": "markdown",
   "metadata": {},
   "source": [
    "### Visualização gráfica"
   ]
  },
  {
   "cell_type": "code",
   "execution_count": 8,
   "metadata": {},
   "outputs": [
    {
     "data": {
      "image/png": "[encoded data removed]",
      "text/plain": [
       "plot without title"
      ]
     },
     "metadata": {},
     "output_type": "display_data"
    }
   ],
   "source": [
    "# Visualização gráfica.\n",
    "#esquisser(data = df)\n",
    "\n",
    "df %>%\n",
    " filter(!(UF %in% \"\")) %>%\n",
    " ggplot() +\n",
    " aes(x = EstadoSaude, fill = FaixaEtaria) +\n",
    " geom_bar(position = \"fill\") +\n",
    " scale_fill_viridis_d(option = \"inferno\") +\n",
    " labs(x = \"Estado de Saude\", y = \"Percentual dentre o nº total\")"
   ]
  },
  {
   "cell_type": "code",
   "execution_count": 12,
   "metadata": {},
   "outputs": [
    {
     "data": {
      "image/png": "[encoded data removed]",
      "text/plain": [
       "plot without title"
      ]
     },
     "metadata": {},
     "output_type": "display_data"
    }
   ],
   "source": [
    "df %>%\n",
    "  filter(!(UF %in% \"\")) %>%\n",
    "  ggplot() +\n",
    "  aes(x = Comorbidade, fill = Comorbidade) +\n",
    "  geom_bar() +\n",
    "  scale_fill_hue() +\n",
    "  labs(x = \"Regiões Administrativas\") +\n",
    "  facet_wrap(vars(RA))"
   ]
  },
  {
   "cell_type": "code",
   "execution_count": 10,
   "metadata": {
    "scrolled": true
   },
   "outputs": [
    {
     "name": "stderr",
     "output_type": "stream",
     "text": [
      "Warning message:\n",
      "\"package 'tidyquant' was built under R version 3.6.3\"Loading required package: PerformanceAnalytics\n",
      "Warning message:\n",
      "\"package 'PerformanceAnalytics' was built under R version 3.6.3\"Loading required package: xts\n",
      "Warning message:\n",
      "\"package 'xts' was built under R version 3.6.2\"Loading required package: zoo\n",
      "Warning message:\n",
      "\"package 'zoo' was built under R version 3.6.2\"\n",
      "Attaching package: 'zoo'\n",
      "\n",
      "The following objects are masked from 'package:base':\n",
      "\n",
      "    as.Date, as.Date.numeric\n",
      "\n",
      "\n",
      "Attaching package: 'xts'\n",
      "\n",
      "The following objects are masked from 'package:dplyr':\n",
      "\n",
      "    first, last\n",
      "\n",
      "\n",
      "Attaching package: 'PerformanceAnalytics'\n",
      "\n",
      "The following object is masked from 'package:graphics':\n",
      "\n",
      "    legend\n",
      "\n",
      "Loading required package: quantmod\n",
      "Loading required package: TTR\n",
      "Registered S3 method overwritten by 'quantmod':\n",
      "  method            from\n",
      "  as.zoo.data.frame zoo \n",
      "Version 0.4-0 included new data defaults. See ?getSymbols.\n",
      "== Need to Learn tidyquant? ====================================================\n",
      "Business Science offers a 1-hour course - Learning Lab #9: Performance Analysis & Portfolio Optimization with tidyquant!\n",
      "</> Learn more at: https://university.business-science.io/p/learning-labs-pro </>\n"
     ]
    }
   ],
   "source": [
    "library(tidyquant) # Para médias móveis"
   ]
  },
  {
   "cell_type": "code",
   "execution_count": 14,
   "metadata": {},
   "outputs": [
    {
     "name": "stderr",
     "output_type": "stream",
     "text": [
      "Warning message:\n",
      "\"Removed 1 rows containing missing values (position_stack).\""
     ]
    },
    {
     "data": {
      "image/png": "[encoded data removed]",
      "text/plain": [
       "plot without title"
      ]
     },
     "metadata": {},
     "output_type": "display_data"
    }
   ],
   "source": [
    "# Novos casos, com média móvel para os últimos 7 dias\n",
    "grouped_by_Data %>%\n",
    "  #filter(!(UF %in% \"\")) %>%\n",
    "  ggplot(aes(x = DataCadastro, y = casos)) +\n",
    "  #geom_line() +\n",
    "  geom_bar(stat = \"identity\", fill = \"black\") +\n",
    "  geom_ma(ma_fun = SMA, n = 7, color = \"orangered2\", size = 0.8, linetype = \"dashed\") +  \n",
    "  labs(x = \"Data\", y = \"Novos casos\")"
   ]
  }
 ],
 "metadata": {
  "kernelspec": {
   "display_name": "R",
   "language": "R",
   "name": "ir"
  },
  "language_info": {
   "codemirror_mode": "r",
   "file_extension": ".r",
   "mimetype": "text/x-r-source",
   "name": "R",
   "pygments_lexer": "r",
   "version": "3.6.1"
  }
 },
 "nbformat": 4,
 "nbformat_minor": 4
}
