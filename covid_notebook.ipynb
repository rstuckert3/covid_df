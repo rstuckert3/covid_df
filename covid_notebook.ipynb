{
 "cells": [
  {
   "cell_type": "markdown",
   "metadata": {},
   "source": [
    "Autor: Rodrigo Stuckert. Data: 2020-08-06"
   ]
  },
  {
   "cell_type": "markdown",
   "metadata": {},
   "source": [
    "# Análise da Covid-19 no Distrito Federal"
   ]
  },
  {
   "cell_type": "markdown",
   "metadata": {},
   "source": [
    "Este código foi feito para analisar os casos da covid-19 no Distrito Federal (DF). Os dados aqui utilizados são referentes ao dia 2020-08-05 18:00, e foram extraídos a partir da seguinte página: https://covid19.ssp.df.gov.br/extensions/covid19/covid19.html#/"
   ]
  },
  {
   "cell_type": "markdown",
   "metadata": {},
   "source": [
    "Cabe salientar que, a partir do dia 2020-07-09, houve uma alteração na disposição dos dados. Removeu-se o número de identificação de cada pessoa (**id**); adicionou-se uma nova variável, **dataPrimeirosintomas**, indicando o início dos sintomas; e, por fim, substitui-se a variável **Estado de Saúde** por uma **Óbito**, indicando se a pessoa faleceu até aquele dia, ou não. De fato, para fins do painel de dados próprio, a Secretaria de Saúde (SESDF) considera como casos recuperados aqueles em que a pessoa não foi a óbito ou se internou após sete dias do diagnóstico. "
   ]
  },
  {
   "cell_type": "markdown",
   "metadata": {},
   "source": [
    "Os pacotes aqui utilizados foram o dplyr e lubridate, para manipulação dos dados; e o ggplot2 e gridExtra, para a elaboração dos gráficos."
   ]
  },
  {
   "cell_type": "code",
   "execution_count": 1,
   "metadata": {},
   "outputs": [
    {
     "name": "stderr",
     "output_type": "stream",
     "text": [
      "Warning message:\n",
      "\"package 'dplyr' was built under R version 3.6.2\"\n",
      "Attaching package: 'dplyr'\n",
      "\n",
      "The following objects are masked from 'package:stats':\n",
      "\n",
      "    filter, lag\n",
      "\n",
      "The following objects are masked from 'package:base':\n",
      "\n",
      "    intersect, setdiff, setequal, union\n",
      "\n",
      "Warning message:\n",
      "\"package 'lubridate' was built under R version 3.6.2\"\n",
      "Attaching package: 'lubridate'\n",
      "\n",
      "The following object is masked from 'package:base':\n",
      "\n",
      "    date\n",
      "\n",
      "Warning message:\n",
      "\"package 'ggplot2' was built under R version 3.6.3\"Warning message:\n",
      "\"package 'gridExtra' was built under R version 3.6.2\"\n",
      "Attaching package: 'gridExtra'\n",
      "\n",
      "The following object is masked from 'package:dplyr':\n",
      "\n",
      "    combine\n",
      "\n"
     ]
    }
   ],
   "source": [
    "library(dplyr)\n",
    "library(lubridate) # Manipular datas\n",
    "library(ggplot2)\n",
    "library(gridExtra) # Plotar dois gráficos em uma única imagem"
   ]
  },
  {
   "cell_type": "markdown",
   "metadata": {},
   "source": [
    "## Extração dos dados"
   ]
  },
  {
   "cell_type": "markdown",
   "metadata": {},
   "source": [
    "Os dados estão no arquivo \"dados-abertos.csv\", dentro do diretório \"datasets\". Caso você queira baixar os dados mais recentes, no lugar, substitua essa referência pelo link mencionado abaixo. É importante ter em mente aqui que pode haver problemas de compatibilidade futuramente, caso a Secretaria de Saúde do DF (SESDF) eventualmente altere a disposição dos dados."
   ]
  },
  {
   "cell_type": "code",
   "execution_count": 2,
   "metadata": {
    "scrolled": true
   },
   "outputs": [],
   "source": [
    "#file <- \"https://covid19.ssp.df.gov.br/resources/dados/dados-abertos.csv\"\n",
    "file <- \"datasets/dados-abertos.csv\"\n",
    "df <- data.table::fread(file, encoding = \"UTF-8\", \n",
    "                        col.names = c(\"Data\", \"DataCadastro\", \"Sexo\",\n",
    "                                      \"FaixaEtaria\", \"RA\", \"UF\", \"Obito\", \"DataPrimeirosintomas\",\n",
    "                                      \"Pneumopatia\", \"Nefropatia\", \"DHematologica\",\n",
    "                                      \"DistMetabolico\", \"Imunopressao\", \"Obesidade\",\n",
    "                                      \"Outros\", \"Cardiovasculopatia\"),\n",
    "                        colClasses = list(factor= c(3, 6)) # Colunas Sexo e UF como factors\n",
    "                        )"
   ]
  },
  {
   "cell_type": "markdown",
   "metadata": {},
   "source": [
    "#### Verificando a importação do arquivo."
   ]
  },
  {
   "cell_type": "code",
   "execution_count": 3,
   "metadata": {
    "scrolled": true
   },
   "outputs": [
    {
     "name": "stdout",
     "output_type": "stream",
     "text": [
      "Classes 'data.table' and 'data.frame':\t118000 obs. of  16 variables:\n",
      " $ Data                : chr  \"06/08/2020\" \"06/08/2020\" \"06/08/2020\" \"06/08/2020\" ...\n",
      " $ DataCadastro        : chr  \"18/03/2020\" \"18/03/2020\" \"18/03/2020\" \"18/03/2020\" ...\n",
      " $ Sexo                : Factor w/ 2 levels \"Feminino\",\"Masculino\": 2 2 2 2 1 1 1 1 2 1 ...\n",
      " $ FaixaEtaria         : chr  \"50 a 59 anos\" \"40 a 49 anos\" \"40 a 49 anos\" \">= 60 anos\" ...\n",
      " $ RA                  : chr  \"Plano Piloto\" \"Plano Piloto\" \"Lago Sul\" \"Águas Claras\" ...\n",
      " $ UF                  : Factor w/ 28 levels \"\",\"ACRE\",\"ALAGOAS\",..: 8 8 8 8 8 8 8 8 8 8 ...\n",
      " $ Obito               : chr  \"Não\" \"Não\" \"Não\" \"Não\" ...\n",
      " $ DataPrimeirosintomas: chr  \"23/04/2020\" \"03/08/2020\" \"09/03/2020\" \"14/03/2020\" ...\n",
      " $ Pneumopatia         : chr  \"\" \"\" \"\" \"Não\" ...\n",
      " $ Nefropatia          : chr  \"\" \"\" \"\" \"Não\" ...\n",
      " $ DHematologica       : chr  \"\" \"\" \"\" \"Não\" ...\n",
      " $ DistMetabolico      : chr  \"\" \"\" \"\" \"Sim\" ...\n",
      " $ Imunopressao        : chr  \"\" \"\" \"\" \"Não\" ...\n",
      " $ Obesidade           : chr  \"\" \"\" \"\" \"Não\" ...\n",
      " $ Outros              : chr  \"\" \"Sim\" \"\" \"Não\" ...\n",
      " $ Cardiovasculopatia  : chr  \"\" \"\" \"\" \"Sim\" ...\n",
      " - attr(*, \".internal.selfref\")=<externalptr> \n"
     ]
    }
   ],
   "source": [
    "str(df) # Estrutura"
   ]
  },
  {
   "cell_type": "code",
   "execution_count": 4,
   "metadata": {},
   "outputs": [
    {
     "data": {
      "text/html": [
       "<table>\n",
       "<thead><tr><th scope=col>Data</th><th scope=col>DataCadastro</th><th scope=col>Sexo</th><th scope=col>FaixaEtaria</th><th scope=col>RA</th><th scope=col>UF</th><th scope=col>Obito</th><th scope=col>DataPrimeirosintomas</th><th scope=col>Pneumopatia</th><th scope=col>Nefropatia</th><th scope=col>DHematologica</th><th scope=col>DistMetabolico</th><th scope=col>Imunopressao</th><th scope=col>Obesidade</th><th scope=col>Outros</th><th scope=col>Cardiovasculopatia</th></tr></thead>\n",
       "<tbody>\n",
       "\t<tr><td>06/08/2020      </td><td>18/03/2020      </td><td>Masculino       </td><td>50 a 59 anos    </td><td>Plano Piloto    </td><td>DISTRITO FEDERAL</td><td>Não             </td><td>23/04/2020      </td><td>                </td><td>                </td><td>                </td><td>                </td><td>                </td><td>                </td><td>                </td><td>                </td></tr>\n",
       "\t<tr><td>06/08/2020      </td><td>18/03/2020      </td><td>Masculino       </td><td>40 a 49 anos    </td><td>Plano Piloto    </td><td>DISTRITO FEDERAL</td><td>Não             </td><td>03/08/2020      </td><td>                </td><td>                </td><td>                </td><td>                </td><td>                </td><td>                </td><td>Sim             </td><td>                </td></tr>\n",
       "\t<tr><td>06/08/2020      </td><td>18/03/2020      </td><td>Masculino       </td><td>40 a 49 anos    </td><td>Lago Sul        </td><td>DISTRITO FEDERAL</td><td>Não             </td><td>09/03/2020      </td><td>                </td><td>                </td><td>                </td><td>                </td><td>                </td><td>                </td><td>                </td><td>                </td></tr>\n",
       "\t<tr><td>06/08/2020                                             </td><td>18/03/2020                                             </td><td>Masculino                                              </td><td><span style=white-space:pre-wrap>&gt;= 60 anos  </span></td><td>Águas Claras                                           </td><td>DISTRITO FEDERAL                                       </td><td>Não                                                    </td><td>14/03/2020                                             </td><td>Não                                                    </td><td>Não                                                    </td><td>Não                                                    </td><td>Sim                                                    </td><td>Não                                                    </td><td>Não                                                    </td><td>Não                                                    </td><td>Sim                                                    </td></tr>\n",
       "\t<tr><td>06/08/2020      </td><td>18/03/2020      </td><td>Feminino        </td><td>20 a 29 anos    </td><td>Plano Piloto    </td><td>DISTRITO FEDERAL</td><td>Não             </td><td>14/03/2020      </td><td>                </td><td>                </td><td>                </td><td>                </td><td>                </td><td>                </td><td>                </td><td>                </td></tr>\n",
       "\t<tr><td>06/08/2020      </td><td>16/03/2020      </td><td>Feminino        </td><td>30 a 39 anos    </td><td>Plano Piloto    </td><td>DISTRITO FEDERAL</td><td>Não             </td><td>16/03/2020      </td><td>                </td><td>                </td><td>                </td><td>                </td><td>                </td><td>                </td><td>                </td><td>                </td></tr>\n",
       "</tbody>\n",
       "</table>\n"
      ],
      "text/latex": [
       "\\begin{tabular}{r|llllllllllllllll}\n",
       " Data & DataCadastro & Sexo & FaixaEtaria & RA & UF & Obito & DataPrimeirosintomas & Pneumopatia & Nefropatia & DHematologica & DistMetabolico & Imunopressao & Obesidade & Outros & Cardiovasculopatia\\\\\n",
       "\\hline\n",
       "\t 06/08/2020       & 18/03/2020       & Masculino        & 50 a 59 anos     & Plano Piloto     & DISTRITO FEDERAL & Não              & 23/04/2020       &                  &                  &                  &                  &                  &                  &                  &                 \\\\\n",
       "\t 06/08/2020       & 18/03/2020       & Masculino        & 40 a 49 anos     & Plano Piloto     & DISTRITO FEDERAL & Não              & 03/08/2020       &                  &                  &                  &                  &                  &                  & Sim              &                 \\\\\n",
       "\t 06/08/2020       & 18/03/2020       & Masculino        & 40 a 49 anos     & Lago Sul         & DISTRITO FEDERAL & Não              & 09/03/2020       &                  &                  &                  &                  &                  &                  &                  &                 \\\\\n",
       "\t 06/08/2020       & 18/03/2020       & Masculino        & >= 60 anos       & Águas Claras     & DISTRITO FEDERAL & Não              & 14/03/2020       & Não              & Não              & Não              & Sim              & Não              & Não              & Não              & Sim             \\\\\n",
       "\t 06/08/2020       & 18/03/2020       & Feminino         & 20 a 29 anos     & Plano Piloto     & DISTRITO FEDERAL & Não              & 14/03/2020       &                  &                  &                  &                  &                  &                  &                  &                 \\\\\n",
       "\t 06/08/2020       & 16/03/2020       & Feminino         & 30 a 39 anos     & Plano Piloto     & DISTRITO FEDERAL & Não              & 16/03/2020       &                  &                  &                  &                  &                  &                  &                  &                 \\\\\n",
       "\\end{tabular}\n"
      ],
      "text/markdown": [
       "\n",
       "| Data | DataCadastro | Sexo | FaixaEtaria | RA | UF | Obito | DataPrimeirosintomas | Pneumopatia | Nefropatia | DHematologica | DistMetabolico | Imunopressao | Obesidade | Outros | Cardiovasculopatia |\n",
       "|---|---|---|---|---|---|---|---|---|---|---|---|---|---|---|---|\n",
       "| 06/08/2020       | 18/03/2020       | Masculino        | 50 a 59 anos     | Plano Piloto     | DISTRITO FEDERAL | Não              | 23/04/2020       |                  |                  |                  |                  |                  |                  |                  |                  |\n",
       "| 06/08/2020       | 18/03/2020       | Masculino        | 40 a 49 anos     | Plano Piloto     | DISTRITO FEDERAL | Não              | 03/08/2020       |                  |                  |                  |                  |                  |                  | Sim              |                  |\n",
       "| 06/08/2020       | 18/03/2020       | Masculino        | 40 a 49 anos     | Lago Sul         | DISTRITO FEDERAL | Não              | 09/03/2020       |                  |                  |                  |                  |                  |                  |                  |                  |\n",
       "| 06/08/2020       | 18/03/2020       | Masculino        | >= 60 anos       | Águas Claras     | DISTRITO FEDERAL | Não              | 14/03/2020       | Não              | Não              | Não              | Sim              | Não              | Não              | Não              | Sim              |\n",
       "| 06/08/2020       | 18/03/2020       | Feminino         | 20 a 29 anos     | Plano Piloto     | DISTRITO FEDERAL | Não              | 14/03/2020       |                  |                  |                  |                  |                  |                  |                  |                  |\n",
       "| 06/08/2020       | 16/03/2020       | Feminino         | 30 a 39 anos     | Plano Piloto     | DISTRITO FEDERAL | Não              | 16/03/2020       |                  |                  |                  |                  |                  |                  |                  |                  |\n",
       "\n"
      ],
      "text/plain": [
       "  Data       DataCadastro Sexo      FaixaEtaria  RA           UF              \n",
       "1 06/08/2020 18/03/2020   Masculino 50 a 59 anos Plano Piloto DISTRITO FEDERAL\n",
       "2 06/08/2020 18/03/2020   Masculino 40 a 49 anos Plano Piloto DISTRITO FEDERAL\n",
       "3 06/08/2020 18/03/2020   Masculino 40 a 49 anos Lago Sul     DISTRITO FEDERAL\n",
       "4 06/08/2020 18/03/2020   Masculino >= 60 anos   Águas Claras DISTRITO FEDERAL\n",
       "5 06/08/2020 18/03/2020   Feminino  20 a 29 anos Plano Piloto DISTRITO FEDERAL\n",
       "6 06/08/2020 16/03/2020   Feminino  30 a 39 anos Plano Piloto DISTRITO FEDERAL\n",
       "  Obito DataPrimeirosintomas Pneumopatia Nefropatia DHematologica\n",
       "1 Não   23/04/2020                                               \n",
       "2 Não   03/08/2020                                               \n",
       "3 Não   09/03/2020                                               \n",
       "4 Não   14/03/2020           Não         Não        Não          \n",
       "5 Não   14/03/2020                                               \n",
       "6 Não   16/03/2020                                               \n",
       "  DistMetabolico Imunopressao Obesidade Outros Cardiovasculopatia\n",
       "1                                                                \n",
       "2                                       Sim                      \n",
       "3                                                                \n",
       "4 Sim            Não          Não       Não    Sim               \n",
       "5                                                                \n",
       "6                                                                "
      ]
     },
     "metadata": {},
     "output_type": "display_data"
    }
   ],
   "source": [
    "head(df) # Início\n",
    "# tail(df) # Fim"
   ]
  },
  {
   "cell_type": "markdown",
   "metadata": {},
   "source": [
    "## Tratamento dos dados"
   ]
  },
  {
   "cell_type": "markdown",
   "metadata": {},
   "source": [
    "#### Datas e faixa etária"
   ]
  },
  {
   "cell_type": "markdown",
   "metadata": {},
   "source": [
    "Uma vez que tudo está como deveria, podemos prosseguir com o tratamento dos dados. Primeiro iremos remover a coluna com a data da última atualização daquele dataset, e depois corrigir o formato da data de cadastro dos casos."
   ]
  },
  {
   "cell_type": "code",
   "execution_count": 5,
   "metadata": {
    "scrolled": true
   },
   "outputs": [
    {
     "data": {
      "text/html": [
       "<ol class=list-inline>\n",
       "\t<li><time datetime=\"2020-03-18\">2020-03-18</time></li>\n",
       "\t<li><time datetime=\"2020-03-18\">2020-03-18</time></li>\n",
       "\t<li><time datetime=\"2020-03-18\">2020-03-18</time></li>\n",
       "\t<li><time datetime=\"2020-03-18\">2020-03-18</time></li>\n",
       "\t<li><time datetime=\"2020-03-18\">2020-03-18</time></li>\n",
       "\t<li><time datetime=\"2020-03-16\">2020-03-16</time></li>\n",
       "</ol>\n"
      ],
      "text/latex": [
       "\\begin{enumerate*}\n",
       "\\item 2020-03-18\n",
       "\\item 2020-03-18\n",
       "\\item 2020-03-18\n",
       "\\item 2020-03-18\n",
       "\\item 2020-03-18\n",
       "\\item 2020-03-16\n",
       "\\end{enumerate*}\n"
      ],
      "text/markdown": [
       "1. 2020-03-18\n",
       "2. 2020-03-18\n",
       "3. 2020-03-18\n",
       "4. 2020-03-18\n",
       "5. 2020-03-18\n",
       "6. 2020-03-16\n",
       "\n",
       "\n"
      ],
      "text/plain": [
       "[1] \"2020-03-18\" \"2020-03-18\" \"2020-03-18\" \"2020-03-18\" \"2020-03-18\"\n",
       "[6] \"2020-03-16\""
      ]
     },
     "metadata": {},
     "output_type": "display_data"
    }
   ],
   "source": [
    "# Pega a data do dataset\n",
    "last_update <- df$Data[1]\n",
    "\n",
    "# Remove a coluna com a data da última atualização daqueles dados e corrige o formato das demais datas.\n",
    "df <- df %>%\n",
    "    select(-c(\"Data\")) %>%\n",
    "    mutate(DataCadastro = as.Date(DataCadastro, format = '%d/%m/%Y'),\n",
    "          DataPrimeirosintomas = as.Date(DataPrimeirosintomas, format = '%d/%m/%Y'))\n",
    "\n",
    "# Verificando\n",
    "head(df$DataCadastro)"
   ]
  },
  {
   "cell_type": "markdown",
   "metadata": {},
   "source": [
    "Adaptaremos o nome dos inputs da variável FaixaEtaria para que possamos torná-la uma factor corretamente:"
   ]
  },
  {
   "cell_type": "code",
   "execution_count": 6,
   "metadata": {
    "scrolled": true
   },
   "outputs": [],
   "source": [
    "# Corrige os nomes das faixas etárias e torna a variável factor.\n",
    "df <- df %>%\n",
    "  mutate(FaixaEtaria = ifelse(FaixaEtaria == \"<= 19 anos\", \"0 a 19 anos\", FaixaEtaria),\n",
    "         FaixaEtaria = ifelse(FaixaEtaria == \">= 60 anos\", \"60+ anos\", FaixaEtaria),\n",
    "         FaixaEtaria = as.factor(FaixaEtaria))"
   ]
  },
  {
   "cell_type": "markdown",
   "metadata": {},
   "source": [
    "#### Comorbidades"
   ]
  },
  {
   "cell_type": "markdown",
   "metadata": {},
   "source": [
    "Devemos ter cautela especial quanto às variáveis de comorbidades. Inicialmente, pessoas com alguma comorbidade recebiam \"Sim\" para aquelas que apresentassem, e \"Não\" para todas as demais, enquanto que quem não apresentasse nenhuma aparecia como NA para todas. Após determinada data, ao que tudo indica, o GDF passou a apenas a categorizar aqueles que apresentassem alguma comorbidade."
   ]
  },
  {
   "cell_type": "markdown",
   "metadata": {},
   "source": [
    "Dessa forma, iremos primeiro transformá-las em números inteiros (1 == \"Sim\", 0 == \"Não\"), e depois criar uma variável \"Tem comorbidade?\", que recebe valor 1 se a pessoa apresentar pelo menos uma comorbidade, e 0 caso contrário. Note aqui que as variáveis de comorbidades correspondem às colunas de 8 a 15 do nosso dataframe."
   ]
  },
  {
   "cell_type": "code",
   "execution_count": 7,
   "metadata": {},
   "outputs": [],
   "source": [
    "# Bota os valores das comorbidades como binários (Apresenta = 1, não apresenta / NA = 0) e converte para inteiro.\n",
    "df[, 8:15] <- df[,8:15] %>%\n",
    "  apply(MARGIN = 2, FUN = function(x) ifelse(x == \"Sim\", 1, 0)) %>% # Função lambda\n",
    "  apply(MARGIN = 2, FUN = as.integer) # Margin = 2: aplica a função \"FUN\" às COLUNAS\n",
    "     \n",
    "# Cria a variável \"Tem comorbidade?\", como número inteiro.\n",
    "df <- df %>%  \n",
    "  mutate(Comorbidade = as.integer(case_when(Pneumopatia + Nefropatia + DHematologica + DistMetabolico + Imunopressao + Outros + Cardiovasculopatia > 0 ~ 1, TRUE ~ 0)))"
   ]
  },
  {
   "cell_type": "markdown",
   "metadata": {},
   "source": [
    "Conferindo:"
   ]
  },
  {
   "cell_type": "code",
   "execution_count": 8,
   "metadata": {},
   "outputs": [
    {
     "name": "stdout",
     "output_type": "stream",
     "text": [
      "'data.frame':\t118000 obs. of  9 variables:\n",
      " $ Pneumopatia       : int  0 0 0 0 0 0 0 0 0 0 ...\n",
      " $ Nefropatia        : int  0 0 0 0 0 0 0 0 0 0 ...\n",
      " $ DHematologica     : int  0 0 0 0 0 0 0 0 0 0 ...\n",
      " $ DistMetabolico    : int  0 0 0 1 0 0 0 1 0 0 ...\n",
      " $ Imunopressao      : int  0 0 0 0 0 0 0 1 0 0 ...\n",
      " $ Obesidade         : int  0 0 0 0 0 0 0 1 0 0 ...\n",
      " $ Outros            : int  0 1 0 0 0 0 0 0 0 0 ...\n",
      " $ Cardiovasculopatia: int  0 0 0 1 0 0 0 0 0 0 ...\n",
      " $ Comorbidade       : int  0 1 0 1 0 0 0 1 0 0 ...\n"
     ]
    }
   ],
   "source": [
    "str(df[, 8:16]) # Confere as variáveis alteradas."
   ]
  },
  {
   "cell_type": "markdown",
   "metadata": {},
   "source": [
    "## Análise exploratória e visualização"
   ]
  },
  {
   "cell_type": "markdown",
   "metadata": {},
   "source": [
    "Agora, seguiremos com a análise exploratória dos dados. Primeiro, geraremos agregações dos dados por categorias de interesse; em seguida, prosseguiremos com a elaboração de gráficos."
   ]
  },
  {
   "cell_type": "markdown",
   "metadata": {},
   "source": [
    "### Representação dos óbitos por faixa etária"
   ]
  },
  {
   "cell_type": "markdown",
   "metadata": {},
   "source": [
    "Nosso primeiro agrupamento será por faixa etária."
   ]
  },
  {
   "cell_type": "code",
   "execution_count": 9,
   "metadata": {},
   "outputs": [
    {
     "data": {
      "text/html": [
       "<table>\n",
       "<thead><tr><th scope=col>Obito</th><th scope=col>FaixaEtaria</th><th scope=col>casos</th><th scope=col>num_obitos</th><th scope=col>pct_obitos</th><th scope=col>mortalidade</th><th scope=col>pct_comorbidade</th><th scope=col>pct_mulheres</th><th scope=col>pct_homens</th><th scope=col>perc</th></tr></thead>\n",
       "<tbody>\n",
       "\t<tr><td>Não         </td><td>0 a 19 anos </td><td> 8276       </td><td>   0        </td><td>0.000000000 </td><td>0           </td><td>0.03383277  </td><td>0.5206622   </td><td>0.4793378   </td><td> 7.1        </td></tr>\n",
       "\t<tr><td>Não         </td><td>20 a 29 anos</td><td>21980       </td><td>   0        </td><td>0.000000000 </td><td>0           </td><td>0.03380346  </td><td>0.5387170   </td><td>0.4612830   </td><td>18.9        </td></tr>\n",
       "\t<tr><td>Não         </td><td>30 a 39 anos</td><td>31871       </td><td>   0        </td><td>0.000000000 </td><td>0           </td><td>0.04326817  </td><td>0.5306078   </td><td>0.4693922   </td><td>27.4        </td></tr>\n",
       "\t<tr><td>Não         </td><td>40 a 49 anos</td><td>26223       </td><td>   0        </td><td>0.000000000 </td><td>0           </td><td>0.07996797  </td><td>0.5232430   </td><td>0.4767570   </td><td>22.5        </td></tr>\n",
       "\t<tr><td>Não         </td><td>50 a 59 anos</td><td>15969       </td><td>   0        </td><td>0.000000000 </td><td>0           </td><td>0.14885090  </td><td>0.5338468   </td><td>0.4661532   </td><td>13.7        </td></tr>\n",
       "\t<tr><td>Não         </td><td>60+ anos    </td><td>12030       </td><td>   0        </td><td>0.000000000 </td><td>0           </td><td>0.22626766  </td><td>0.5485453   </td><td>0.4514547   </td><td>10.3        </td></tr>\n",
       "\t<tr><td>Sim         </td><td>0 a 19 anos </td><td>    4       </td><td>   4        </td><td>0.002422774 </td><td>1           </td><td>0.25000000  </td><td>0.7500000   </td><td>0.2500000   </td><td> 0.2        </td></tr>\n",
       "\t<tr><td>Sim         </td><td>20 a 29 anos</td><td>   18       </td><td>  18        </td><td>0.010902483 </td><td>1           </td><td>0.55555556  </td><td>0.3888889   </td><td>0.6111111   </td><td> 1.1        </td></tr>\n",
       "\t<tr><td>Sim         </td><td>30 a 39 anos</td><td>   68       </td><td>  68        </td><td>0.041187159 </td><td>1           </td><td>0.61764706  </td><td>0.3823529   </td><td>0.6176471   </td><td> 4.1        </td></tr>\n",
       "\t<tr><td>Sim         </td><td>40 a 49 anos</td><td>  135       </td><td> 135        </td><td>0.081768625 </td><td>1           </td><td>0.69629630  </td><td>0.3259259   </td><td>0.6740741   </td><td> 8.2        </td></tr>\n",
       "\t<tr><td>Sim         </td><td>50 a 59 anos</td><td>  223       </td><td> 223        </td><td>0.135069655 </td><td>1           </td><td>0.81165919  </td><td>0.3228700   </td><td>0.6771300   </td><td>13.5        </td></tr>\n",
       "\t<tr><td>Sim         </td><td>60+ anos    </td><td> 1203       </td><td>1203        </td><td>0.728649303 </td><td>1           </td><td>0.87198670  </td><td>0.4347465   </td><td>0.5652535   </td><td>72.9        </td></tr>\n",
       "</tbody>\n",
       "</table>\n"
      ],
      "text/latex": [
       "\\begin{tabular}{r|llllllllll}\n",
       " Obito & FaixaEtaria & casos & num\\_obitos & pct\\_obitos & mortalidade & pct\\_comorbidade & pct\\_mulheres & pct\\_homens & perc\\\\\n",
       "\\hline\n",
       "\t Não          & 0 a 19 anos  &  8276        &    0         & 0.000000000  & 0            & 0.03383277   & 0.5206622    & 0.4793378    &  7.1        \\\\\n",
       "\t Não          & 20 a 29 anos & 21980        &    0         & 0.000000000  & 0            & 0.03380346   & 0.5387170    & 0.4612830    & 18.9        \\\\\n",
       "\t Não          & 30 a 39 anos & 31871        &    0         & 0.000000000  & 0            & 0.04326817   & 0.5306078    & 0.4693922    & 27.4        \\\\\n",
       "\t Não          & 40 a 49 anos & 26223        &    0         & 0.000000000  & 0            & 0.07996797   & 0.5232430    & 0.4767570    & 22.5        \\\\\n",
       "\t Não          & 50 a 59 anos & 15969        &    0         & 0.000000000  & 0            & 0.14885090   & 0.5338468    & 0.4661532    & 13.7        \\\\\n",
       "\t Não          & 60+ anos     & 12030        &    0         & 0.000000000  & 0            & 0.22626766   & 0.5485453    & 0.4514547    & 10.3        \\\\\n",
       "\t Sim          & 0 a 19 anos  &     4        &    4         & 0.002422774  & 1            & 0.25000000   & 0.7500000    & 0.2500000    &  0.2        \\\\\n",
       "\t Sim          & 20 a 29 anos &    18        &   18         & 0.010902483  & 1            & 0.55555556   & 0.3888889    & 0.6111111    &  1.1        \\\\\n",
       "\t Sim          & 30 a 39 anos &    68        &   68         & 0.041187159  & 1            & 0.61764706   & 0.3823529    & 0.6176471    &  4.1        \\\\\n",
       "\t Sim          & 40 a 49 anos &   135        &  135         & 0.081768625  & 1            & 0.69629630   & 0.3259259    & 0.6740741    &  8.2        \\\\\n",
       "\t Sim          & 50 a 59 anos &   223        &  223         & 0.135069655  & 1            & 0.81165919   & 0.3228700    & 0.6771300    & 13.5        \\\\\n",
       "\t Sim          & 60+ anos     &  1203        & 1203         & 0.728649303  & 1            & 0.87198670   & 0.4347465    & 0.5652535    & 72.9        \\\\\n",
       "\\end{tabular}\n"
      ],
      "text/markdown": [
       "\n",
       "| Obito | FaixaEtaria | casos | num_obitos | pct_obitos | mortalidade | pct_comorbidade | pct_mulheres | pct_homens | perc |\n",
       "|---|---|---|---|---|---|---|---|---|---|\n",
       "| Não          | 0 a 19 anos  |  8276        |    0         | 0.000000000  | 0            | 0.03383277   | 0.5206622    | 0.4793378    |  7.1         |\n",
       "| Não          | 20 a 29 anos | 21980        |    0         | 0.000000000  | 0            | 0.03380346   | 0.5387170    | 0.4612830    | 18.9         |\n",
       "| Não          | 30 a 39 anos | 31871        |    0         | 0.000000000  | 0            | 0.04326817   | 0.5306078    | 0.4693922    | 27.4         |\n",
       "| Não          | 40 a 49 anos | 26223        |    0         | 0.000000000  | 0            | 0.07996797   | 0.5232430    | 0.4767570    | 22.5         |\n",
       "| Não          | 50 a 59 anos | 15969        |    0         | 0.000000000  | 0            | 0.14885090   | 0.5338468    | 0.4661532    | 13.7         |\n",
       "| Não          | 60+ anos     | 12030        |    0         | 0.000000000  | 0            | 0.22626766   | 0.5485453    | 0.4514547    | 10.3         |\n",
       "| Sim          | 0 a 19 anos  |     4        |    4         | 0.002422774  | 1            | 0.25000000   | 0.7500000    | 0.2500000    |  0.2         |\n",
       "| Sim          | 20 a 29 anos |    18        |   18         | 0.010902483  | 1            | 0.55555556   | 0.3888889    | 0.6111111    |  1.1         |\n",
       "| Sim          | 30 a 39 anos |    68        |   68         | 0.041187159  | 1            | 0.61764706   | 0.3823529    | 0.6176471    |  4.1         |\n",
       "| Sim          | 40 a 49 anos |   135        |  135         | 0.081768625  | 1            | 0.69629630   | 0.3259259    | 0.6740741    |  8.2         |\n",
       "| Sim          | 50 a 59 anos |   223        |  223         | 0.135069655  | 1            | 0.81165919   | 0.3228700    | 0.6771300    | 13.5         |\n",
       "| Sim          | 60+ anos     |  1203        | 1203         | 0.728649303  | 1            | 0.87198670   | 0.4347465    | 0.5652535    | 72.9         |\n",
       "\n"
      ],
      "text/plain": [
       "   Obito FaixaEtaria  casos num_obitos pct_obitos  mortalidade pct_comorbidade\n",
       "1  Não   0 a 19 anos   8276    0       0.000000000 0           0.03383277     \n",
       "2  Não   20 a 29 anos 21980    0       0.000000000 0           0.03380346     \n",
       "3  Não   30 a 39 anos 31871    0       0.000000000 0           0.04326817     \n",
       "4  Não   40 a 49 anos 26223    0       0.000000000 0           0.07996797     \n",
       "5  Não   50 a 59 anos 15969    0       0.000000000 0           0.14885090     \n",
       "6  Não   60+ anos     12030    0       0.000000000 0           0.22626766     \n",
       "7  Sim   0 a 19 anos      4    4       0.002422774 1           0.25000000     \n",
       "8  Sim   20 a 29 anos    18   18       0.010902483 1           0.55555556     \n",
       "9  Sim   30 a 39 anos    68   68       0.041187159 1           0.61764706     \n",
       "10 Sim   40 a 49 anos   135  135       0.081768625 1           0.69629630     \n",
       "11 Sim   50 a 59 anos   223  223       0.135069655 1           0.81165919     \n",
       "12 Sim   60+ anos      1203 1203       0.728649303 1           0.87198670     \n",
       "   pct_mulheres pct_homens perc\n",
       "1  0.5206622    0.4793378   7.1\n",
       "2  0.5387170    0.4612830  18.9\n",
       "3  0.5306078    0.4693922  27.4\n",
       "4  0.5232430    0.4767570  22.5\n",
       "5  0.5338468    0.4661532  13.7\n",
       "6  0.5485453    0.4514547  10.3\n",
       "7  0.7500000    0.2500000   0.2\n",
       "8  0.3888889    0.6111111   1.1\n",
       "9  0.3823529    0.6176471   4.1\n",
       "10 0.3259259    0.6740741   8.2\n",
       "11 0.3228700    0.6771300  13.5\n",
       "12 0.4347465    0.5652535  72.9"
      ]
     },
     "metadata": {},
     "output_type": "display_data"
    }
   ],
   "source": [
    "# Agrupa os dados por Faixa Etária e por Óbito (\"Sim\" ou \"Não\")\n",
    "df_FaixaEtaria <- df %>% \n",
    "  group_by(Obito, FaixaEtaria) %>%\n",
    "  summarise(casos = n(),\n",
    "            num_obitos = sum(Obito == \"Sim\"),\n",
    "            pct_obitos = num_obitos / sum(df$Obito == \"Sim\"),\n",
    "            mortalidade = num_obitos / casos,\n",
    "            pct_comorbidade = sum(Comorbidade == 1) / casos,\n",
    "            pct_mulheres = sum(Sexo == \"Feminino\")/casos,\n",
    "            pct_homens = 1 - pct_mulheres\n",
    "  ) %>%\n",
    "  mutate(perc = round(100 * (casos / sum(casos)), 1)) # Qual o % daquela faixa etária entre as categorias da variável Óbito\n",
    "\n",
    "df_FaixaEtaria"
   ]
  },
  {
   "cell_type": "code",
   "execution_count": 47,
   "metadata": {},
   "outputs": [
    {
     "data": {
      "text/html": [
       "<table>\n",
       "<thead><tr><th scope=col>FaixaEtaria</th><th scope=col>casos</th><th scope=col>num_obitos</th><th scope=col>pct_obitos</th><th scope=col>mortalidade</th><th scope=col>pct_comorbidade</th><th scope=col>pct_mulheres</th><th scope=col>pct_homens</th><th scope=col>perc</th></tr></thead>\n",
       "<tbody>\n",
       "\t<tr><td>0 a 19 anos </td><td> 8280       </td><td>   4        </td><td>0.002422774 </td><td>0.0004830918</td><td>0.03393720  </td><td>0.5207729   </td><td>0.4792271   </td><td> 7.0        </td></tr>\n",
       "\t<tr><td>20 a 29 anos</td><td>21998       </td><td>  18        </td><td>0.010902483 </td><td>0.0008182562</td><td>0.03423038  </td><td>0.5385944   </td><td>0.4614056   </td><td>18.6        </td></tr>\n",
       "\t<tr><td>30 a 39 anos</td><td>31939       </td><td>  68        </td><td>0.041187159 </td><td>0.0021290585</td><td>0.04449106  </td><td>0.5302921   </td><td>0.4697079   </td><td>27.1        </td></tr>\n",
       "\t<tr><td>40 a 49 anos</td><td>26358       </td><td> 135        </td><td>0.081768625 </td><td>0.0051217847</td><td>0.08312467  </td><td>0.5222323   </td><td>0.4777677   </td><td>22.3        </td></tr>\n",
       "\t<tr><td>50 a 59 anos</td><td>16192       </td><td> 223        </td><td>0.135069655 </td><td>0.0137722332</td><td>0.15797925  </td><td>0.5309412   </td><td>0.4690588   </td><td>13.7        </td></tr>\n",
       "\t<tr><td>60+ anos    </td><td>13233       </td><td>1203        </td><td>0.728649303 </td><td>0.0909090909</td><td>0.28496939  </td><td>0.5382000   </td><td>0.4618000   </td><td>11.2        </td></tr>\n",
       "</tbody>\n",
       "</table>\n"
      ],
      "text/latex": [
       "\\begin{tabular}{r|lllllllll}\n",
       " FaixaEtaria & casos & num\\_obitos & pct\\_obitos & mortalidade & pct\\_comorbidade & pct\\_mulheres & pct\\_homens & perc\\\\\n",
       "\\hline\n",
       "\t 0 a 19 anos  &  8280        &    4         & 0.002422774  & 0.0004830918 & 0.03393720   & 0.5207729    & 0.4792271    &  7.0        \\\\\n",
       "\t 20 a 29 anos & 21998        &   18         & 0.010902483  & 0.0008182562 & 0.03423038   & 0.5385944    & 0.4614056    & 18.6        \\\\\n",
       "\t 30 a 39 anos & 31939        &   68         & 0.041187159  & 0.0021290585 & 0.04449106   & 0.5302921    & 0.4697079    & 27.1        \\\\\n",
       "\t 40 a 49 anos & 26358        &  135         & 0.081768625  & 0.0051217847 & 0.08312467   & 0.5222323    & 0.4777677    & 22.3        \\\\\n",
       "\t 50 a 59 anos & 16192        &  223         & 0.135069655  & 0.0137722332 & 0.15797925   & 0.5309412    & 0.4690588    & 13.7        \\\\\n",
       "\t 60+ anos     & 13233        & 1203         & 0.728649303  & 0.0909090909 & 0.28496939   & 0.5382000    & 0.4618000    & 11.2        \\\\\n",
       "\\end{tabular}\n"
      ],
      "text/markdown": [
       "\n",
       "| FaixaEtaria | casos | num_obitos | pct_obitos | mortalidade | pct_comorbidade | pct_mulheres | pct_homens | perc |\n",
       "|---|---|---|---|---|---|---|---|---|\n",
       "| 0 a 19 anos  |  8280        |    4         | 0.002422774  | 0.0004830918 | 0.03393720   | 0.5207729    | 0.4792271    |  7.0         |\n",
       "| 20 a 29 anos | 21998        |   18         | 0.010902483  | 0.0008182562 | 0.03423038   | 0.5385944    | 0.4614056    | 18.6         |\n",
       "| 30 a 39 anos | 31939        |   68         | 0.041187159  | 0.0021290585 | 0.04449106   | 0.5302921    | 0.4697079    | 27.1         |\n",
       "| 40 a 49 anos | 26358        |  135         | 0.081768625  | 0.0051217847 | 0.08312467   | 0.5222323    | 0.4777677    | 22.3         |\n",
       "| 50 a 59 anos | 16192        |  223         | 0.135069655  | 0.0137722332 | 0.15797925   | 0.5309412    | 0.4690588    | 13.7         |\n",
       "| 60+ anos     | 13233        | 1203         | 0.728649303  | 0.0909090909 | 0.28496939   | 0.5382000    | 0.4618000    | 11.2         |\n",
       "\n"
      ],
      "text/plain": [
       "  FaixaEtaria  casos num_obitos pct_obitos  mortalidade  pct_comorbidade\n",
       "1 0 a 19 anos   8280    4       0.002422774 0.0004830918 0.03393720     \n",
       "2 20 a 29 anos 21998   18       0.010902483 0.0008182562 0.03423038     \n",
       "3 30 a 39 anos 31939   68       0.041187159 0.0021290585 0.04449106     \n",
       "4 40 a 49 anos 26358  135       0.081768625 0.0051217847 0.08312467     \n",
       "5 50 a 59 anos 16192  223       0.135069655 0.0137722332 0.15797925     \n",
       "6 60+ anos     13233 1203       0.728649303 0.0909090909 0.28496939     \n",
       "  pct_mulheres pct_homens perc\n",
       "1 0.5207729    0.4792271   7.0\n",
       "2 0.5385944    0.4614056  18.6\n",
       "3 0.5302921    0.4697079  27.1\n",
       "4 0.5222323    0.4777677  22.3\n",
       "5 0.5309412    0.4690588  13.7\n",
       "6 0.5382000    0.4618000  11.2"
      ]
     },
     "metadata": {},
     "output_type": "display_data"
    }
   ],
   "source": [
    "# Agrupa os dados por Faixa Etária e por Óbito (\"Sim\" ou \"Não\")\n",
    "df_FaixaEtaria <- df %>% \n",
    "  group_by(FaixaEtaria) %>%\n",
    "  summarise(casos = n(),\n",
    "            num_obitos = sum(Obito == \"Sim\"),\n",
    "            pct_obitos = num_obitos / sum(df$Obito == \"Sim\"),\n",
    "            mortalidade = num_obitos / casos,\n",
    "            pct_comorbidade = sum(Comorbidade == 1) / casos,\n",
    "            pct_mulheres = sum(Sexo == \"Feminino\")/casos,\n",
    "            pct_homens = 1 - pct_mulheres\n",
    "  ) %>%\n",
    "  mutate(perc = round(100 * (casos / sum(casos)), 1)) # Qual o % daquela faixa etária entre as categorias da variável Óbito\n",
    "\n",
    "head(df_FaixaEtaria)"
   ]
  },
  {
   "cell_type": "code",
   "execution_count": 45,
   "metadata": {
    "scrolled": true
   },
   "outputs": [
    {
     "data": {
      "image/png": "[encoded data removed]",
      "text/plain": [
       "plot without title"
      ]
     },
     "metadata": {},
     "output_type": "display_data"
    }
   ],
   "source": [
    "# Representação percentual de cada faixa etária entre os óbitos\n",
    "fx1 <- df_FaixaEtaria %>%\n",
    " filter(Obito == \"Sim\") %>%\n",
    " ggplot(aes(x = FaixaEtaria,\n",
    "            weight = 100 * casos/sum(casos), \n",
    "            fill = FaixaEtaria)) +\n",
    " geom_bar(show.legend = FALSE) +\n",
    " scale_fill_brewer(palette = \"Oranges\") +\n",
    " coord_flip() +\n",
    " theme_minimal() +\n",
    " ylim(0, 75) + # Escala: 0 a 75%\n",
    " labs(x = NULL, y = \"Óbitos\")\n",
    "\n",
    "\n",
    "# Representação percentual de cada faixa etária na amostra total\n",
    "fx2 <- df_FaixaEtaria %>%\n",
    " ggplot(aes(x = FaixaEtaria, fill = FaixaEtaria, weight = 100 * casos/sum(casos)), show.legend = FALSE) +\n",
    " geom_bar(show.legend = FALSE) +\n",
    " scale_fill_brewer(palette = \"Oranges\") +\n",
    " coord_flip() +\n",
    " theme_minimal() +\n",
    " ylim(0, 75) + # Escala: 0 a 75%\n",
    " labs(x = NULL, y = \"Amostra toda\")\n",
    "\n",
    "\n",
    "# Plotando os dois gráficos juntos (biblioteca gridExtra)\n",
    "#png(\"covid_genero.png\", height=4, width=8, units=\"in\", res=120)\n",
    "grid.arrange(fx1, fx2, nrow=1,\n",
    "            top = stringr::str_c(\"Representação percentual da covid-19 no DF por faixa etária\\n Dados até \", last_update))# Título\n",
    "#dev.off()"
   ]
  },
  {
   "cell_type": "markdown",
   "metadata": {},
   "source": [
    "### Taxa de mortalidade por gênero"
   ]
  },
  {
   "cell_type": "markdown",
   "metadata": {},
   "source": [
    "Agora, iremos gerar as estatísticas agregadas pelo sexo declarado das pessoas."
   ]
  },
  {
   "cell_type": "code",
   "execution_count": 11,
   "metadata": {},
   "outputs": [
    {
     "data": {
      "text/html": [
       "<table>\n",
       "<thead><tr><th scope=col>Sexo</th><th scope=col>casos</th><th scope=col>obitos</th><th scope=col>mortalidade</th><th scope=col>pct_comorbidade</th></tr></thead>\n",
       "<tbody>\n",
       "\t<tr><td>Feminino  </td><td>62581     </td><td>675       </td><td>0.01078602</td><td>0.09600358</td></tr>\n",
       "\t<tr><td>Masculino </td><td>55419     </td><td>976       </td><td>0.01761129</td><td>0.08962630</td></tr>\n",
       "</tbody>\n",
       "</table>\n"
      ],
      "text/latex": [
       "\\begin{tabular}{r|lllll}\n",
       " Sexo & casos & obitos & mortalidade & pct\\_comorbidade\\\\\n",
       "\\hline\n",
       "\t Feminino   & 62581      & 675        & 0.01078602 & 0.09600358\\\\\n",
       "\t Masculino  & 55419      & 976        & 0.01761129 & 0.08962630\\\\\n",
       "\\end{tabular}\n"
      ],
      "text/markdown": [
       "\n",
       "| Sexo | casos | obitos | mortalidade | pct_comorbidade |\n",
       "|---|---|---|---|---|\n",
       "| Feminino   | 62581      | 675        | 0.01078602 | 0.09600358 |\n",
       "| Masculino  | 55419      | 976        | 0.01761129 | 0.08962630 |\n",
       "\n"
      ],
      "text/plain": [
       "  Sexo      casos obitos mortalidade pct_comorbidade\n",
       "1 Feminino  62581 675    0.01078602  0.09600358     \n",
       "2 Masculino 55419 976    0.01761129  0.08962630     "
      ]
     },
     "metadata": {},
     "output_type": "display_data"
    }
   ],
   "source": [
    "df_Sexo <- df %>% \n",
    "  group_by(Sexo) %>%\n",
    "  summarise(casos = n(),\n",
    "            obitos = sum(Obito == \"Sim\"),\n",
    "            mortalidade = obitos / casos,\n",
    "            pct_comorbidade = sum(Comorbidade == 1) / casos\n",
    "            )\n",
    "\n",
    "head(df_Sexo)"
   ]
  },
  {
   "cell_type": "markdown",
   "metadata": {},
   "source": [
    "Gerando o gráfico"
   ]
  },
  {
   "cell_type": "code",
   "execution_count": 28,
   "metadata": {
    "scrolled": true
   },
   "outputs": [
    {
     "name": "stdout",
     "output_type": "stream",
     "text": [
      "[1] \"A mortalidade observada entre as mulheres foi de 1.1%\"\n",
      "[1] \"A mortalidade observada entre os homens foi de 1.8%\"\n",
      "[1] \"A média da amostra completa foi de 1.4%\"\n"
     ]
    },
    {
     "data": {
      "image/png": "[encoded data removed]",
      "text/plain": [
       "plot without title"
      ]
     },
     "metadata": {},
     "output_type": "display_data"
    }
   ],
   "source": [
    "# Mortalidade por grupos\n",
    "print(stringr::str_c(\"A mortalidade observada entre as mulheres foi de \", round(df_Sexo[1, 4] * 100, 1), \"%\"))\n",
    "print(stringr::str_c(\"A mortalidade observada entre os homens foi de \", round(df_Sexo[2, 4] * 100, 1), \"%\"))\n",
    "print(stringr::str_c(\"A média da amostra completa foi de \", \n",
    "                     round( 100 * sum(df_Sexo$obitos) / sum(df_Sexo$casos), 1), \"%\"))\n",
    "\n",
    "# Gráfico de mortalidade\n",
    "df_Sexo %>%\n",
    " ggplot(aes(x = Sexo, y = mortalidade * 100)) +\n",
    " geom_bar(stat = \"identity\", fill = c(\"#fd4343\", \"#00BFC4\")) +\n",
    " geom_text(aes(x = Sexo, y = mortalidade * 100, \n",
    "               label = paste(c(round(mortalidade * 100, 1)), \"%\")), # Rótulo da mortalidade\n",
    "           vjust=-0.5) + # Distância vertical\n",
    " theme_minimal() + # Fundo branco\n",
    " labs(x = NULL, y = NULL,\n",
    "     title = \"Mortalidade por covid-19 no DF por sexo da pessoa\",\n",
    "     subtitle = stringr::str_c(\"Dados até \", last_update),\n",
    "     caption = \"Fonte: SESDF / SSP-DF \\n Elaboração: @stuquer_\") + # Rodapé\n",
    " theme(plot.subtitle = element_text(color=\"black\", face=\"plain\")) # Edita o subtítulo"
   ]
  },
  {
   "cell_type": "markdown",
   "metadata": {},
   "source": [
    "#### Significância estatística da diferença"
   ]
  },
  {
   "cell_type": "markdown",
   "metadata": {},
   "source": [
    "Veremos agora se essa diferença na mortalidade de mulheres e homens é estatisticamente significante. Isso será confirmado se o p-valor do teste de proporções for menor ou igual a 0.1 (10%)."
   ]
  },
  {
   "cell_type": "code",
   "execution_count": 13,
   "metadata": {
    "scrolled": false
   },
   "outputs": [
    {
     "data": {
      "text/plain": [
       "\n",
       "\t2-sample test for equality of proportions without continuity\n",
       "\tcorrection\n",
       "\n",
       "data:  df_Sexo$obitos out of df_Sexo$casos\n",
       "X-squared = 99.246, df = 1, p-value < 2.2e-16\n",
       "alternative hypothesis: two.sided\n",
       "95 percent confidence interval:\n",
       " -0.008186958 -0.005463576\n",
       "sample estimates:\n",
       "    prop 1     prop 2 \n",
       "0.01078602 0.01761129 \n"
      ]
     },
     "metadata": {},
     "output_type": "display_data"
    }
   ],
   "source": [
    "# Teste bicaudal\n",
    "our_test <- prop.test(df_Sexo$obitos, df_Sexo$casos, p = NULL, alternative = \"two.sided\",\n",
    "          correct = FALSE)\n",
    "\n",
    "our_test"
   ]
  },
  {
   "cell_type": "code",
   "execution_count": 14,
   "metadata": {},
   "outputs": [
    {
     "name": "stdout",
     "output_type": "stream",
     "text": [
      "[1] \"De acordo com o p-valor do teste, essa diferença é significante ao nível de 1% (!!!)\"\n"
     ]
    }
   ],
   "source": [
    "if (our_test$p.value > 0.10){\n",
    "    print(\"De acordo com o p-valor do teste, essa diferença não é estatísticamente significante\")\n",
    "} else if (our_test$p.value > 0.05) {\n",
    "    print(\"De acordo com o p-valor do teste, essa diferença é significante ao nível de 10%\")\n",
    "} else if (our_test$p.value > 0.01) {\n",
    "    print(\"De acordo com o p-valor do teste, essa diferença é significante ao nível de 5%\")\n",
    "} else {\n",
    "    print(\"De acordo com o p-valor do teste, essa diferença é significante ao nível de 1% (!!!)\")\n",
    "}"
   ]
  },
  {
   "cell_type": "markdown",
   "metadata": {},
   "source": [
    "### Mortalidade por Região Administrativa"
   ]
  },
  {
   "cell_type": "markdown",
   "metadata": {},
   "source": [
    "Agora, analisaremos os dados agregados por Região Administrativa (RA). Primeiro iremos corrigir o nome das factor Águas Claras e Estrutural, e em seguida vamos agrupar os dados por RA. Por fim, criaremos o gráfico de taxa de mortalidade por RA."
   ]
  },
  {
   "cell_type": "code",
   "execution_count": 15,
   "metadata": {},
   "outputs": [
    {
     "data": {
      "text/html": [
       "<table>\n",
       "<thead><tr><th scope=col>RA</th><th scope=col>casos</th><th scope=col>obitos</th><th scope=col>mortalidade</th><th scope=col>pct_comorbidade</th><th scope=col>pct_mulheres</th><th scope=col>pct_homens</th></tr></thead>\n",
       "<tbody>\n",
       "\t<tr><td>Aguas Claras  </td><td> 5129         </td><td> 39           </td><td>0.007603821   </td><td>0.05459154    </td><td>0.5254436     </td><td>0.4745564     </td></tr>\n",
       "\t<tr><td>Arniqueira    </td><td>  410         </td><td>  7           </td><td>0.017073171   </td><td>0.09756098    </td><td>0.5195122     </td><td>0.4804878     </td></tr>\n",
       "\t<tr><td>Brazlândia    </td><td> 1511         </td><td> 30           </td><td>0.019854401   </td><td>0.16015884    </td><td>0.5499669     </td><td>0.4500331     </td></tr>\n",
       "\t<tr><td>Candangolândia</td><td>  744         </td><td> 11           </td><td>0.014784946   </td><td>0.13844086    </td><td>0.5752688     </td><td>0.4247312     </td></tr>\n",
       "\t<tr><td>Ceilândia     </td><td>14043         </td><td>305           </td><td>0.021719006   </td><td>0.11678416    </td><td>0.5522324     </td><td>0.4477676     </td></tr>\n",
       "\t<tr><td>Cruzeiro      </td><td> 1046         </td><td> 10           </td><td>0.009560229   </td><td>0.08891013    </td><td>0.5296367     </td><td>0.4703633     </td></tr>\n",
       "</tbody>\n",
       "</table>\n"
      ],
      "text/latex": [
       "\\begin{tabular}{r|lllllll}\n",
       " RA & casos & obitos & mortalidade & pct\\_comorbidade & pct\\_mulheres & pct\\_homens\\\\\n",
       "\\hline\n",
       "\t Aguas Claras   &  5129          &  39            & 0.007603821    & 0.05459154     & 0.5254436      & 0.4745564     \\\\\n",
       "\t Arniqueira     &   410          &   7            & 0.017073171    & 0.09756098     & 0.5195122      & 0.4804878     \\\\\n",
       "\t Brazlândia     &  1511          &  30            & 0.019854401    & 0.16015884     & 0.5499669      & 0.4500331     \\\\\n",
       "\t Candangolândia &   744          &  11            & 0.014784946    & 0.13844086     & 0.5752688      & 0.4247312     \\\\\n",
       "\t Ceilândia      & 14043          & 305            & 0.021719006    & 0.11678416     & 0.5522324      & 0.4477676     \\\\\n",
       "\t Cruzeiro       &  1046          &  10            & 0.009560229    & 0.08891013     & 0.5296367      & 0.4703633     \\\\\n",
       "\\end{tabular}\n"
      ],
      "text/markdown": [
       "\n",
       "| RA | casos | obitos | mortalidade | pct_comorbidade | pct_mulheres | pct_homens |\n",
       "|---|---|---|---|---|---|---|\n",
       "| Aguas Claras   |  5129          |  39            | 0.007603821    | 0.05459154     | 0.5254436      | 0.4745564      |\n",
       "| Arniqueira     |   410          |   7            | 0.017073171    | 0.09756098     | 0.5195122      | 0.4804878      |\n",
       "| Brazlândia     |  1511          |  30            | 0.019854401    | 0.16015884     | 0.5499669      | 0.4500331      |\n",
       "| Candangolândia |   744          |  11            | 0.014784946    | 0.13844086     | 0.5752688      | 0.4247312      |\n",
       "| Ceilândia      | 14043          | 305            | 0.021719006    | 0.11678416     | 0.5522324      | 0.4477676      |\n",
       "| Cruzeiro       |  1046          |  10            | 0.009560229    | 0.08891013     | 0.5296367      | 0.4703633      |\n",
       "\n"
      ],
      "text/plain": [
       "  RA             casos obitos mortalidade pct_comorbidade pct_mulheres\n",
       "1 Aguas Claras    5129  39    0.007603821 0.05459154      0.5254436   \n",
       "2 Arniqueira       410   7    0.017073171 0.09756098      0.5195122   \n",
       "3 Brazlândia      1511  30    0.019854401 0.16015884      0.5499669   \n",
       "4 Candangolândia   744  11    0.014784946 0.13844086      0.5752688   \n",
       "5 Ceilândia      14043 305    0.021719006 0.11678416      0.5522324   \n",
       "6 Cruzeiro        1046  10    0.009560229 0.08891013      0.5296367   \n",
       "  pct_homens\n",
       "1 0.4745564 \n",
       "2 0.4804878 \n",
       "3 0.4500331 \n",
       "4 0.4247312 \n",
       "5 0.4477676 \n",
       "6 0.4703633 "
      ]
     },
     "metadata": {},
     "output_type": "display_data"
    }
   ],
   "source": [
    "# Retira o acento de \"Águas Claras\", para evitar problemas com ordem alfabética\n",
    "df <- df %>%\n",
    "  mutate(RA = ifelse(RA == \"Águas Claras\", \"Aguas Claras\", RA),\n",
    "         RA = ifelse(RA == \"SCIA\", \"Estrutural\", RA), # Estrutural constava como SCIA\n",
    "         RA = as.factor(RA))\n",
    "\n",
    "# Agrupa os dados por RA\n",
    "df_RA <- df %>% \n",
    "  group_by(RA) %>%\n",
    "  summarise(casos = n(),\n",
    "            obitos = sum(Obito == \"Sim\"),\n",
    "            mortalidade = obitos / casos,\n",
    "            pct_comorbidade = sum(Comorbidade == 1) / casos,\n",
    "            pct_mulheres = sum(Sexo == \"Feminino\")/casos,\n",
    "            pct_homens = 1 - pct_mulheres\n",
    "            )\n",
    "\n",
    "head(df_RA)"
   ]
  },
  {
   "cell_type": "markdown",
   "metadata": {},
   "source": [
    "Gerando agora o gráfico de mortalidade por Região Administrativa, excluídos os casos em que essa informação consta como \"Não Informado\" ou \"Outros Estados\""
   ]
  },
  {
   "cell_type": "code",
   "execution_count": 41,
   "metadata": {
    "scrolled": true
   },
   "outputs": [
    {
     "data": {
      "image/png": "[encoded data removed]",
      "text/plain": [
       "plot without title"
      ]
     },
     "metadata": {},
     "output_type": "display_data"
    }
   ],
   "source": [
    "df_RA %>%\n",
    " filter(RA != \"Não Informado\", RA != \"Outros Estados\") %>%\n",
    " ggplot(aes(x = reorder(RA, mortalidade), y = mortalidade * 100)) +\n",
    " geom_bar(stat = \"identity\", fill = \"red\") +\n",
    " geom_hline(yintercept=(100* sum(df$Obito == \"Sim\") / nrow(df)), linetype=\"dashed\", color = \"black\") + # Linha da média\n",
    " coord_flip() +  # Deixa o gráfico na horizontal\n",
    " theme_minimal() + # Fundo branco\n",
    " theme(plot.title = element_text(face = \"bold\")) + # Título em negrito\n",
    " labs(x = NULL, y = NULL,\n",
    "      title = \"Mortalidade em casos de covid-19 no DF (em %)\",\n",
    "      subtitle = stringr::str_c(\"Dados até \", last_update),\n",
    "      caption = \"Fonte: SESDF / SSP-DF \\n Elaboração: @stuquer_\") # Rodapé"
   ]
  },
  {
   "cell_type": "markdown",
   "metadata": {},
   "source": [
    "### Evolução dos novos casos"
   ]
  },
  {
   "cell_type": "markdown",
   "metadata": {},
   "source": [
    "Para concluir, faremos o agrupamento por dias."
   ]
  },
  {
   "cell_type": "code",
   "execution_count": 17,
   "metadata": {},
   "outputs": [
    {
     "data": {
      "text/html": [
       "<table>\n",
       "<thead><tr><th scope=col>DataCadastro</th><th scope=col>casos</th><th scope=col>obitos</th></tr></thead>\n",
       "<tbody>\n",
       "\t<tr><td>2020-03-01</td><td> 1        </td><td>0         </td></tr>\n",
       "\t<tr><td>2020-03-16</td><td> 1        </td><td>0         </td></tr>\n",
       "\t<tr><td>2020-03-17</td><td> 1        </td><td>0         </td></tr>\n",
       "\t<tr><td>2020-03-18</td><td>22        </td><td>0         </td></tr>\n",
       "\t<tr><td>2020-03-19</td><td>41        </td><td>0         </td></tr>\n",
       "\t<tr><td>2020-03-20</td><td>20        </td><td>0         </td></tr>\n",
       "</tbody>\n",
       "</table>\n"
      ],
      "text/latex": [
       "\\begin{tabular}{r|lll}\n",
       " DataCadastro & casos & obitos\\\\\n",
       "\\hline\n",
       "\t 2020-03-01 &  1         & 0         \\\\\n",
       "\t 2020-03-16 &  1         & 0         \\\\\n",
       "\t 2020-03-17 &  1         & 0         \\\\\n",
       "\t 2020-03-18 & 22         & 0         \\\\\n",
       "\t 2020-03-19 & 41         & 0         \\\\\n",
       "\t 2020-03-20 & 20         & 0         \\\\\n",
       "\\end{tabular}\n"
      ],
      "text/markdown": [
       "\n",
       "| DataCadastro | casos | obitos |\n",
       "|---|---|---|\n",
       "| 2020-03-01 |  1         | 0          |\n",
       "| 2020-03-16 |  1         | 0          |\n",
       "| 2020-03-17 |  1         | 0          |\n",
       "| 2020-03-18 | 22         | 0          |\n",
       "| 2020-03-19 | 41         | 0          |\n",
       "| 2020-03-20 | 20         | 0          |\n",
       "\n"
      ],
      "text/plain": [
       "  DataCadastro casos obitos\n",
       "1 2020-03-01    1    0     \n",
       "2 2020-03-16    1    0     \n",
       "3 2020-03-17    1    0     \n",
       "4 2020-03-18   22    0     \n",
       "5 2020-03-19   41    0     \n",
       "6 2020-03-20   20    0     "
      ]
     },
     "metadata": {},
     "output_type": "display_data"
    }
   ],
   "source": [
    "# Estatísticas agregadas por data\n",
    "df_Data <- df %>% \n",
    "  group_by(DataCadastro) %>%\n",
    "  summarise(casos = n(),\n",
    "            obitos = sum(Obito == \"Sim\"))\n",
    "\n",
    "head(df_Data)"
   ]
  },
  {
   "cell_type": "markdown",
   "metadata": {},
   "source": [
    "E finalmente, o gráfico com o número de novos casos por dia, bem como sua média móvel de 14 dias."
   ]
  },
  {
   "cell_type": "code",
   "execution_count": 18,
   "metadata": {},
   "outputs": [
    {
     "name": "stderr",
     "output_type": "stream",
     "text": [
      "Warning message:\n",
      "\"package 'tidyquant' was built under R version 3.6.3\"Loading required package: PerformanceAnalytics\n",
      "Warning message:\n",
      "\"package 'PerformanceAnalytics' was built under R version 3.6.3\"Loading required package: xts\n",
      "Warning message:\n",
      "\"package 'xts' was built under R version 3.6.2\"Loading required package: zoo\n",
      "Warning message:\n",
      "\"package 'zoo' was built under R version 3.6.2\"\n",
      "Attaching package: 'zoo'\n",
      "\n",
      "The following objects are masked from 'package:base':\n",
      "\n",
      "    as.Date, as.Date.numeric\n",
      "\n",
      "\n",
      "Attaching package: 'xts'\n",
      "\n",
      "The following objects are masked from 'package:dplyr':\n",
      "\n",
      "    first, last\n",
      "\n",
      "\n",
      "Attaching package: 'PerformanceAnalytics'\n",
      "\n",
      "The following object is masked from 'package:graphics':\n",
      "\n",
      "    legend\n",
      "\n",
      "Loading required package: quantmod\n",
      "Loading required package: TTR\n",
      "Registered S3 method overwritten by 'quantmod':\n",
      "  method            from\n",
      "  as.zoo.data.frame zoo \n",
      "Version 0.4-0 included new data defaults. See ?getSymbols.\n",
      "== Need to Learn tidyquant? ====================================================\n",
      "Business Science offers a 1-hour course - Learning Lab #9: Performance Analysis & Portfolio Optimization with tidyquant!\n",
      "</> Learn more at: https://university.business-science.io/p/learning-labs-pro </>\n"
     ]
    }
   ],
   "source": [
    "library(tidyquant) # Para médias móveis"
   ]
  },
  {
   "cell_type": "code",
   "execution_count": 19,
   "metadata": {
    "scrolled": true
   },
   "outputs": [
    {
     "name": "stderr",
     "output_type": "stream",
     "text": [
      "Warning message:\n",
      "\"Removed 1 rows containing missing values (position_stack).\""
     ]
    },
    {
     "data": {
      "image/png": "[encoded data removed]",
      "text/plain": [
       "plot without title"
      ]
     },
     "metadata": {},
     "output_type": "display_data"
    }
   ],
   "source": [
    "# Novos casos, com média móvel para os últimos 14 dias\n",
    "df_Data %>%\n",
    "  ggplot(aes(x = DataCadastro, y = casos)) +\n",
    "  geom_bar(stat = \"identity\", fill = \"black\") +\n",
    "  geom_ma(ma_fun = SMA, n = 14, color = \"orangered2\", size = 1.5, linetype = \"solid\") +  # Média móvel\n",
    "  theme_minimal() + # Fundo branco\n",
    "  labs(x = NULL, y = NULL, # sem título pros eixos x e y\n",
    "      title = stringr::str_c(\"Novos casos diários de covid-19 no DF até \", last_update),\n",
    "      caption = \"Fonte: SESDF / SSP-DF \\n Elaboração: @stuquer_\") # Rodapé"
   ]
  }
 ],
 "metadata": {
  "kernelspec": {
   "display_name": "R",
   "language": "R",
   "name": "ir"
  },
  "language_info": {
   "codemirror_mode": "r",
   "file_extension": ".r",
   "mimetype": "text/x-r-source",
   "name": "R",
   "pygments_lexer": "r",
   "version": "3.6.1"
  }
 },
 "nbformat": 4,
 "nbformat_minor": 4
}
