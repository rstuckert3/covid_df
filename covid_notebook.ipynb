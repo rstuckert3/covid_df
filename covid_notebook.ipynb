{
 "cells": [
  {
   "cell_type": "markdown",
   "metadata": {},
   "source": [
    "Autor: Rodrigo Stuckert. Data: 2020-06-23"
   ]
  },
  {
   "cell_type": "markdown",
   "metadata": {},
   "source": [
    "# Análise da Covid-19 no Distrito Federal"
   ]
  },
  {
   "cell_type": "markdown",
   "metadata": {},
   "source": [
    "Este código foi feito para analisar os casos da covid-19 no Distrito Federal (DF). Os dados aqui utilizados são referentes ao dia 2020-07-21 12:00, e foram extraídos a partir da seguinte página: https://covid19.ssp.df.gov.br/extensions/covid19/covid19.html#/"
   ]
  },
  {
   "cell_type": "markdown",
   "metadata": {},
   "source": [
    "Cabe salientar que, a partir do dia 2020-07-09, houve uma alteração na disposição dos dados. Removeu-se o número de identificação de cada pessoa (**id**); adicionou-se uma nova variável, **dataPrimeirosintomas**, indicando o início dos sintomas; e, por fim, substitui-se a variável **Estado de Saúde** por uma **Óbito**, indicando se a pessoa faleceu até aquele dia, ou não. De fato, para fins do painel de dados próprio, a Secretaria de Saúde (SESDF) considera como casos recuperados aqueles em que a pessoa não foi a óbito ou se internou após sete dias do diagnóstico. "
   ]
  },
  {
   "cell_type": "markdown",
   "metadata": {},
   "source": [
    "## Extração dos dados"
   ]
  },
  {
   "cell_type": "markdown",
   "metadata": {},
   "source": [
    "Os pacotes aqui utilizados foram o dplyr e lubridate, para manipulação dos dados, e o ggplot2, para a elaboração dos gráficos. A função \"options(warn = -1)\" desativa as mensagens de aviso do R. Para voltar ao normal, basta usar \"options(warn = 0)\""
   ]
  },
  {
   "cell_type": "code",
   "execution_count": 1,
   "metadata": {},
   "outputs": [
    {
     "name": "stderr",
     "output_type": "stream",
     "text": [
      "\n",
      "Attaching package: 'dplyr'\n",
      "\n",
      "The following objects are masked from 'package:stats':\n",
      "\n",
      "    filter, lag\n",
      "\n",
      "The following objects are masked from 'package:base':\n",
      "\n",
      "    intersect, setdiff, setequal, union\n",
      "\n",
      "\n",
      "Attaching package: 'lubridate'\n",
      "\n",
      "The following object is masked from 'package:base':\n",
      "\n",
      "    date\n",
      "\n",
      "\n",
      "Attaching package: 'gridExtra'\n",
      "\n",
      "The following object is masked from 'package:dplyr':\n",
      "\n",
      "    combine\n",
      "\n"
     ]
    }
   ],
   "source": [
    "options(warn = -1)\n",
    "library(dplyr)\n",
    "library(lubridate) # Manipular datas\n",
    "library(ggplot2)\n",
    "library(gridExtra) # Plotar dois gráficos em uma única imagem\n",
    "options(warn = 0)"
   ]
  },
  {
   "cell_type": "markdown",
   "metadata": {},
   "source": [
    "Os dados estão no arquivo \"dados-abertos.csv\", dentro do diretório \"datasets\". Caso você queira baixar os dados mais recentes, no lugar, substitua essa referência pelo link mencionado abaixo. É importante ter em mente aqui que pode haver problemas de compatibilidade futuramente, caso a Secretaria de Saúde do DF (SESDF) eventualmente altere a disposição dos dados."
   ]
  },
  {
   "cell_type": "code",
   "execution_count": 2,
   "metadata": {
    "scrolled": true
   },
   "outputs": [],
   "source": [
    "#file <- \"https://covid19.ssp.df.gov.br/resources/dados/dados-abertos.csv\"\n",
    "file <- \"datasets/dados-abertos.csv\"\n",
    "df <- data.table::fread(file, encoding = \"UTF-8\", \n",
    "                        col.names = c(\"Data\", \"DataCadastro\", \"Sexo\",\n",
    "                                      \"FaixaEtaria\", \"RA\", \"UF\", \"Obito\", \"DataPrimeirosintomas\",\n",
    "                                      \"Pneumopatia\", \"Nefropatia\", \"DHematologica\",\n",
    "                                      \"DistMetabolico\", \"Imunopressao\", \"Obesidade\",\n",
    "                                      \"Outros\", \"Cardiovasculopatia\"),\n",
    "                        colClasses = list(factor= c(3, 6)) # Colunas Sexo e UF como factors\n",
    "                        )"
   ]
  },
  {
   "cell_type": "markdown",
   "metadata": {},
   "source": [
    "Verificando a importação do arquivo."
   ]
  },
  {
   "cell_type": "code",
   "execution_count": 3,
   "metadata": {
    "scrolled": true
   },
   "outputs": [
    {
     "name": "stdout",
     "output_type": "stream",
     "text": [
      "Classes 'data.table' and 'data.frame':\t84761 obs. of  16 variables:\n",
      " $ Data                : chr  \"21/07/2020\" \"21/07/2020\" \"21/07/2020\" \"21/07/2020\" ...\n",
      " $ DataCadastro        : chr  \"18/03/2020\" \"18/03/2020\" \"18/03/2020\" \"18/03/2020\" ...\n",
      " $ Sexo                : Factor w/ 2 levels \"Feminino\",\"Masculino\": 2 2 2 2 1 1 1 1 2 1 ...\n",
      " $ FaixaEtaria         : chr  \"50 a 59 anos\" \"50 a 59 anos\" \"40 a 49 anos\" \">= 60 anos\" ...\n",
      " $ RA                  : chr  \"Plano Piloto\" \"Lago Sul\" \"Lago Sul\" \"Águas Claras\" ...\n",
      " $ UF                  : Factor w/ 28 levels \"\",\"ACRE\",\"ALAGOAS\",..: 8 8 8 8 8 8 8 8 8 8 ...\n",
      " $ Obito               : chr  \"Não\" \"Não\" \"Não\" \"Não\" ...\n",
      " $ DataPrimeirosintomas: chr  \"23/04/2020\" \"29/03/2020\" \"09/03/2020\" \"14/03/2020\" ...\n",
      " $ Pneumopatia         : chr  \"\" \"Sim\" \"\" \"Não\" ...\n",
      " $ Nefropatia          : chr  \"\" \"Não\" \"\" \"Não\" ...\n",
      " $ DHematologica       : chr  \"\" \"Não\" \"\" \"Não\" ...\n",
      " $ DistMetabolico      : chr  \"\" \"Sim\" \"\" \"Sim\" ...\n",
      " $ Imunopressao        : chr  \"\" \"Não\" \"\" \"Não\" ...\n",
      " $ Obesidade           : chr  \"\" \"Não\" \"\" \"Não\" ...\n",
      " $ Outros              : chr  \"\" \"Não\" \"\" \"Não\" ...\n",
      " $ Cardiovasculopatia  : chr  \"\" \"Não\" \"\" \"Sim\" ...\n",
      " - attr(*, \".internal.selfref\")=<externalptr> \n"
     ]
    },
    {
     "data": {
      "text/html": [
       "<table>\n",
       "<thead><tr><th scope=col>Data</th><th scope=col>DataCadastro</th><th scope=col>Sexo</th><th scope=col>FaixaEtaria</th><th scope=col>RA</th><th scope=col>UF</th><th scope=col>Obito</th><th scope=col>DataPrimeirosintomas</th><th scope=col>Pneumopatia</th><th scope=col>Nefropatia</th><th scope=col>DHematologica</th><th scope=col>DistMetabolico</th><th scope=col>Imunopressao</th><th scope=col>Obesidade</th><th scope=col>Outros</th><th scope=col>Cardiovasculopatia</th></tr></thead>\n",
       "<tbody>\n",
       "\t<tr><td>21/07/2020      </td><td>18/03/2020      </td><td>Masculino       </td><td>50 a 59 anos    </td><td>Plano Piloto    </td><td>DISTRITO FEDERAL</td><td>Não             </td><td>23/04/2020      </td><td>                </td><td>                </td><td>                </td><td>                </td><td>                </td><td>                </td><td>                </td><td>                </td></tr>\n",
       "\t<tr><td>21/07/2020      </td><td>18/03/2020      </td><td>Masculino       </td><td>50 a 59 anos    </td><td>Lago Sul        </td><td>DISTRITO FEDERAL</td><td>Não             </td><td>29/03/2020      </td><td>Sim             </td><td>Não             </td><td>Não             </td><td>Sim             </td><td>Não             </td><td>Não             </td><td>Não             </td><td>Não             </td></tr>\n",
       "\t<tr><td>21/07/2020      </td><td>18/03/2020      </td><td>Masculino       </td><td>40 a 49 anos    </td><td>Lago Sul        </td><td>DISTRITO FEDERAL</td><td>Não             </td><td>09/03/2020      </td><td>                </td><td>                </td><td>                </td><td>                </td><td>                </td><td>                </td><td>                </td><td>                </td></tr>\n",
       "\t<tr><td>21/07/2020                                             </td><td>18/03/2020                                             </td><td>Masculino                                              </td><td><span style=white-space:pre-wrap>&gt;= 60 anos  </span></td><td>Águas Claras                                           </td><td>DISTRITO FEDERAL                                       </td><td>Não                                                    </td><td>14/03/2020                                             </td><td>Não                                                    </td><td>Não                                                    </td><td>Não                                                    </td><td>Sim                                                    </td><td>Não                                                    </td><td>Não                                                    </td><td>Não                                                    </td><td>Sim                                                    </td></tr>\n",
       "\t<tr><td>21/07/2020      </td><td>18/03/2020      </td><td>Feminino        </td><td>20 a 29 anos    </td><td>Plano Piloto    </td><td>DISTRITO FEDERAL</td><td>Não             </td><td>14/03/2020      </td><td>                </td><td>                </td><td>                </td><td>                </td><td>                </td><td>                </td><td>                </td><td>                </td></tr>\n",
       "\t<tr><td>21/07/2020      </td><td>16/03/2020      </td><td>Feminino        </td><td>30 a 39 anos    </td><td>Plano Piloto    </td><td>DISTRITO FEDERAL</td><td>Não             </td><td>16/03/2020      </td><td>                </td><td>                </td><td>                </td><td>                </td><td>                </td><td>                </td><td>                </td><td>                </td></tr>\n",
       "</tbody>\n",
       "</table>\n"
      ],
      "text/latex": [
       "\\begin{tabular}{r|llllllllllllllll}\n",
       " Data & DataCadastro & Sexo & FaixaEtaria & RA & UF & Obito & DataPrimeirosintomas & Pneumopatia & Nefropatia & DHematologica & DistMetabolico & Imunopressao & Obesidade & Outros & Cardiovasculopatia\\\\\n",
       "\\hline\n",
       "\t 21/07/2020       & 18/03/2020       & Masculino        & 50 a 59 anos     & Plano Piloto     & DISTRITO FEDERAL & Não              & 23/04/2020       &                  &                  &                  &                  &                  &                  &                  &                 \\\\\n",
       "\t 21/07/2020       & 18/03/2020       & Masculino        & 50 a 59 anos     & Lago Sul         & DISTRITO FEDERAL & Não              & 29/03/2020       & Sim              & Não              & Não              & Sim              & Não              & Não              & Não              & Não             \\\\\n",
       "\t 21/07/2020       & 18/03/2020       & Masculino        & 40 a 49 anos     & Lago Sul         & DISTRITO FEDERAL & Não              & 09/03/2020       &                  &                  &                  &                  &                  &                  &                  &                 \\\\\n",
       "\t 21/07/2020       & 18/03/2020       & Masculino        & >= 60 anos       & Águas Claras     & DISTRITO FEDERAL & Não              & 14/03/2020       & Não              & Não              & Não              & Sim              & Não              & Não              & Não              & Sim             \\\\\n",
       "\t 21/07/2020       & 18/03/2020       & Feminino         & 20 a 29 anos     & Plano Piloto     & DISTRITO FEDERAL & Não              & 14/03/2020       &                  &                  &                  &                  &                  &                  &                  &                 \\\\\n",
       "\t 21/07/2020       & 16/03/2020       & Feminino         & 30 a 39 anos     & Plano Piloto     & DISTRITO FEDERAL & Não              & 16/03/2020       &                  &                  &                  &                  &                  &                  &                  &                 \\\\\n",
       "\\end{tabular}\n"
      ],
      "text/markdown": [
       "\n",
       "| Data | DataCadastro | Sexo | FaixaEtaria | RA | UF | Obito | DataPrimeirosintomas | Pneumopatia | Nefropatia | DHematologica | DistMetabolico | Imunopressao | Obesidade | Outros | Cardiovasculopatia |\n",
       "|---|---|---|---|---|---|---|---|---|---|---|---|---|---|---|---|\n",
       "| 21/07/2020       | 18/03/2020       | Masculino        | 50 a 59 anos     | Plano Piloto     | DISTRITO FEDERAL | Não              | 23/04/2020       |                  |                  |                  |                  |                  |                  |                  |                  |\n",
       "| 21/07/2020       | 18/03/2020       | Masculino        | 50 a 59 anos     | Lago Sul         | DISTRITO FEDERAL | Não              | 29/03/2020       | Sim              | Não              | Não              | Sim              | Não              | Não              | Não              | Não              |\n",
       "| 21/07/2020       | 18/03/2020       | Masculino        | 40 a 49 anos     | Lago Sul         | DISTRITO FEDERAL | Não              | 09/03/2020       |                  |                  |                  |                  |                  |                  |                  |                  |\n",
       "| 21/07/2020       | 18/03/2020       | Masculino        | >= 60 anos       | Águas Claras     | DISTRITO FEDERAL | Não              | 14/03/2020       | Não              | Não              | Não              | Sim              | Não              | Não              | Não              | Sim              |\n",
       "| 21/07/2020       | 18/03/2020       | Feminino         | 20 a 29 anos     | Plano Piloto     | DISTRITO FEDERAL | Não              | 14/03/2020       |                  |                  |                  |                  |                  |                  |                  |                  |\n",
       "| 21/07/2020       | 16/03/2020       | Feminino         | 30 a 39 anos     | Plano Piloto     | DISTRITO FEDERAL | Não              | 16/03/2020       |                  |                  |                  |                  |                  |                  |                  |                  |\n",
       "\n"
      ],
      "text/plain": [
       "  Data       DataCadastro Sexo      FaixaEtaria  RA           UF              \n",
       "1 21/07/2020 18/03/2020   Masculino 50 a 59 anos Plano Piloto DISTRITO FEDERAL\n",
       "2 21/07/2020 18/03/2020   Masculino 50 a 59 anos Lago Sul     DISTRITO FEDERAL\n",
       "3 21/07/2020 18/03/2020   Masculino 40 a 49 anos Lago Sul     DISTRITO FEDERAL\n",
       "4 21/07/2020 18/03/2020   Masculino >= 60 anos   Águas Claras DISTRITO FEDERAL\n",
       "5 21/07/2020 18/03/2020   Feminino  20 a 29 anos Plano Piloto DISTRITO FEDERAL\n",
       "6 21/07/2020 16/03/2020   Feminino  30 a 39 anos Plano Piloto DISTRITO FEDERAL\n",
       "  Obito DataPrimeirosintomas Pneumopatia Nefropatia DHematologica\n",
       "1 Não   23/04/2020                                               \n",
       "2 Não   29/03/2020           Sim         Não        Não          \n",
       "3 Não   09/03/2020                                               \n",
       "4 Não   14/03/2020           Não         Não        Não          \n",
       "5 Não   14/03/2020                                               \n",
       "6 Não   16/03/2020                                               \n",
       "  DistMetabolico Imunopressao Obesidade Outros Cardiovasculopatia\n",
       "1                                                                \n",
       "2 Sim            Não          Não       Não    Não               \n",
       "3                                                                \n",
       "4 Sim            Não          Não       Não    Sim               \n",
       "5                                                                \n",
       "6                                                                "
      ]
     },
     "metadata": {},
     "output_type": "display_data"
    }
   ],
   "source": [
    "str(df) # Estrutura\n",
    "head(df) # Início\n",
    "# tail(df) # Fim"
   ]
  },
  {
   "cell_type": "markdown",
   "metadata": {},
   "source": [
    "## Tratamento dos dados"
   ]
  },
  {
   "cell_type": "markdown",
   "metadata": {},
   "source": [
    "#### Datas e faixa etária"
   ]
  },
  {
   "cell_type": "markdown",
   "metadata": {},
   "source": [
    "Uma vez que tudo está como deveria, podemos prosseguir com o tratamento dos dados. Primeiro iremos remover a coluna com a data da última atualização daquele dataset, e depois corrigir o formato da data de cadastro dos casos."
   ]
  },
  {
   "cell_type": "code",
   "execution_count": 4,
   "metadata": {},
   "outputs": [
    {
     "data": {
      "text/html": [
       "<ol class=list-inline>\n",
       "\t<li><time datetime=\"2020-03-18\">2020-03-18</time></li>\n",
       "\t<li><time datetime=\"2020-03-18\">2020-03-18</time></li>\n",
       "\t<li><time datetime=\"2020-03-18\">2020-03-18</time></li>\n",
       "\t<li><time datetime=\"2020-03-18\">2020-03-18</time></li>\n",
       "\t<li><time datetime=\"2020-03-18\">2020-03-18</time></li>\n",
       "\t<li><time datetime=\"2020-03-16\">2020-03-16</time></li>\n",
       "</ol>\n"
      ],
      "text/latex": [
       "\\begin{enumerate*}\n",
       "\\item 2020-03-18\n",
       "\\item 2020-03-18\n",
       "\\item 2020-03-18\n",
       "\\item 2020-03-18\n",
       "\\item 2020-03-18\n",
       "\\item 2020-03-16\n",
       "\\end{enumerate*}\n"
      ],
      "text/markdown": [
       "1. 2020-03-18\n",
       "2. 2020-03-18\n",
       "3. 2020-03-18\n",
       "4. 2020-03-18\n",
       "5. 2020-03-18\n",
       "6. 2020-03-16\n",
       "\n",
       "\n"
      ],
      "text/plain": [
       "[1] \"2020-03-18\" \"2020-03-18\" \"2020-03-18\" \"2020-03-18\" \"2020-03-18\"\n",
       "[6] \"2020-03-16\""
      ]
     },
     "metadata": {},
     "output_type": "display_data"
    }
   ],
   "source": [
    "# Pega a data do dataset\n",
    "last_update <- df$Data[1] %>%\n",
    " stringr::str_sub(end = 5) # Cinco PRIMEIROS caracteres\n",
    "\n",
    "# Remove a coluna com a data da última atualização daqueles dados e corrige o formato das demais datas.\n",
    "df <- df %>%\n",
    "    select(-c(\"Data\")) %>%\n",
    "    mutate(DataCadastro = as.Date(DataCadastro, format = '%d/%m/%Y'),\n",
    "          DataPrimeirosintomas = as.Date(DataPrimeirosintomas, format = '%d/%m/%Y'))\n",
    "\n",
    "# Verificando\n",
    "head(df$DataCadastro)"
   ]
  },
  {
   "cell_type": "markdown",
   "metadata": {},
   "source": [
    "Adaptando o nome dos inputs da variável FaixaEtaria para que possamos torná-la uma factor corretamente:"
   ]
  },
  {
   "cell_type": "code",
   "execution_count": 14,
   "metadata": {
    "scrolled": true
   },
   "outputs": [
    {
     "data": {
      "image/png": "[encoded data removed]",
      "text/plain": [
       "plot without title"
      ]
     },
     "metadata": {},
     "output_type": "display_data"
    }
   ],
   "source": [
    "# Corrige os nomes das faixas etárias e torna a variável factor.\n",
    "df <- df %>%\n",
    "  mutate(FaixaEtaria = ifelse(FaixaEtaria == \"<= 19 anos\", \"0 a 19 anos\", FaixaEtaria),\n",
    "         FaixaEtaria = ifelse(FaixaEtaria == \">= 60 anos\", \"60+ anos\", FaixaEtaria),\n",
    "         FaixaEtaria = as.factor(FaixaEtaria))\n",
    "\n",
    "# Plota o gráfico\n",
    "df %>%\n",
    "  ggplot(aes(x = FaixaEtaria, fill = FaixaEtaria), show.legend = FALSE) +\n",
    "  geom_bar() +\n",
    "  scale_fill_brewer(palette = \"Oranges\") +\n",
    "  theme_minimal() +\n",
    "  labs(x = NULL, y = \"Ocorrencias\",\n",
    "      caption = stringr::str_c(\"Fonte: SESDF / SSP-DF \\n Elaboração: @stuquer_\"))"
   ]
  },
  {
   "cell_type": "markdown",
   "metadata": {},
   "source": [
    "#### Comorbidades"
   ]
  },
  {
   "cell_type": "markdown",
   "metadata": {},
   "source": [
    "Devemos ter cautela especial quanto às variáveis de comorbidades. Inicialmente, pessoas com alguma comorbidade recebiam \"Sim\" para aquelas que apresentassem, e \"Não\" para todas as demais, enquanto que quem não apresentasse nenhuma aparecia como NA para todas. Após determinada data, ao que tudo indica, o GDF passou a apenas a categorizar aqueles que apresentassem alguma comorbidade."
   ]
  },
  {
   "cell_type": "markdown",
   "metadata": {},
   "source": [
    "Iremos primeiro transformá-las em números inteiros (1 == \"Sim\", 0 == \"Não\"), e depois criar uma variável \"Tem comorbidade?\", que recebe valor 1 se a pessoa apresentar pelo menos uma comorbidade, e 0 caso contrário. Note aqui que as variáveis de comorbidades correspondem às colunas de 8 a 15 do nosso dataframe."
   ]
  },
  {
   "cell_type": "code",
   "execution_count": 6,
   "metadata": {},
   "outputs": [
    {
     "name": "stdout",
     "output_type": "stream",
     "text": [
      "'data.frame':\t84761 obs. of  9 variables:\n",
      " $ Pneumopatia       : int  0 1 0 0 0 0 0 0 0 0 ...\n",
      " $ Nefropatia        : int  0 0 0 0 0 0 0 0 0 0 ...\n",
      " $ DHematologica     : int  0 0 0 0 0 0 0 0 0 0 ...\n",
      " $ DistMetabolico    : int  0 1 0 1 0 0 0 1 0 0 ...\n",
      " $ Imunopressao      : int  0 0 0 0 0 0 0 1 0 0 ...\n",
      " $ Obesidade         : int  0 0 0 0 0 0 0 1 0 0 ...\n",
      " $ Outros            : int  0 0 0 0 0 0 0 0 0 0 ...\n",
      " $ Cardiovasculopatia: int  0 0 0 1 0 0 0 0 0 0 ...\n",
      " $ Comorbidade       : int  0 1 0 1 0 0 0 1 0 0 ...\n"
     ]
    }
   ],
   "source": [
    "# Bota os valores das comorbidades como binários (Apresenta = 1, não apresenta / NA = 0)\n",
    "# e converte para inteiro.\n",
    "df[, 8:15] <- df[,8:15] %>%\n",
    "  apply(MARGIN = 2, FUN = function(x) ifelse(x == \"Sim\", 1, 0)) %>% # Função lambda\n",
    "  apply(MARGIN = 2, FUN = as.integer) # Margin = 2: aplica a função \"FUN\" às COLUNAS\n",
    "     \n",
    "# Cria a variável \"Tem comorbidade?\", como número inteiro.\n",
    "df <- df %>%  \n",
    "  mutate(Comorbidade = as.integer(case_when(Pneumopatia + Nefropatia + DHematologica + DistMetabolico + Imunopressao + Outros + Cardiovasculopatia > 0 ~ 1, TRUE ~ 0))\n",
    "        )\n",
    "# Confere as variáveis alteradas.    \n",
    "str(df[, 8:16])"
   ]
  },
  {
   "cell_type": "markdown",
   "metadata": {},
   "source": [
    "## Análise exploratória e visualização"
   ]
  },
  {
   "cell_type": "markdown",
   "metadata": {},
   "source": [
    "Agora, seguiremos com a análise exploratória dos dados. Primeiro, geraremos agregações dos dados por categorias de interesse; em seguida, prosseguiremos com a elaboração de gráficos."
   ]
  },
  {
   "cell_type": "markdown",
   "metadata": {},
   "source": [
    "### Representação dos óbitos por faixa etária"
   ]
  },
  {
   "cell_type": "code",
   "execution_count": 7,
   "metadata": {
    "scrolled": true
   },
   "outputs": [
    {
     "data": {
      "image/png": "[encoded data removed]",
      "text/plain": [
       "plot without title"
      ]
     },
     "metadata": {},
     "output_type": "display_data"
    }
   ],
   "source": [
    "# Agrupa os dados por Faixa Etária e por Óbito (\"Sim\" ou \"Não\")\n",
    "grouped_by_FxEtaria <- df %>% \n",
    "  group_by(Obito, FaixaEtaria) %>%\n",
    "  summarise(casos = n(),\n",
    "            num_obitos = sum(Obito == \"Sim\"),\n",
    "            pct_obitos = num_obitos / sum(df$Obito == \"Sim\"),\n",
    "            mortalidade = num_obitos / casos,\n",
    "            pct_comorbidade = sum(Comorbidade == 1) / casos,\n",
    "            pct_mulheres = sum(Sexo == \"Feminino\")/casos,\n",
    "            pct_homens = 1 - pct_mulheres\n",
    "  ) %>%\n",
    "  mutate(perc = round(100 * (casos / sum(casos)), 1)) # Qual o % daquela faixa etária entre as categorias da variável Óbito\n",
    "\n",
    "\n",
    "# Representação percentual de cada faixa etária entre os óbitos\n",
    "fx1 <- grouped_by_FxEtaria %>%\n",
    " filter(Obito == \"Sim\") %>%\n",
    " ggplot(aes(x = FaixaEtaria,\n",
    "            weight = 100 * casos/sum(casos), \n",
    "            fill = FaixaEtaria)) +\n",
    " geom_bar(show.legend = FALSE) +\n",
    " scale_fill_brewer(palette = \"Oranges\") +\n",
    " coord_flip() +\n",
    " theme_minimal() +\n",
    " labs(x = NULL, y = NULL)\n",
    "\n",
    "\n",
    "# TRATAR\n",
    "#my_labels <- as.character(100 * grouped_by_FxEtaria$casos / sum(grouped_by_FxEtaria$casos))\n",
    "#my_labels\n",
    "\n",
    "\n",
    "# Representação percentual de cada faixa etária na amostra total\n",
    "fx2 <- grouped_by_FxEtaria %>%\n",
    " ggplot(aes(x = FaixaEtaria, fill = FaixaEtaria, weight = 100 * casos/sum(casos)), show.legend = FALSE) +\n",
    " geom_bar(show.legend = FALSE) +\n",
    " scale_fill_brewer(palette = \"Oranges\") +\n",
    " #geom_text(aes(x = FaixaEtaria, y = 100 * casos/sum(casos), \n",
    "               #label = paste(c(round(100 * casos/sum(casos), 1)), \"%\")),\n",
    "           #vjust=0) +\n",
    " coord_flip() +\n",
    " theme_minimal() +\n",
    " labs(x = NULL, y = NULL)\n",
    "\n",
    "\n",
    "# Plotando os dois gráficos juntos (biblioteca gridExtra)\n",
    "#png(\"covid_genero.png\", height=4, width=8, units=\"in\", res=120)\n",
    "grid.arrange(fx1, fx2, nrow=1,\n",
    "            top = stringr::str_c(\"Dados da covid-19 no DF por faixa etária até \", last_update)) # Título\n",
    "#dev.off()"
   ]
  },
  {
   "cell_type": "markdown",
   "metadata": {},
   "source": [
    "### Taxa de mortalidade por gênero"
   ]
  },
  {
   "cell_type": "markdown",
   "metadata": {},
   "source": [
    "Gerando as estatísticas agregadas pelo sexo das pessoas"
   ]
  },
  {
   "cell_type": "code",
   "execution_count": 8,
   "metadata": {},
   "outputs": [
    {
     "data": {
      "text/html": [
       "<table>\n",
       "<thead><tr><th scope=col>Sexo</th><th scope=col>casos</th><th scope=col>obitos</th><th scope=col>mortalidade</th><th scope=col>pct_comorbidade</th></tr></thead>\n",
       "<tbody>\n",
       "\t<tr><td>Feminino  </td><td>44600     </td><td>480       </td><td>0.01076233</td><td>0.10634529</td></tr>\n",
       "\t<tr><td>Masculino </td><td>40161     </td><td>666       </td><td>0.01658325</td><td>0.09760713</td></tr>\n",
       "</tbody>\n",
       "</table>\n"
      ],
      "text/latex": [
       "\\begin{tabular}{r|lllll}\n",
       " Sexo & casos & obitos & mortalidade & pct\\_comorbidade\\\\\n",
       "\\hline\n",
       "\t Feminino   & 44600      & 480        & 0.01076233 & 0.10634529\\\\\n",
       "\t Masculino  & 40161      & 666        & 0.01658325 & 0.09760713\\\\\n",
       "\\end{tabular}\n"
      ],
      "text/markdown": [
       "\n",
       "| Sexo | casos | obitos | mortalidade | pct_comorbidade |\n",
       "|---|---|---|---|---|\n",
       "| Feminino   | 44600      | 480        | 0.01076233 | 0.10634529 |\n",
       "| Masculino  | 40161      | 666        | 0.01658325 | 0.09760713 |\n",
       "\n"
      ],
      "text/plain": [
       "  Sexo      casos obitos mortalidade pct_comorbidade\n",
       "1 Feminino  44600 480    0.01076233  0.10634529     \n",
       "2 Masculino 40161 666    0.01658325  0.09760713     "
      ]
     },
     "metadata": {},
     "output_type": "display_data"
    }
   ],
   "source": [
    "grouped_by_Sexo <- df %>% \n",
    "  group_by(Sexo) %>%\n",
    "  summarise(casos = n(),\n",
    "            obitos = sum(Obito == \"Sim\"),\n",
    "            mortalidade = obitos / casos,\n",
    "            pct_comorbidade = sum(Comorbidade == 1) / casos\n",
    "            )\n",
    "\n",
    "head(grouped_by_Sexo)"
   ]
  },
  {
   "cell_type": "markdown",
   "metadata": {},
   "source": [
    "Gerando o gráfico"
   ]
  },
  {
   "cell_type": "code",
   "execution_count": 9,
   "metadata": {},
   "outputs": [
    {
     "data": {
      "image/png": "[encoded data removed]",
      "text/plain": [
       "plot without title"
      ]
     },
     "metadata": {},
     "output_type": "display_data"
    }
   ],
   "source": [
    "# Gráfico de mortalidade\n",
    "grouped_by_Sexo %>%\n",
    " ggplot(aes(x = Sexo, y = mortalidade * 100)) +\n",
    " geom_bar(stat = \"identity\", fill = c(\"#fd4343\", \"#00BFC4\")) +\n",
    " geom_text(aes(x = Sexo, y = mortalidade * 100, \n",
    "               label = paste(c(round(mortalidade * 100, 1)), \"%\")),\n",
    "           vjust=0) +\n",
    " labs(x = NULL, y = \"Mortalidade (% das ocorrências)\") + # Tira o rótulo do eixo x\n",
    " theme_minimal() # Fundo branco"
   ]
  },
  {
   "cell_type": "markdown",
   "metadata": {},
   "source": [
    "Veremos agora se essa diferença na mortalidade de mulheres e homens é estatisticamente significante. Isso será confirmado se o p-valor do teste for menor ou igual a 0.1 (10%)."
   ]
  },
  {
   "cell_type": "code",
   "execution_count": 10,
   "metadata": {
    "scrolled": true
   },
   "outputs": [
    {
     "data": {
      "text/plain": [
       "\n",
       "\t2-sample test for equality of proportions without continuity\n",
       "\tcorrection\n",
       "\n",
       "data:  grouped_by_Sexo$obitos out of grouped_by_Sexo$casos\n",
       "X-squared = 53.685, df = 1, p-value = 2.354e-13\n",
       "alternative hypothesis: two.sided\n",
       "95 percent confidence interval:\n",
       " -0.007394739 -0.004247102\n",
       "sample estimates:\n",
       "    prop 1     prop 2 \n",
       "0.01076233 0.01658325 \n"
      ]
     },
     "metadata": {},
     "output_type": "display_data"
    }
   ],
   "source": [
    "# Teste bicaudal.\n",
    "our_test <- prop.test(grouped_by_Sexo$obitos, grouped_by_Sexo$casos, p = NULL, alternative = \"two.sided\",\n",
    "          correct = FALSE)\n",
    "\n",
    "our_test"
   ]
  },
  {
   "cell_type": "markdown",
   "metadata": {},
   "source": [
    "### Mortalidade por Região Administrativa"
   ]
  },
  {
   "cell_type": "markdown",
   "metadata": {},
   "source": [
    "Primeiro corrigiremos o nome da factor Águas Claras e depois agruparemos os dados por RA. Em seguida, criaremos o gráfico de taxa de mortalidade por RA, excluídos os casos em que esse dado consta como \"Não Informado\" ou \"Outros Estados\""
   ]
  },
  {
   "cell_type": "code",
   "execution_count": 11,
   "metadata": {
    "scrolled": true
   },
   "outputs": [
    {
     "data": {
      "image/png": "[encoded data removed]",
      "text/plain": [
       "plot without title"
      ]
     },
     "metadata": {},
     "output_type": "display_data"
    }
   ],
   "source": [
    "# Retira o acento de \"Águas Claras\", para evitar problemas com ordem alfabética\n",
    "df <- df %>%\n",
    "  mutate(RA = ifelse(RA == \"Águas Claras\", \"Aguas Claras\", RA),\n",
    "         RA = as.factor(RA)\n",
    "        )\n",
    "\n",
    "# Agrupa os dados por RA\n",
    "grouped_by_RA <- df %>% \n",
    "  group_by(RA) %>%\n",
    "  summarise(casos = n(),\n",
    "            obitos = sum(Obito == \"Sim\"),\n",
    "            mortalidade = obitos / casos,\n",
    "            pct_comorbidade = sum(Comorbidade == 1) / casos,\n",
    "            pct_mulheres = sum(Sexo == \"Feminino\")/casos,\n",
    "            pct_homens = 1 - pct_mulheres\n",
    "            )\n",
    "\n",
    "# Gera o gráfico\n",
    "grouped_by_RA %>%\n",
    " filter(RA != \"Não Informado\", RA != \"Outros Estados\") %>%\n",
    " ggplot(aes(x = reorder(RA, mortalidade), y = mortalidade * 100)) +\n",
    " geom_bar(stat = \"identity\", fill = \"red\") +\n",
    " geom_hline(yintercept=(100* sum(df$Obito == \"Sim\") / nrow(df)), linetype=\"dashed\", color = \"black\") + # Média\n",
    " coord_flip() +  # Deixa o gráfico na horizontal\n",
    " theme_minimal() + # Fundo branco\n",
    " theme(plot.title = element_text(face = \"bold\")) + # Título em negrito\n",
    " labs(x = NULL, y = \"Mortalidade (% das ocorrências)\",\n",
    "      title = \"Mortalidade em casos de covid-19 no DF\",\n",
    "      subtitle = stringr::str_c(\"Dados de \", last_update),\n",
    "      caption = \"Fonte: SESDF / SSP-DF \\n Elaboração: @stuquer_\") # Rodapé"
   ]
  },
  {
   "cell_type": "markdown",
   "metadata": {},
   "source": [
    "### Novos casos"
   ]
  },
  {
   "cell_type": "markdown",
   "metadata": {},
   "source": [
    "Por fim, o gráfico com o número de novos casos por dia, bem como sua média móvel de 14 dias."
   ]
  },
  {
   "cell_type": "code",
   "execution_count": 19,
   "metadata": {
    "scrolled": false
   },
   "outputs": [
    {
     "name": "stderr",
     "output_type": "stream",
     "text": [
      "Warning message:\n",
      "\"Removed 1 rows containing missing values (position_stack).\""
     ]
    },
    {
     "data": {
      "image/png": "[encoded data removed]",
      "text/plain": [
       "plot without title"
      ]
     },
     "metadata": {},
     "output_type": "display_data"
    }
   ],
   "source": [
    "library(tidyquant) # Para médias móveis\n",
    "\n",
    "# Estatísticas agregadas por data\n",
    "grouped_by_Data <- df %>% \n",
    "  group_by(DataCadastro) %>%\n",
    "  summarise(casos = n(),\n",
    "            obitos = sum(Obito == \"Sim\"),\n",
    "            pct_obitos = sum(Obito == \"Sim\") / sum(df$Obito == \"Sim\"),\n",
    "            mortalidade = obitos / casos,\n",
    "            pct_comorbidade = sum(Comorbidade == 1) / casos,\n",
    "            pct_mulheres = sum(Sexo == \"Feminino\")/casos,\n",
    "            pct_homens = 1 - pct_mulheres\n",
    "            )\n",
    "\n",
    "# Novos casos, com média móvel para os últimos 14 dias\n",
    "grouped_by_Data %>%\n",
    "  ggplot(aes(x = DataCadastro, y = casos)) +\n",
    "  geom_bar(stat = \"identity\", fill = \"black\") +\n",
    "  geom_ma(ma_fun = SMA, n = 14, color = \"orangered2\", size = 1.5, linetype = \"solid\") +  \n",
    "  theme_minimal() +\n",
    "  labs(x = NULL, y = NULL, # sem título pro eixo-x\n",
    "      title = stringr::str_c(\"Novos casos diários de covid-19 no DF até \", last_update),\n",
    "      caption = \"Fonte: SESDF / SSP-DF \\n Elaboração: @stuquer_\") # Rodapé"
   ]
  }
 ],
 "metadata": {
  "kernelspec": {
   "display_name": "R",
   "language": "R",
   "name": "ir"
  },
  "language_info": {
   "codemirror_mode": "r",
   "file_extension": ".r",
   "mimetype": "text/x-r-source",
   "name": "R",
   "pygments_lexer": "r",
   "version": "3.6.1"
  }
 },
 "nbformat": 4,
 "nbformat_minor": 4
}
