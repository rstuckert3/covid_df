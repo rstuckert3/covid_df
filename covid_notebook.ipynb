{
 "cells": [
  {
   "cell_type": "markdown",
   "metadata": {},
   "source": [
    "Autor: Rodrigo Stuckert. Data: 2020-06-23"
   ]
  },
  {
   "cell_type": "markdown",
   "metadata": {},
   "source": [
    "# Análise da Covid-19 no Distrito Federal"
   ]
  },
  {
   "cell_type": "markdown",
   "metadata": {},
   "source": [
    "Este código foi feito para analisar os casos da covid-19 no Distrito Federal (DF). Os dados aqui utilizados são referentes ao dia 2020-07-21 12:00, e foram extraídos a partir da seguinte página: https://covid19.ssp.df.gov.br/extensions/covid19/covid19.html#/"
   ]
  },
  {
   "cell_type": "markdown",
   "metadata": {},
   "source": [
    "Cabe salientar que, a partir do dia 2020-07-09, houve uma alteração na disposição dos dados. Removeu-se o número de identificação de cada pessoa (**id**); adicionou-se uma nova variável, **dataPrimeirosintomas**, indicando o início dos sintomas; e, por fim, substitui-se a variável **Estado de Saúde** por uma **Óbito**, indicando se a pessoa faleceu até aquele dia, ou não. De fato, para fins do painel de dados próprio, a Secretaria de Saúde (SESDF) considera como casos recuperados aqueles em que a pessoa não foi a óbito ou se internou após sete dias do diagnóstico. "
   ]
  },
  {
   "cell_type": "markdown",
   "metadata": {},
   "source": [
    "## Extração dos dados"
   ]
  },
  {
   "cell_type": "markdown",
   "metadata": {},
   "source": [
    "Os pacotes aqui utilizados foram o dplyr e lubridate, para manipulação dos dados, e o ggplot2, para a elaboração dos gráficos. A função \"options(warn = -1)\" desativa as mensagens de aviso do R. Para voltar ao normal, basta usar \"options(warn = 0)\""
   ]
  },
  {
   "cell_type": "code",
   "execution_count": 1,
   "metadata": {},
   "outputs": [
    {
     "name": "stderr",
     "output_type": "stream",
     "text": [
      "\n",
      "Attaching package: 'dplyr'\n",
      "\n",
      "The following objects are masked from 'package:stats':\n",
      "\n",
      "    filter, lag\n",
      "\n",
      "The following objects are masked from 'package:base':\n",
      "\n",
      "    intersect, setdiff, setequal, union\n",
      "\n",
      "\n",
      "Attaching package: 'lubridate'\n",
      "\n",
      "The following object is masked from 'package:base':\n",
      "\n",
      "    date\n",
      "\n",
      "\n",
      "Attaching package: 'gridExtra'\n",
      "\n",
      "The following object is masked from 'package:dplyr':\n",
      "\n",
      "    combine\n",
      "\n"
     ]
    }
   ],
   "source": [
    "options(warn = -1)\n",
    "library(dplyr)\n",
    "library(lubridate) # Manipular datas\n",
    "library(forcats) # Ordenar factors\n",
    "library(ggplot2)\n",
    "library(gridExtra) # Plotar dois gráficos em uma única imagem\n",
    "options(warn = 0)"
   ]
  },
  {
   "cell_type": "markdown",
   "metadata": {},
   "source": [
    "Os dados estão no arquivo \"dados-abertos.csv\", dentro do diretório \"datasets\". Caso você queira baixar os dados mais recentes, no lugar, substitua essa referência pelo link mencionado abaixo. É importante ter em mente aqui que pode haver problemas de compatibilidade futuramente, caso a Secretaria de Saúde do DF (SESDF) eventualmente altere a disposição dos dados."
   ]
  },
  {
   "cell_type": "code",
   "execution_count": 2,
   "metadata": {
    "scrolled": true
   },
   "outputs": [],
   "source": [
    "#arquivo <- \"https://covid19.ssp.df.gov.br/resources/dados/dados-abertos.csv\"\n",
    "arquivo <- \"datasets/dados-abertos.csv\"\n",
    "df <- data.table::fread(arquivo, encoding = \"UTF-8\", \n",
    "                        col.names = c(\"Data\", \"DataCadastro\", \"Sexo\",\n",
    "                                      \"FaixaEtaria\", \"RA\", \"UF\", \"Obito\", \"DataPrimeirosintomas\",\n",
    "                                      \"Pneumopatia\", \"Nefropatia\", \"DHematologica\",\n",
    "                                      \"DistMetabolico\", \"Imunopressao\", \"Obesidade\",\n",
    "                                      \"Outros\", \"Cardiovasculopatia\"),\n",
    "                        colClasses = list(factor= c(3, 6)) # Colunas Sexo e UF como factors\n",
    "                        )"
   ]
  },
  {
   "cell_type": "markdown",
   "metadata": {},
   "source": [
    "Verificando a importação do arquivo."
   ]
  },
  {
   "cell_type": "code",
   "execution_count": 3,
   "metadata": {
    "scrolled": true
   },
   "outputs": [
    {
     "name": "stdout",
     "output_type": "stream",
     "text": [
      "Classes 'data.table' and 'data.frame':\t84761 obs. of  16 variables:\n",
      " $ Data                : chr  \"21/07/2020\" \"21/07/2020\" \"21/07/2020\" \"21/07/2020\" ...\n",
      " $ DataCadastro        : chr  \"18/03/2020\" \"18/03/2020\" \"18/03/2020\" \"18/03/2020\" ...\n",
      " $ Sexo                : Factor w/ 2 levels \"Feminino\",\"Masculino\": 2 2 2 2 1 1 1 1 2 1 ...\n",
      " $ FaixaEtaria         : chr  \"50 a 59 anos\" \"50 a 59 anos\" \"40 a 49 anos\" \">= 60 anos\" ...\n",
      " $ RA                  : chr  \"Plano Piloto\" \"Lago Sul\" \"Lago Sul\" \"Águas Claras\" ...\n",
      " $ UF                  : Factor w/ 28 levels \"\",\"ACRE\",\"ALAGOAS\",..: 8 8 8 8 8 8 8 8 8 8 ...\n",
      " $ Obito               : chr  \"Não\" \"Não\" \"Não\" \"Não\" ...\n",
      " $ DataPrimeirosintomas: chr  \"23/04/2020\" \"29/03/2020\" \"09/03/2020\" \"14/03/2020\" ...\n",
      " $ Pneumopatia         : chr  \"\" \"Sim\" \"\" \"Não\" ...\n",
      " $ Nefropatia          : chr  \"\" \"Não\" \"\" \"Não\" ...\n",
      " $ DHematologica       : chr  \"\" \"Não\" \"\" \"Não\" ...\n",
      " $ DistMetabolico      : chr  \"\" \"Sim\" \"\" \"Sim\" ...\n",
      " $ Imunopressao        : chr  \"\" \"Não\" \"\" \"Não\" ...\n",
      " $ Obesidade           : chr  \"\" \"Não\" \"\" \"Não\" ...\n",
      " $ Outros              : chr  \"\" \"Não\" \"\" \"Não\" ...\n",
      " $ Cardiovasculopatia  : chr  \"\" \"Não\" \"\" \"Sim\" ...\n",
      " - attr(*, \".internal.selfref\")=<externalptr> \n"
     ]
    },
    {
     "data": {
      "text/html": [
       "<table>\n",
       "<thead><tr><th scope=col>Data</th><th scope=col>DataCadastro</th><th scope=col>Sexo</th><th scope=col>FaixaEtaria</th><th scope=col>RA</th><th scope=col>UF</th><th scope=col>Obito</th><th scope=col>DataPrimeirosintomas</th><th scope=col>Pneumopatia</th><th scope=col>Nefropatia</th><th scope=col>DHematologica</th><th scope=col>DistMetabolico</th><th scope=col>Imunopressao</th><th scope=col>Obesidade</th><th scope=col>Outros</th><th scope=col>Cardiovasculopatia</th></tr></thead>\n",
       "<tbody>\n",
       "\t<tr><td>21/07/2020      </td><td>18/03/2020      </td><td>Masculino       </td><td>50 a 59 anos    </td><td>Plano Piloto    </td><td>DISTRITO FEDERAL</td><td>Não             </td><td>23/04/2020      </td><td>                </td><td>                </td><td>                </td><td>                </td><td>                </td><td>                </td><td>                </td><td>                </td></tr>\n",
       "\t<tr><td>21/07/2020      </td><td>18/03/2020      </td><td>Masculino       </td><td>50 a 59 anos    </td><td>Lago Sul        </td><td>DISTRITO FEDERAL</td><td>Não             </td><td>29/03/2020      </td><td>Sim             </td><td>Não             </td><td>Não             </td><td>Sim             </td><td>Não             </td><td>Não             </td><td>Não             </td><td>Não             </td></tr>\n",
       "\t<tr><td>21/07/2020      </td><td>18/03/2020      </td><td>Masculino       </td><td>40 a 49 anos    </td><td>Lago Sul        </td><td>DISTRITO FEDERAL</td><td>Não             </td><td>09/03/2020      </td><td>                </td><td>                </td><td>                </td><td>                </td><td>                </td><td>                </td><td>                </td><td>                </td></tr>\n",
       "\t<tr><td>21/07/2020                                             </td><td>18/03/2020                                             </td><td>Masculino                                              </td><td><span style=white-space:pre-wrap>&gt;= 60 anos  </span></td><td>Águas Claras                                           </td><td>DISTRITO FEDERAL                                       </td><td>Não                                                    </td><td>14/03/2020                                             </td><td>Não                                                    </td><td>Não                                                    </td><td>Não                                                    </td><td>Sim                                                    </td><td>Não                                                    </td><td>Não                                                    </td><td>Não                                                    </td><td>Sim                                                    </td></tr>\n",
       "\t<tr><td>21/07/2020      </td><td>18/03/2020      </td><td>Feminino        </td><td>20 a 29 anos    </td><td>Plano Piloto    </td><td>DISTRITO FEDERAL</td><td>Não             </td><td>14/03/2020      </td><td>                </td><td>                </td><td>                </td><td>                </td><td>                </td><td>                </td><td>                </td><td>                </td></tr>\n",
       "\t<tr><td>21/07/2020      </td><td>16/03/2020      </td><td>Feminino        </td><td>30 a 39 anos    </td><td>Plano Piloto    </td><td>DISTRITO FEDERAL</td><td>Não             </td><td>16/03/2020      </td><td>                </td><td>                </td><td>                </td><td>                </td><td>                </td><td>                </td><td>                </td><td>                </td></tr>\n",
       "</tbody>\n",
       "</table>\n"
      ],
      "text/latex": [
       "\\begin{tabular}{r|llllllllllllllll}\n",
       " Data & DataCadastro & Sexo & FaixaEtaria & RA & UF & Obito & DataPrimeirosintomas & Pneumopatia & Nefropatia & DHematologica & DistMetabolico & Imunopressao & Obesidade & Outros & Cardiovasculopatia\\\\\n",
       "\\hline\n",
       "\t 21/07/2020       & 18/03/2020       & Masculino        & 50 a 59 anos     & Plano Piloto     & DISTRITO FEDERAL & Não              & 23/04/2020       &                  &                  &                  &                  &                  &                  &                  &                 \\\\\n",
       "\t 21/07/2020       & 18/03/2020       & Masculino        & 50 a 59 anos     & Lago Sul         & DISTRITO FEDERAL & Não              & 29/03/2020       & Sim              & Não              & Não              & Sim              & Não              & Não              & Não              & Não             \\\\\n",
       "\t 21/07/2020       & 18/03/2020       & Masculino        & 40 a 49 anos     & Lago Sul         & DISTRITO FEDERAL & Não              & 09/03/2020       &                  &                  &                  &                  &                  &                  &                  &                 \\\\\n",
       "\t 21/07/2020       & 18/03/2020       & Masculino        & >= 60 anos       & Águas Claras     & DISTRITO FEDERAL & Não              & 14/03/2020       & Não              & Não              & Não              & Sim              & Não              & Não              & Não              & Sim             \\\\\n",
       "\t 21/07/2020       & 18/03/2020       & Feminino         & 20 a 29 anos     & Plano Piloto     & DISTRITO FEDERAL & Não              & 14/03/2020       &                  &                  &                  &                  &                  &                  &                  &                 \\\\\n",
       "\t 21/07/2020       & 16/03/2020       & Feminino         & 30 a 39 anos     & Plano Piloto     & DISTRITO FEDERAL & Não              & 16/03/2020       &                  &                  &                  &                  &                  &                  &                  &                 \\\\\n",
       "\\end{tabular}\n"
      ],
      "text/markdown": [
       "\n",
       "| Data | DataCadastro | Sexo | FaixaEtaria | RA | UF | Obito | DataPrimeirosintomas | Pneumopatia | Nefropatia | DHematologica | DistMetabolico | Imunopressao | Obesidade | Outros | Cardiovasculopatia |\n",
       "|---|---|---|---|---|---|---|---|---|---|---|---|---|---|---|---|\n",
       "| 21/07/2020       | 18/03/2020       | Masculino        | 50 a 59 anos     | Plano Piloto     | DISTRITO FEDERAL | Não              | 23/04/2020       |                  |                  |                  |                  |                  |                  |                  |                  |\n",
       "| 21/07/2020       | 18/03/2020       | Masculino        | 50 a 59 anos     | Lago Sul         | DISTRITO FEDERAL | Não              | 29/03/2020       | Sim              | Não              | Não              | Sim              | Não              | Não              | Não              | Não              |\n",
       "| 21/07/2020       | 18/03/2020       | Masculino        | 40 a 49 anos     | Lago Sul         | DISTRITO FEDERAL | Não              | 09/03/2020       |                  |                  |                  |                  |                  |                  |                  |                  |\n",
       "| 21/07/2020       | 18/03/2020       | Masculino        | >= 60 anos       | Águas Claras     | DISTRITO FEDERAL | Não              | 14/03/2020       | Não              | Não              | Não              | Sim              | Não              | Não              | Não              | Sim              |\n",
       "| 21/07/2020       | 18/03/2020       | Feminino         | 20 a 29 anos     | Plano Piloto     | DISTRITO FEDERAL | Não              | 14/03/2020       |                  |                  |                  |                  |                  |                  |                  |                  |\n",
       "| 21/07/2020       | 16/03/2020       | Feminino         | 30 a 39 anos     | Plano Piloto     | DISTRITO FEDERAL | Não              | 16/03/2020       |                  |                  |                  |                  |                  |                  |                  |                  |\n",
       "\n"
      ],
      "text/plain": [
       "  Data       DataCadastro Sexo      FaixaEtaria  RA           UF              \n",
       "1 21/07/2020 18/03/2020   Masculino 50 a 59 anos Plano Piloto DISTRITO FEDERAL\n",
       "2 21/07/2020 18/03/2020   Masculino 50 a 59 anos Lago Sul     DISTRITO FEDERAL\n",
       "3 21/07/2020 18/03/2020   Masculino 40 a 49 anos Lago Sul     DISTRITO FEDERAL\n",
       "4 21/07/2020 18/03/2020   Masculino >= 60 anos   Águas Claras DISTRITO FEDERAL\n",
       "5 21/07/2020 18/03/2020   Feminino  20 a 29 anos Plano Piloto DISTRITO FEDERAL\n",
       "6 21/07/2020 16/03/2020   Feminino  30 a 39 anos Plano Piloto DISTRITO FEDERAL\n",
       "  Obito DataPrimeirosintomas Pneumopatia Nefropatia DHematologica\n",
       "1 Não   23/04/2020                                               \n",
       "2 Não   29/03/2020           Sim         Não        Não          \n",
       "3 Não   09/03/2020                                               \n",
       "4 Não   14/03/2020           Não         Não        Não          \n",
       "5 Não   14/03/2020                                               \n",
       "6 Não   16/03/2020                                               \n",
       "  DistMetabolico Imunopressao Obesidade Outros Cardiovasculopatia\n",
       "1                                                                \n",
       "2 Sim            Não          Não       Não    Não               \n",
       "3                                                                \n",
       "4 Sim            Não          Não       Não    Sim               \n",
       "5                                                                \n",
       "6                                                                "
      ]
     },
     "metadata": {},
     "output_type": "display_data"
    }
   ],
   "source": [
    "str(df) # Estrutura\n",
    "head(df) # Início\n",
    "# tail(df) # Fim"
   ]
  },
  {
   "cell_type": "markdown",
   "metadata": {},
   "source": [
    "## Tratamento dos dados"
   ]
  },
  {
   "cell_type": "markdown",
   "metadata": {},
   "source": [
    "#### Datas e faixa etária"
   ]
  },
  {
   "cell_type": "markdown",
   "metadata": {},
   "source": [
    "Uma vez que tudo está como deveria, podemos prosseguir com o tratamento dos dados. Primeiro iremos remover a coluna com a data da última atualização daquele dataset, e depois corrigir o formato da data de cadastro dos casos."
   ]
  },
  {
   "cell_type": "code",
   "execution_count": 4,
   "metadata": {},
   "outputs": [
    {
     "data": {
      "text/html": [
       "'Date'"
      ],
      "text/latex": [
       "'Date'"
      ],
      "text/markdown": [
       "'Date'"
      ],
      "text/plain": [
       "[1] \"Date\""
      ]
     },
     "metadata": {},
     "output_type": "display_data"
    },
    {
     "data": {
      "text/html": [
       "<ol class=list-inline>\n",
       "\t<li><time datetime=\"2020-03-18\">2020-03-18</time></li>\n",
       "\t<li><time datetime=\"2020-03-18\">2020-03-18</time></li>\n",
       "\t<li><time datetime=\"2020-03-18\">2020-03-18</time></li>\n",
       "\t<li><time datetime=\"2020-03-18\">2020-03-18</time></li>\n",
       "\t<li><time datetime=\"2020-03-18\">2020-03-18</time></li>\n",
       "\t<li><time datetime=\"2020-03-16\">2020-03-16</time></li>\n",
       "</ol>\n"
      ],
      "text/latex": [
       "\\begin{enumerate*}\n",
       "\\item 2020-03-18\n",
       "\\item 2020-03-18\n",
       "\\item 2020-03-18\n",
       "\\item 2020-03-18\n",
       "\\item 2020-03-18\n",
       "\\item 2020-03-16\n",
       "\\end{enumerate*}\n"
      ],
      "text/markdown": [
       "1. 2020-03-18\n",
       "2. 2020-03-18\n",
       "3. 2020-03-18\n",
       "4. 2020-03-18\n",
       "5. 2020-03-18\n",
       "6. 2020-03-16\n",
       "\n",
       "\n"
      ],
      "text/plain": [
       "[1] \"2020-03-18\" \"2020-03-18\" \"2020-03-18\" \"2020-03-18\" \"2020-03-18\"\n",
       "[6] \"2020-03-16\""
      ]
     },
     "metadata": {},
     "output_type": "display_data"
    }
   ],
   "source": [
    "# Pega a data do dataset\n",
    "last_update <- df$Data[1]\n",
    "last_update <- stringr::str_sub(last_update, end = 5)\n",
    "\n",
    "# Remove a coluna com a data da última atualização daqueles dados e corrige o formato das demais datas.\n",
    "df <- df %>%\n",
    "    select(-c(\"Data\")) %>%\n",
    "    mutate(DataCadastro = as.Date(DataCadastro, format = '%d/%m/%Y'),\n",
    "          DataPrimeirosintomas = as.Date(DataPrimeirosintomas, format = '%d/%m/%Y'))\n",
    "\n",
    "# Verificando\n",
    "class(df$DataCadastro)\n",
    "head(df$DataCadastro)"
   ]
  },
  {
   "cell_type": "markdown",
   "metadata": {},
   "source": [
    "Adaptando o nome dos inputs da variável FaixaEtaria para que possamos torná-la uma factor corretamente:"
   ]
  },
  {
   "cell_type": "code",
   "execution_count": 5,
   "metadata": {
    "scrolled": true
   },
   "outputs": [
    {
     "data": {
      "image/png": "[encoded data removed]",
      "text/plain": [
       "plot without title"
      ]
     },
     "metadata": {},
     "output_type": "display_data"
    }
   ],
   "source": [
    "# Corrige os nomes das faixas etárias e torna a variável factor.\n",
    "df <- df %>%\n",
    "  mutate(FaixaEtaria = ifelse(FaixaEtaria == \"<= 19 anos\", \"0 a 19 anos\", FaixaEtaria),\n",
    "         FaixaEtaria = ifelse(FaixaEtaria == \">= 60 anos\", \"60+ anos\", FaixaEtaria),\n",
    "         FaixaEtaria = as.factor(FaixaEtaria))\n",
    "\n",
    "df %>%\n",
    "  ggplot(aes(x = FaixaEtaria, fill = FaixaEtaria)) +\n",
    "  geom_bar() +\n",
    "  scale_fill_brewer(palette=\"RdBu\", direction = -1) +\n",
    "  labs(x = NULL, y = \"Ocorrencias\",\n",
    "      caption = stringr::str_c(\"Fonte: SESDF / SSP-DF \\n Elaboração: @stuquer_\"))"
   ]
  },
  {
   "cell_type": "markdown",
   "metadata": {},
   "source": [
    "#### Comorbidades e óbitos"
   ]
  },
  {
   "cell_type": "markdown",
   "metadata": {},
   "source": [
    "Devemos ter cautela especial quanto às variáveis de comorbidades. Inicialmente, pessoas com alguma comorbidade recebiam \"Sim\" para aquelas que apresentassem, e \"Não\" para todas as demais, enquanto que quem não apresentasse nenhuma aparecia como NA para todas. Após determinada data, o GDF passou a apenas a categorizar aqueles que apresentassem alguma comorbidade."
   ]
  },
  {
   "cell_type": "markdown",
   "metadata": {},
   "source": [
    "Iremos primeiro transformá-las em binários, e depois criar uma variável \"Tem comorbidade?\", que recebe valor 1 se a pessoa apresentar alguma comorbidade, e 0 caso contrário. A variável \"Óbito\" também será convertida em binário."
   ]
  },
  {
   "cell_type": "code",
   "execution_count": 6,
   "metadata": {},
   "outputs": [],
   "source": [
    "# Bota os valores das comorbidades como binários (Apresenta = 1, não apresenta / NA = 0)\n",
    "df <- df %>% \n",
    "  mutate(Pneumopatia = ifelse(Pneumopatia == \"Sim\", 1, 0), \n",
    "         Nefropatia = ifelse(Nefropatia == \"Sim\", 1, 0),\n",
    "         DHematologica = ifelse(DHematologica == \"Sim\", 1, 0),\n",
    "         DistMetabolico = ifelse(DistMetabolico == \"Sim\", 1, 0),\n",
    "         Imunopressao = ifelse(Imunopressao == \"Sim\", 1, 0),\n",
    "         Obesidade = ifelse(Obesidade == \"Sim\", 1, 0),\n",
    "         Outros = ifelse(Outros == \"Sim\", 1, 0),\n",
    "         Cardiovasculopatia = ifelse(Cardiovasculopatia == \"Sim\", 1, 0)\n",
    "  )\n",
    "\n",
    "# Cria a variável \"Tem comorbidade?\"\n",
    "df <- df %>%  \n",
    "  mutate(Comorbidade = as.factor(case_when(Pneumopatia + Nefropatia + DHematologica + DistMetabolico + Imunopressao + Outros + Cardiovasculopatia > 0 ~ 1, TRUE ~ 0)))"
   ]
  },
  {
   "cell_type": "markdown",
   "metadata": {},
   "source": [
    "## Análise exploratória e visualização"
   ]
  },
  {
   "cell_type": "markdown",
   "metadata": {},
   "source": [
    "Agora, seguiremos com a análise exploratória dos dados. Primeiro, geraremos agregações dos dados por categorias de interesse; em seguida, prosseguiremos com a elaboração de gráficos."
   ]
  },
  {
   "cell_type": "markdown",
   "metadata": {},
   "source": [
    "### Representação dos óbitos por faixa etária"
   ]
  },
  {
   "cell_type": "code",
   "execution_count": 7,
   "metadata": {},
   "outputs": [
    {
     "ename": "ERROR",
     "evalue": "Error in sort(., FaixaEtaria): objeto 'FaixaEtaria' não encontrado\n",
     "output_type": "error",
     "traceback": [
      "Error in sort(., FaixaEtaria): objeto 'FaixaEtaria' não encontrado\nTraceback:\n",
      "1. grouped_by_FxEtaria %>% sort(FaixaEtaria) %>% sort(Obito)",
      "2. withVisible(eval(quote(`_fseq`(`_lhs`)), env, env))",
      "3. eval(quote(`_fseq`(`_lhs`)), env, env)",
      "4. eval(quote(`_fseq`(`_lhs`)), env, env)",
      "5. `_fseq`(`_lhs`)",
      "6. freduce(value, `_function_list`)",
      "7. function_list[[i]](value)",
      "8. sort(., FaixaEtaria)"
     ]
    }
   ],
   "source": [
    "# Agrupa os dados por Faixa Etária e por Óbito (\"Sim\" ou \"Não\")\n",
    "grouped_by_FxEtaria <- df %>% \n",
    "  group_by(Obito, FaixaEtaria) %>%\n",
    "  summarise(casos = n(),\n",
    "            num_obitos = sum(Obito == \"Sim\"),\n",
    "            pct_obitos = num_obitos / sum(df$Obito == \"Sim\"),\n",
    "            mortalidade = num_obitos / casos,\n",
    "            pct_comorbidade = sum(Comorbidade == 1) / casos,\n",
    "            pct_mulheres = sum(Sexo == \"Feminino\")/casos,\n",
    "            pct_homens = 1 - pct_mulheres\n",
    "  ) %>%\n",
    "  mutate(perc = round(100 * (casos / sum(casos)), 1)) # Qual o % daquela faixa etária entre as categorias da variável Óbito\n",
    "\n",
    "# Cria a variável \"pct_acumulado\", para o gráfico\n",
    "grouped_by_FxEtaria <- grouped_by_FxEtaria %>%\n",
    " sort(FaixaEtaria) %>% \n",
    " sort(Obito)\n",
    "\n",
    "\n",
    "# Representação percentual de cada faixa etária entre os que foram e os que não foram a óbito\n",
    "grouped_by_FxEtaria %>%\n",
    " ggplot(aes(x = Obito, y = perc, fill = FaixaEtaria)) +\n",
    " geom_bar(stat = \"identity\", position = \"fill\") +\n",
    " scale_fill_brewer(palette=\"RdBu\", direction = -1) +\n",
    " labs(x = \"Óbito?\", y = \"Percentual dentre o nº total\",\n",
    "     caption = stringr::str_c(\"Fonte: SESDF / SSP-DF \\n Elaboração: @stuquer_\")) +\n",
    " geom_text(aes(y = perc/100, label = perc), vjust=1.6, color=\"white\",\n",
    "            position = position_dodge(0), size=3.5)"
   ]
  },
  {
   "cell_type": "markdown",
   "metadata": {},
   "source": [
    "### Taxa de mortalidade por gênero"
   ]
  },
  {
   "cell_type": "code",
   "execution_count": null,
   "metadata": {},
   "outputs": [],
   "source": [
    "# Gera estatísticas agregadas pelo sexo das pessoas\n",
    "grouped_by_Sexo <- df %>% \n",
    "  group_by(Sexo) %>%\n",
    "  summarise(casos = n(),\n",
    "            obitos = sum(Obito == \"Sim\"),\n",
    "            mortalidade = obitos / casos,\n",
    "            pct_comorbidade = sum(Comorbidade == 1) / casos\n",
    "            )\n",
    "\n",
    "# Gráfico de na amostra\n",
    "s1 <- grouped_by_Sexo %>%\n",
    " ggplot(aes(x = Sexo, y = casos)) +\n",
    " geom_bar(stat = \"identity\", fill = c(\"#fd4343\", \"#00BFC4\")) +\n",
    " labs(x = NULL, y = \"Ocorrências\") + # Tira o rótulo do eixo x\n",
    " theme_minimal()\n",
    "\n",
    "\n",
    "\n",
    "# Gráfico de mortalidade\n",
    "s2 <- grouped_by_Sexo %>%\n",
    " ggplot(aes(x = Sexo, y = mortalidade * 100, fill = Sexo)) +\n",
    " scale_fill_manual(values = c(\"#fd4343\", \"#00BFC4\")) +\n",
    " geom_bar(stat = \"identity\") +\n",
    " labs(x = NULL, y = \"Mortalidade (% das ocorrências)\") + # Tira o rótulo do eixo x\n",
    " theme_minimal() # Fundo branco\n",
    "\n",
    "\n",
    "# Plotando os dois gráficos juntos (biblioteca gridExtra)\n",
    "#png(\"covid_genero.png\", height=4, width=8, units=\"in\", res=120)\n",
    "grid.arrange(s1, s2, nrow=1,\n",
    "            top = stringr::str_c(\"Dados da covid-19 no DF por sexo até \", last_update)) # Título\n",
    "#dev.off()"
   ]
  },
  {
   "cell_type": "markdown",
   "metadata": {},
   "source": [
    "### Mortalidade por Região Administrativa"
   ]
  },
  {
   "cell_type": "code",
   "execution_count": null,
   "metadata": {},
   "outputs": [],
   "source": [
    "# Retira o acento de \"Águas Claras\", para evitar problemas com ordem alfabética\n",
    "df <- df %>%\n",
    "  mutate(RA = ifelse(RA == \"Águas Claras\", \"Aguas Claras\", RA),\n",
    "         RA = as.factor(RA)\n",
    "        )\n",
    "\n",
    "# Agrupa os dados por RA\n",
    "grouped_by_RA <- df %>% \n",
    "  group_by(RA) %>%\n",
    "  summarise(casos = n(),\n",
    "            obitos = sum(Obito == \"Sim\"),\n",
    "            mortalidade = obitos / casos,\n",
    "            pct_comorbidade = sum(Comorbidade == 1) / casos,\n",
    "            pct_mulheres = sum(Sexo == \"Feminino\")/casos,\n",
    "            pct_homens = 1 - pct_mulheres\n",
    "            )\n",
    "\n",
    "# Gráfico de taxa de mortalidade por RA, excluídos os \"Não Informado\"\n",
    "grouped_by_RA %>%\n",
    " filter(RA != \"Não Informado\") %>%\n",
    " ggplot(aes(x = reorder(RA, mortalidade), y = mortalidade * 100)) +\n",
    " geom_bar(stat = \"identity\", fill = \"red\") +\n",
    " labs(x = NULL, y = \"Mortalidade (% das ocorrências)\",\n",
    "      title = \"Mortalidade em casos de covid-19 no DF\",\n",
    "      subtitle = stringr::str_c(\"Dados de \", last_update),\n",
    "      caption = \"Fonte: SESDF / SSP-DF \\n Elaboração: @stuquer_\") + # Rodapé\n",
    " coord_flip() +  # Deixa o gráfico na horizontal\n",
    " theme_minimal() + # Fundo branco\n",
    " theme(plot.title = element_text(face = \"bold\")) # Título em negrito"
   ]
  },
  {
   "cell_type": "markdown",
   "metadata": {},
   "source": [
    "### Novos casos"
   ]
  },
  {
   "cell_type": "markdown",
   "metadata": {},
   "source": [
    "Por fim, o gráfico com o número de novos casos por dia."
   ]
  },
  {
   "cell_type": "code",
   "execution_count": null,
   "metadata": {
    "scrolled": true
   },
   "outputs": [],
   "source": [
    "library(tidyquant) # Para médias móveis\n",
    "\n",
    "\n",
    "# Estatísticas agregadas por data\n",
    "grouped_by_Data <- df %>% \n",
    "  group_by(DataCadastro) %>%\n",
    "  summarise(casos = n(),\n",
    "            obitos = sum(Obito == \"Sim\"),\n",
    "            pct_obitos = sum(Obito == \"Sim\") / sum(df$Obito == \"Sim\"),\n",
    "            mortalidade = obitos / casos,\n",
    "            pct_comorbidade = sum(Comorbidade == 1) / casos,\n",
    "            pct_mulheres = sum(Sexo == \"Feminino\")/casos,\n",
    "            pct_homens = 1 - pct_mulheres\n",
    "            )\n",
    "\n",
    "# Novos casos, com média móvel para os últimos 7 dias\n",
    "grouped_by_Data %>%\n",
    "  ggplot(aes(x = DataCadastro, y = casos)) +\n",
    "  geom_bar(stat = \"identity\", fill = \"black\") +\n",
    "  geom_ma(ma_fun = SMA, n = 7, color = \"orangered2\", size = 1.5, linetype = \"solid\") +  \n",
    "  labs(x = NULL, y = \"Novos casos\", # sem título pro eixo-x\n",
    "      title = stringr::str_c(\"Novos casos diários de covid-19 no DF até \", last_update),\n",
    "      caption = \"Fonte: SESDF / SSP-DF \\n Elaboração: @stuquer_\") # Rodapé"
   ]
  }
 ],
 "metadata": {
  "kernelspec": {
   "display_name": "R",
   "language": "R",
   "name": "ir"
  },
  "language_info": {
   "codemirror_mode": "r",
   "file_extension": ".r",
   "mimetype": "text/x-r-source",
   "name": "R",
   "pygments_lexer": "r",
   "version": "3.6.1"
  }
 },
 "nbformat": 4,
 "nbformat_minor": 4
}
