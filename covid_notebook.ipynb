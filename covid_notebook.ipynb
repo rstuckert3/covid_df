{
 "cells": [
  {
   "cell_type": "markdown",
   "metadata": {},
   "source": [
    "Autor: Rodrigo Stuckert. Data: 2020-06-23"
   ]
  },
  {
   "cell_type": "markdown",
   "metadata": {},
   "source": [
    "# Análise da Covid-19 no Distrito Federal"
   ]
  },
  {
   "cell_type": "markdown",
   "metadata": {},
   "source": [
    "Este código foi feito para analisar os casos da covid-19 no Distrito Federal (DF). Os dados aqui utilizados são referentes ao dia 2020-07-21 12:00, e foram extraídos a partir da seguinte página: https://covid19.ssp.df.gov.br/extensions/covid19/covid19.html#/"
   ]
  },
  {
   "cell_type": "markdown",
   "metadata": {},
   "source": [
    "Cabe salientar que, a partir do dia 2020-07-09, houve uma alteração na disposição dos dados. Removeu-se o número de identificação de cada pessoa (**id**); adicionou-se uma nova variável, **dataPrimeirosintomas**, indicando o início dos sintomas; e, por fim, substitui-se a variável **Estado de Saúde** por uma **Óbito**, indicando se a pessoa faleceu até aquele dia, ou não. De fato, para fins do painel de dados próprio, a Secretaria de Saúde (SESDF) considera como casos recuperados aqueles em que a pessoa não foi a óbito ou se internou após sete dias do diagnóstico. "
   ]
  },
  {
   "cell_type": "markdown",
   "metadata": {},
   "source": [
    "## Extração dos dados"
   ]
  },
  {
   "cell_type": "markdown",
   "metadata": {},
   "source": [
    "Os pacotes aqui utilizados foram o dplyr e lubridate, para manipulação dos dados, e o ggplot2, para a elaboração dos gráficos. A função \"options(warn = -1)\" desativa as mensagens de aviso do R. Para voltar ao normal, basta usar \"options(warn = 0)\""
   ]
  },
  {
   "cell_type": "code",
   "execution_count": 11,
   "metadata": {},
   "outputs": [],
   "source": [
    "options(warn = -1)\n",
    "library(dplyr)\n",
    "library(lubridate) # Manipular datas\n",
    "library(forcats) # Ordenar factors\n",
    "library(ggplot2)\n",
    "options(warn = 0)"
   ]
  },
  {
   "cell_type": "markdown",
   "metadata": {},
   "source": [
    "Os dados estão no arquivo \"dados-abertos.csv\", dentro do diretório \"datasets\". Caso você queira baixar os dados mais recentes, no lugar, substitua essa referência pelo link mencionado abaixo. É importante ter em mente aqui que pode haver problemas de compatibilidade futuramente, caso a Secretaria de Saúde do DF (SESDF) eventualmente altere a disposição dos dados."
   ]
  },
  {
   "cell_type": "code",
   "execution_count": 2,
   "metadata": {
    "scrolled": true
   },
   "outputs": [],
   "source": [
    "#link <- \"https://covid19.ssp.df.gov.br/resources/dados/dados-abertos.csv\"\n",
    "arquivo <- \"datasets/dados-abertos.csv\"\n",
    "df <- data.table::fread(arquivo, encoding = \"UTF-8\", \n",
    "                        col.names = c(\"Data\", \"DataCadastro\", \"Sexo\",\n",
    "                                      \"FaixaEtaria\", \"RA\", \"UF\", \"Obito\", \"DataPrimeirosintomas\",\n",
    "                                      \"Pneumopatia\", \"Nefropatia\", \"DHematologica\",\n",
    "                                      \"DistMetabolico\", \"Imunopressao\", \"Obesidade\",\n",
    "                                      \"Outros\", \"Cardiovasculopatia\"),\n",
    "                        colClasses = list(factor= c(3, 6)) # Colunas Sexo e UF como factors\n",
    "                        )"
   ]
  },
  {
   "cell_type": "markdown",
   "metadata": {},
   "source": [
    "Verificando a importação do arquivo."
   ]
  },
  {
   "cell_type": "code",
   "execution_count": 3,
   "metadata": {
    "scrolled": true
   },
   "outputs": [
    {
     "name": "stdout",
     "output_type": "stream",
     "text": [
      "Classes 'data.table' and 'data.frame':\t84761 obs. of  16 variables:\n",
      " $ Data                : chr  \"21/07/2020\" \"21/07/2020\" \"21/07/2020\" \"21/07/2020\" ...\n",
      " $ DataCadastro        : chr  \"18/03/2020\" \"18/03/2020\" \"18/03/2020\" \"18/03/2020\" ...\n",
      " $ Sexo                : Factor w/ 2 levels \"Feminino\",\"Masculino\": 2 2 2 2 1 1 1 1 2 1 ...\n",
      " $ FaixaEtaria         : chr  \"50 a 59 anos\" \"50 a 59 anos\" \"40 a 49 anos\" \">= 60 anos\" ...\n",
      " $ RA                  : chr  \"Plano Piloto\" \"Lago Sul\" \"Lago Sul\" \"Águas Claras\" ...\n",
      " $ UF                  : Factor w/ 28 levels \"\",\"ACRE\",\"ALAGOAS\",..: 8 8 8 8 8 8 8 8 8 8 ...\n",
      " $ Obito               : chr  \"Não\" \"Não\" \"Não\" \"Não\" ...\n",
      " $ DataPrimeirosintomas: chr  \"23/04/2020\" \"29/03/2020\" \"09/03/2020\" \"14/03/2020\" ...\n",
      " $ Pneumopatia         : chr  \"\" \"Sim\" \"\" \"Não\" ...\n",
      " $ Nefropatia          : chr  \"\" \"Não\" \"\" \"Não\" ...\n",
      " $ DHematologica       : chr  \"\" \"Não\" \"\" \"Não\" ...\n",
      " $ DistMetabolico      : chr  \"\" \"Sim\" \"\" \"Sim\" ...\n",
      " $ Imunopressao        : chr  \"\" \"Não\" \"\" \"Não\" ...\n",
      " $ Obesidade           : chr  \"\" \"Não\" \"\" \"Não\" ...\n",
      " $ Outros              : chr  \"\" \"Não\" \"\" \"Não\" ...\n",
      " $ Cardiovasculopatia  : chr  \"\" \"Não\" \"\" \"Sim\" ...\n",
      " - attr(*, \".internal.selfref\")=<externalptr> \n"
     ]
    },
    {
     "data": {
      "text/html": [
       "<table>\n",
       "<thead><tr><th scope=col>Data</th><th scope=col>DataCadastro</th><th scope=col>Sexo</th><th scope=col>FaixaEtaria</th><th scope=col>RA</th><th scope=col>UF</th><th scope=col>Obito</th><th scope=col>DataPrimeirosintomas</th><th scope=col>Pneumopatia</th><th scope=col>Nefropatia</th><th scope=col>DHematologica</th><th scope=col>DistMetabolico</th><th scope=col>Imunopressao</th><th scope=col>Obesidade</th><th scope=col>Outros</th><th scope=col>Cardiovasculopatia</th></tr></thead>\n",
       "<tbody>\n",
       "\t<tr><td>21/07/2020      </td><td>18/03/2020      </td><td>Masculino       </td><td>50 a 59 anos    </td><td>Plano Piloto    </td><td>DISTRITO FEDERAL</td><td>Não             </td><td>23/04/2020      </td><td>                </td><td>                </td><td>                </td><td>                </td><td>                </td><td>                </td><td>                </td><td>                </td></tr>\n",
       "\t<tr><td>21/07/2020      </td><td>18/03/2020      </td><td>Masculino       </td><td>50 a 59 anos    </td><td>Lago Sul        </td><td>DISTRITO FEDERAL</td><td>Não             </td><td>29/03/2020      </td><td>Sim             </td><td>Não             </td><td>Não             </td><td>Sim             </td><td>Não             </td><td>Não             </td><td>Não             </td><td>Não             </td></tr>\n",
       "\t<tr><td>21/07/2020      </td><td>18/03/2020      </td><td>Masculino       </td><td>40 a 49 anos    </td><td>Lago Sul        </td><td>DISTRITO FEDERAL</td><td>Não             </td><td>09/03/2020      </td><td>                </td><td>                </td><td>                </td><td>                </td><td>                </td><td>                </td><td>                </td><td>                </td></tr>\n",
       "\t<tr><td>21/07/2020                                             </td><td>18/03/2020                                             </td><td>Masculino                                              </td><td><span style=white-space:pre-wrap>&gt;= 60 anos  </span></td><td>Águas Claras                                           </td><td>DISTRITO FEDERAL                                       </td><td>Não                                                    </td><td>14/03/2020                                             </td><td>Não                                                    </td><td>Não                                                    </td><td>Não                                                    </td><td>Sim                                                    </td><td>Não                                                    </td><td>Não                                                    </td><td>Não                                                    </td><td>Sim                                                    </td></tr>\n",
       "\t<tr><td>21/07/2020      </td><td>18/03/2020      </td><td>Feminino        </td><td>20 a 29 anos    </td><td>Plano Piloto    </td><td>DISTRITO FEDERAL</td><td>Não             </td><td>14/03/2020      </td><td>                </td><td>                </td><td>                </td><td>                </td><td>                </td><td>                </td><td>                </td><td>                </td></tr>\n",
       "\t<tr><td>21/07/2020      </td><td>16/03/2020      </td><td>Feminino        </td><td>30 a 39 anos    </td><td>Plano Piloto    </td><td>DISTRITO FEDERAL</td><td>Não             </td><td>16/03/2020      </td><td>                </td><td>                </td><td>                </td><td>                </td><td>                </td><td>                </td><td>                </td><td>                </td></tr>\n",
       "</tbody>\n",
       "</table>\n"
      ],
      "text/latex": [
       "\\begin{tabular}{r|llllllllllllllll}\n",
       " Data & DataCadastro & Sexo & FaixaEtaria & RA & UF & Obito & DataPrimeirosintomas & Pneumopatia & Nefropatia & DHematologica & DistMetabolico & Imunopressao & Obesidade & Outros & Cardiovasculopatia\\\\\n",
       "\\hline\n",
       "\t 21/07/2020       & 18/03/2020       & Masculino        & 50 a 59 anos     & Plano Piloto     & DISTRITO FEDERAL & Não              & 23/04/2020       &                  &                  &                  &                  &                  &                  &                  &                 \\\\\n",
       "\t 21/07/2020       & 18/03/2020       & Masculino        & 50 a 59 anos     & Lago Sul         & DISTRITO FEDERAL & Não              & 29/03/2020       & Sim              & Não              & Não              & Sim              & Não              & Não              & Não              & Não             \\\\\n",
       "\t 21/07/2020       & 18/03/2020       & Masculino        & 40 a 49 anos     & Lago Sul         & DISTRITO FEDERAL & Não              & 09/03/2020       &                  &                  &                  &                  &                  &                  &                  &                 \\\\\n",
       "\t 21/07/2020       & 18/03/2020       & Masculino        & >= 60 anos       & Águas Claras     & DISTRITO FEDERAL & Não              & 14/03/2020       & Não              & Não              & Não              & Sim              & Não              & Não              & Não              & Sim             \\\\\n",
       "\t 21/07/2020       & 18/03/2020       & Feminino         & 20 a 29 anos     & Plano Piloto     & DISTRITO FEDERAL & Não              & 14/03/2020       &                  &                  &                  &                  &                  &                  &                  &                 \\\\\n",
       "\t 21/07/2020       & 16/03/2020       & Feminino         & 30 a 39 anos     & Plano Piloto     & DISTRITO FEDERAL & Não              & 16/03/2020       &                  &                  &                  &                  &                  &                  &                  &                 \\\\\n",
       "\\end{tabular}\n"
      ],
      "text/markdown": [
       "\n",
       "| Data | DataCadastro | Sexo | FaixaEtaria | RA | UF | Obito | DataPrimeirosintomas | Pneumopatia | Nefropatia | DHematologica | DistMetabolico | Imunopressao | Obesidade | Outros | Cardiovasculopatia |\n",
       "|---|---|---|---|---|---|---|---|---|---|---|---|---|---|---|---|\n",
       "| 21/07/2020       | 18/03/2020       | Masculino        | 50 a 59 anos     | Plano Piloto     | DISTRITO FEDERAL | Não              | 23/04/2020       |                  |                  |                  |                  |                  |                  |                  |                  |\n",
       "| 21/07/2020       | 18/03/2020       | Masculino        | 50 a 59 anos     | Lago Sul         | DISTRITO FEDERAL | Não              | 29/03/2020       | Sim              | Não              | Não              | Sim              | Não              | Não              | Não              | Não              |\n",
       "| 21/07/2020       | 18/03/2020       | Masculino        | 40 a 49 anos     | Lago Sul         | DISTRITO FEDERAL | Não              | 09/03/2020       |                  |                  |                  |                  |                  |                  |                  |                  |\n",
       "| 21/07/2020       | 18/03/2020       | Masculino        | >= 60 anos       | Águas Claras     | DISTRITO FEDERAL | Não              | 14/03/2020       | Não              | Não              | Não              | Sim              | Não              | Não              | Não              | Sim              |\n",
       "| 21/07/2020       | 18/03/2020       | Feminino         | 20 a 29 anos     | Plano Piloto     | DISTRITO FEDERAL | Não              | 14/03/2020       |                  |                  |                  |                  |                  |                  |                  |                  |\n",
       "| 21/07/2020       | 16/03/2020       | Feminino         | 30 a 39 anos     | Plano Piloto     | DISTRITO FEDERAL | Não              | 16/03/2020       |                  |                  |                  |                  |                  |                  |                  |                  |\n",
       "\n"
      ],
      "text/plain": [
       "  Data       DataCadastro Sexo      FaixaEtaria  RA           UF              \n",
       "1 21/07/2020 18/03/2020   Masculino 50 a 59 anos Plano Piloto DISTRITO FEDERAL\n",
       "2 21/07/2020 18/03/2020   Masculino 50 a 59 anos Lago Sul     DISTRITO FEDERAL\n",
       "3 21/07/2020 18/03/2020   Masculino 40 a 49 anos Lago Sul     DISTRITO FEDERAL\n",
       "4 21/07/2020 18/03/2020   Masculino >= 60 anos   Águas Claras DISTRITO FEDERAL\n",
       "5 21/07/2020 18/03/2020   Feminino  20 a 29 anos Plano Piloto DISTRITO FEDERAL\n",
       "6 21/07/2020 16/03/2020   Feminino  30 a 39 anos Plano Piloto DISTRITO FEDERAL\n",
       "  Obito DataPrimeirosintomas Pneumopatia Nefropatia DHematologica\n",
       "1 Não   23/04/2020                                               \n",
       "2 Não   29/03/2020           Sim         Não        Não          \n",
       "3 Não   09/03/2020                                               \n",
       "4 Não   14/03/2020           Não         Não        Não          \n",
       "5 Não   14/03/2020                                               \n",
       "6 Não   16/03/2020                                               \n",
       "  DistMetabolico Imunopressao Obesidade Outros Cardiovasculopatia\n",
       "1                                                                \n",
       "2 Sim            Não          Não       Não    Não               \n",
       "3                                                                \n",
       "4 Sim            Não          Não       Não    Sim               \n",
       "5                                                                \n",
       "6                                                                "
      ]
     },
     "metadata": {},
     "output_type": "display_data"
    }
   ],
   "source": [
    "str(df) # Estrutura\n",
    "head(df) # Início\n",
    "# tail(df) # Fim"
   ]
  },
  {
   "cell_type": "markdown",
   "metadata": {},
   "source": [
    "## Tratamento dos dados"
   ]
  },
  {
   "cell_type": "markdown",
   "metadata": {},
   "source": [
    "#### Datas e faixa etária"
   ]
  },
  {
   "cell_type": "markdown",
   "metadata": {},
   "source": [
    "Uma vez que tudo está como deveria, podemos prosseguir com o tratamento dos dados. Primeiro iremos remover a data de extração dos dados, e depois corrigir o formato da data de cadastro dos casos."
   ]
  },
  {
   "cell_type": "code",
   "execution_count": 4,
   "metadata": {},
   "outputs": [
    {
     "data": {
      "text/html": [
       "'Date'"
      ],
      "text/latex": [
       "'Date'"
      ],
      "text/markdown": [
       "'Date'"
      ],
      "text/plain": [
       "[1] \"Date\""
      ]
     },
     "metadata": {},
     "output_type": "display_data"
    },
    {
     "data": {
      "text/html": [
       "<ol class=list-inline>\n",
       "\t<li><time datetime=\"2020-03-18\">2020-03-18</time></li>\n",
       "\t<li><time datetime=\"2020-03-18\">2020-03-18</time></li>\n",
       "\t<li><time datetime=\"2020-03-18\">2020-03-18</time></li>\n",
       "\t<li><time datetime=\"2020-03-18\">2020-03-18</time></li>\n",
       "\t<li><time datetime=\"2020-03-18\">2020-03-18</time></li>\n",
       "\t<li><time datetime=\"2020-03-16\">2020-03-16</time></li>\n",
       "</ol>\n"
      ],
      "text/latex": [
       "\\begin{enumerate*}\n",
       "\\item 2020-03-18\n",
       "\\item 2020-03-18\n",
       "\\item 2020-03-18\n",
       "\\item 2020-03-18\n",
       "\\item 2020-03-18\n",
       "\\item 2020-03-16\n",
       "\\end{enumerate*}\n"
      ],
      "text/markdown": [
       "1. 2020-03-18\n",
       "2. 2020-03-18\n",
       "3. 2020-03-18\n",
       "4. 2020-03-18\n",
       "5. 2020-03-18\n",
       "6. 2020-03-16\n",
       "\n",
       "\n"
      ],
      "text/plain": [
       "[1] \"2020-03-18\" \"2020-03-18\" \"2020-03-18\" \"2020-03-18\" \"2020-03-18\"\n",
       "[6] \"2020-03-16\""
      ]
     },
     "metadata": {},
     "output_type": "display_data"
    }
   ],
   "source": [
    "# Pega a data de extração dos dados\n",
    "extraction_date <- df$Data[1] %>%\n",
    "  as.Date(format = '%d/%m/%Y')\n",
    "\n",
    "# Remove a coluna com a data de extração e corrige o formato das demais datas.\n",
    "df <- df %>%\n",
    "    select(-c(\"Data\")) %>%\n",
    "    mutate(DataCadastro = as.Date(DataCadastro, format = '%d/%m/%Y'),\n",
    "          DataPrimeirosintomas = as.Date(DataPrimeirosintomas, format = '%d/%m/%Y'))\n",
    "\n",
    "# Verificando\n",
    "class(df$DataCadastro)\n",
    "head(df$DataCadastro)"
   ]
  },
  {
   "cell_type": "markdown",
   "metadata": {},
   "source": [
    "Adaptando o nome dos inputs da variável FaixaEtaria para que possamos torná-la uma factor corretamente:"
   ]
  },
  {
   "cell_type": "code",
   "execution_count": 5,
   "metadata": {
    "scrolled": true
   },
   "outputs": [
    {
     "data": {
      "image/png": "[encoded data removed]",
      "text/plain": [
       "plot without title"
      ]
     },
     "metadata": {},
     "output_type": "display_data"
    }
   ],
   "source": [
    "# Corrige os nomes das faixas etárias e torna a variável factor.\n",
    "df <- df %>%\n",
    "  mutate(FaixaEtaria = ifelse(FaixaEtaria == \"<= 19 anos\", \"0 a 19 anos\", FaixaEtaria),\n",
    "         FaixaEtaria = ifelse(FaixaEtaria == \">= 60 anos\", \"60+ anos\", FaixaEtaria),\n",
    "         FaixaEtaria = as.factor(FaixaEtaria))\n",
    "\n",
    "df %>%\n",
    "  ggplot(aes(x = FaixaEtaria, fill = FaixaEtaria)) +\n",
    "  geom_bar() +\n",
    "  scale_fill_brewer(palette=\"RdBu\", direction = -1) +\n",
    "  labs(x = \"Faixa Etaria\", y = \"Ocorrencias\")"
   ]
  },
  {
   "cell_type": "markdown",
   "metadata": {},
   "source": [
    "#### Comorbidades e óbitos"
   ]
  },
  {
   "cell_type": "markdown",
   "metadata": {},
   "source": [
    "Devemos ter cautela especial quanto às variáveis de comorbidades. Inicialmente, pessoas com alguma comorbidade recebiam \"Sim\" para aquelas que apresentassem, e \"Não\" para todas as demais, enquanto que quem não apresentasse nenhuma aparecia como NA para todas. Após determinada data, o GDF passou a apenas a categorizar aqueles que apresentassem alguma comorbidade."
   ]
  },
  {
   "cell_type": "markdown",
   "metadata": {},
   "source": [
    "Iremos primeiro transformá-las em binários, e depois criar uma variável \"Tem comorbidade?\", que recebe valor 1 se a pessoa apresentar alguma comorbidade, e 0 caso contrário. A variável \"Óbito\" também será convertida em binário."
   ]
  },
  {
   "cell_type": "code",
   "execution_count": 6,
   "metadata": {},
   "outputs": [],
   "source": [
    "# Bota os valores das comorbidades como binários (Apresenta = 1, não apresenta / NA = 0)\n",
    "df <- df %>% \n",
    "  mutate(Pneumopatia = ifelse(Pneumopatia == \"Sim\", 1, 0), \n",
    "         Nefropatia = ifelse(Nefropatia == \"Sim\", 1, 0),\n",
    "         DHematologica = ifelse(DHematologica == \"Sim\", 1, 0),\n",
    "         DistMetabolico = ifelse(DistMetabolico == \"Sim\", 1, 0),\n",
    "         Imunopressao = ifelse(Imunopressao == \"Sim\", 1, 0),\n",
    "         Obesidade = ifelse(Obesidade == \"Sim\", 1, 0),\n",
    "         Outros = ifelse(Outros == \"Sim\", 1, 0),\n",
    "         Cardiovasculopatia = ifelse(Cardiovasculopatia == \"Sim\", 1, 0)\n",
    "  )\n",
    "\n",
    "# Cria a variável \"Tem comorbidade?\" e transforma a variável Obito em binário\n",
    "df <- df %>%  \n",
    "  mutate(Comorbidade = as.factor(case_when(Pneumopatia + Nefropatia + DHematologica + DistMetabolico + Imunopressao + Outros + Cardiovasculopatia > 0 ~ 1, TRUE ~ 0)),\n",
    "         Obito = ifelse(Obito == \"Sim\", 1, 0)\n",
    "        )"
   ]
  },
  {
   "cell_type": "markdown",
   "metadata": {},
   "source": [
    "## Análise exploratória"
   ]
  },
  {
   "cell_type": "markdown",
   "metadata": {},
   "source": [
    "Agora, seguiremos com a análise exploratória dos dados. Primeiro, geraremos agregações dos dados por categorias de interesse; em seguida, prosseguiremos com a elaboração de gráficos."
   ]
  },
  {
   "cell_type": "markdown",
   "metadata": {},
   "source": [
    "### Estatísticas agregadas"
   ]
  },
  {
   "cell_type": "markdown",
   "metadata": {},
   "source": [
    "Gerando estatísticas agregadas pelas Regiões Administrativas (RA's) do Distrito Federal, por gênero, faixa etária e data:"
   ]
  },
  {
   "cell_type": "code",
   "execution_count": 7,
   "metadata": {},
   "outputs": [],
   "source": [
    "# Gera estatísticas agrupadas...\n",
    "# ... por Região Administrativa do Distrito Federal (RA)\n",
    "df <- df %>%\n",
    "  mutate(RA = ifelse(RA == \"Águas Claras\", \"Aguas Claras\", RA),\n",
    "         RA = as.factor(RA)\n",
    "        )\n",
    "\n",
    "grouped_by_RA <- df %>% \n",
    "  group_by(RA) %>%\n",
    "  summarise(casos = n(),\n",
    "            obitos = sum(Obito == 1),\n",
    "            mortalidade = obitos / casos,\n",
    "            pct_comorbidade = sum(Comorbidade == 1) / casos,\n",
    "            pct_mulheres = sum(Sexo == \"Feminino\")/casos,\n",
    "            pct_homens = 1 - pct_mulheres\n",
    "            )\n",
    "\n",
    "# ... por sexo da pessoa\n",
    "grouped_by_Sexo <- df %>% \n",
    "  group_by(Sexo) %>%\n",
    "  summarise(casos = n(),\n",
    "            obitos = sum(Obito == 1),\n",
    "            mortalidade = obitos / casos,\n",
    "            pct_comorbidade = sum(Comorbidade == 1) / casos\n",
    "            )\n",
    "\n",
    "\n",
    "# ...por data\n",
    "grouped_by_Data <- df %>% \n",
    "  group_by(DataCadastro) %>%\n",
    "  summarise(casos = n(),\n",
    "            obitos = sum(Obito == 1),\n",
    "            pct_obitos = sum(Obito == 1) / sum(df$Obito == 1),\n",
    "            mortalidade = obitos / casos,\n",
    "            pct_comorbidade = sum(Comorbidade == 1) / casos,\n",
    "            pct_mulheres = sum(Sexo == \"Feminino\")/casos,\n",
    "            pct_homens = 1 - pct_mulheres\n",
    "            )"
   ]
  },
  {
   "cell_type": "markdown",
   "metadata": {},
   "source": [
    "### Visualização dos dados"
   ]
  },
  {
   "cell_type": "code",
   "execution_count": 8,
   "metadata": {},
   "outputs": [
    {
     "data": {
      "image/png": "[encoded data removed]",
      "text/plain": [
       "plot without title"
      ]
     },
     "metadata": {},
     "output_type": "display_data"
    }
   ],
   "source": [
    "# Visualização gráfica.\n",
    "df %>%\n",
    " ggplot(aes(x = Obito, fill = FaixaEtaria)) +\n",
    " geom_bar(position = \"fill\") +\n",
    " scale_fill_brewer(palette=\"RdBu\", direction = -1) +\n",
    " labs(x = \"Óbito?\", y = \"Percentual dentre o nº total\")"
   ]
  },
  {
   "cell_type": "code",
   "execution_count": 55,
   "metadata": {},
   "outputs": [
    {
     "data": {
      "image/png": "[encoded data removed]",
      "text/plain": [
       "plot without title"
      ]
     },
     "metadata": {},
     "output_type": "display_data"
    }
   ],
   "source": [
    "grouped_by_RA %>%\n",
    " filter(RA != \"Não Informado\") %>%\n",
    " ggplot(aes(x = reorder(RA, mortalidade), y = mortalidade * 100)) +\n",
    " geom_bar(stat = \"identity\", fill = \"red\") +\n",
    " labs(x = \"Região Administrativa\", y = \"Mortalidade (% das ocorrências)\",\n",
    "      title = \"Mortalidade em casos de covid-19 no DF até 23/07/2020\") +\n",
    " coord_flip() +\n",
    " theme_minimal()"
   ]
  },
  {
   "cell_type": "markdown",
   "metadata": {},
   "source": [
    "Por fim, o gráfico do número de casos por data, como não poderia faltar."
   ]
  },
  {
   "cell_type": "code",
   "execution_count": 10,
   "metadata": {
    "scrolled": true
   },
   "outputs": [
    {
     "name": "stderr",
     "output_type": "stream",
     "text": [
      "Warning message:\n",
      "\"package 'tidyquant' was built under R version 3.6.3\"Loading required package: PerformanceAnalytics\n",
      "Warning message:\n",
      "\"package 'PerformanceAnalytics' was built under R version 3.6.3\"Loading required package: xts\n",
      "Warning message:\n",
      "\"package 'xts' was built under R version 3.6.2\"Loading required package: zoo\n",
      "Warning message:\n",
      "\"package 'zoo' was built under R version 3.6.2\"\n",
      "Attaching package: 'zoo'\n",
      "\n",
      "The following objects are masked from 'package:base':\n",
      "\n",
      "    as.Date, as.Date.numeric\n",
      "\n",
      "\n",
      "Attaching package: 'xts'\n",
      "\n",
      "The following objects are masked from 'package:dplyr':\n",
      "\n",
      "    first, last\n",
      "\n",
      "\n",
      "Attaching package: 'PerformanceAnalytics'\n",
      "\n",
      "The following object is masked from 'package:graphics':\n",
      "\n",
      "    legend\n",
      "\n",
      "Loading required package: quantmod\n",
      "Loading required package: TTR\n",
      "Registered S3 method overwritten by 'quantmod':\n",
      "  method            from\n",
      "  as.zoo.data.frame zoo \n",
      "Version 0.4-0 included new data defaults. See ?getSymbols.\n",
      "== Need to Learn tidyquant? ====================================================\n",
      "Business Science offers a 1-hour course - Learning Lab #9: Performance Analysis & Portfolio Optimization with tidyquant!\n",
      "</> Learn more at: https://university.business-science.io/p/learning-labs-pro </>\n",
      "Warning message:\n",
      "\"Removed 1 rows containing missing values (position_stack).\""
     ]
    },
    {
     "data": {
      "image/png": "[encoded data removed]",
      "text/plain": [
       "plot without title"
      ]
     },
     "metadata": {},
     "output_type": "display_data"
    }
   ],
   "source": [
    "library(tidyquant) # Para médias móveis\n",
    "\n",
    "# Novos casos, com média móvel para os últimos 7 dias\n",
    "grouped_by_Data %>%\n",
    "  #filter(!(UF %in% \"\")) %>%\n",
    "  ggplot(aes(x = DataCadastro, y = casos)) +\n",
    "  geom_bar(stat = \"identity\", fill = \"black\") +\n",
    "  geom_ma(ma_fun = SMA, n = 7, color = \"orangered2\", size = 1.5, linetype = \"solid\") +  \n",
    "  labs(x = \"Data\", y = \"Novos casos\")"
   ]
  }
 ],
 "metadata": {
  "kernelspec": {
   "display_name": "R",
   "language": "R",
   "name": "ir"
  },
  "language_info": {
   "codemirror_mode": "r",
   "file_extension": ".r",
   "mimetype": "text/x-r-source",
   "name": "R",
   "pygments_lexer": "r",
   "version": "3.6.1"
  }
 },
 "nbformat": 4,
 "nbformat_minor": 4
}
